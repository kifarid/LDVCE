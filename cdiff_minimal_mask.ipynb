{
 "cells": [
  {
   "cell_type": "markdown",
   "metadata": {
    "id": "NUmmV5ZvrPbP"
   },
   "source": [
    "# Class-Conditional Synthesis with Latent Diffusion Models"
   ]
  },
  {
   "attachments": {},
   "cell_type": "markdown",
   "metadata": {
    "id": "zh7u8gOx0ivw"
   },
   "source": [
    "## Install all the requirements and Imports\n"
   ]
  },
  {
   "cell_type": "code",
   "execution_count": 1,
   "metadata": {},
   "outputs": [
    {
     "name": "stderr",
     "output_type": "stream",
     "text": [
      "/misc/student/faridk/miniconda3/envs/ldm/lib/python3.8/site-packages/torch/cuda/__init__.py:82: UserWarning: CUDA initialization: Unexpected error from cudaGetDeviceCount(). Did you run some cuda functions before calling NumCudaDevices() that might have already set an error? Error 804: forward compatibility was attempted on non supported HW (Triggered internally at  /opt/conda/conda-bld/pytorch_1646755903507/work/c10/cuda/CUDAFunctions.cpp:112.)\n",
      "  return torch._C._cuda_getDeviceCount() > 0\n"
     ]
    },
    {
     "name": "stdout",
     "output_type": "stream",
     "text": [
      "Failed to initialize NVML: Driver/library version mismatch\n",
      "/misc/student/faridk/stable-diffusion\n"
     ]
    }
   ],
   "source": [
    "import argparse\n",
    "import os\n",
    "import time\n",
    "from copy import deepcopy\n",
    "from itertools import islice\n",
    "\n",
    "import matplotlib.pyplot as plt\n",
    "import numpy as np\n",
    "import PIL\n",
    "import imageio\n",
    "from PIL import Image\n",
    "from tqdm import tqdm, trange\n",
    "from einops import rearrange, repeat\n",
    "\n",
    "import torch\n",
    "from torch import autocast\n",
    "import torch.nn as nn\n",
    "import torch.optim as optim\n",
    "from torch.optim.lr_scheduler import LambdaLR\n",
    "from torch.utils.data import DataLoader\n",
    "\n",
    "import pytorch_lightning as pl\n",
    "from pytorch_lightning import seed_everything\n",
    "\n",
    "from omegaconf import OmegaConf\n",
    "\n",
    "import torchvision\n",
    "from torchvision import transforms, datasets\n",
    "from torchvision.utils import make_grid\n",
    "import torchvision.transforms.functional as tf\n",
    "\n",
    "import kornia.augmentation as K\n",
    "\n",
    "from ldm.util import instantiate_from_config, log_txt_as_img, default, ismap\n",
    "from ldm.modules.diffusionmodules.openaimodel import EncoderUNetModel, UNetModel\n",
    "from src.clipseg.models.clipseg import CLIPDensePredT\n",
    "\n",
    "\n",
    "import sys\n",
    "sys.path.append(\".\")\n",
    "sys.path.append('./taming-transformers')\n",
    "from taming.models import vqgan \n",
    "\n",
    "device = \"cuda:1\" if torch.cuda.is_available() else \"cpu\"\n",
    "!nvidia-smi\n",
    "\n",
    "%cd /misc/student/faridk/stable-diffusion"
   ]
  },
  {
   "cell_type": "code",
   "execution_count": 2,
   "metadata": {},
   "outputs": [
    {
     "data": {
      "text/plain": [
       "'cpu'"
      ]
     },
     "execution_count": 2,
     "metadata": {},
     "output_type": "execute_result"
    }
   ],
   "source": [
    "device"
   ]
  },
  {
   "cell_type": "code",
   "execution_count": 3,
   "metadata": {},
   "outputs": [],
   "source": [
    "from ldm import *"
   ]
  },
  {
   "attachments": {},
   "cell_type": "markdown",
   "metadata": {},
   "source": [
    "## Some Utils\n"
   ]
  },
  {
   "cell_type": "code",
   "execution_count": 30,
   "metadata": {
    "cellView": "form",
    "id": "fnGwQRhtyBhb"
   },
   "outputs": [],
   "source": [
    "#@title loading utils\n",
    "def load_model_from_config(config, ckpt):\n",
    "    print(f\"Loading model from {ckpt}\")\n",
    "    pl_sd = torch.load(ckpt)#, map_location=\"cpu\")\n",
    "    sd = pl_sd[\"state_dict\"]\n",
    "    model = instantiate_from_config(config.model)\n",
    "    m, u = model.load_state_dict(sd, strict=False)\n",
    "    model.to(device) #.cuda()\n",
    "    model.eval()\n",
    "    return model\n",
    "\n",
    "\n",
    "def get_model(cfg_path=\"configs/latent-diffusion/cin256-v2.yaml\", ckpt_path= \"models/ldm/cin256-v2/model.ckpt\"):\n",
    "    config = OmegaConf.load(cfg_path)  \n",
    "    model = load_model_from_config(config, ckpt_path)\n",
    "    return model\n",
    "\n",
    "\n",
    "\n",
    "def chunk(it, size):\n",
    "    it = iter(it)\n",
    "    return iter(lambda: tuple(islice(it, size)), ())\n",
    "\n",
    "\n",
    "def load_img(path):\n",
    "    image = Image.open(path).convert(\"RGB\")\n",
    "    w, h = image.size\n",
    "    print(f\"loaded input image of size ({w}, {h}) from {path}\")\n",
    "    w, h = map(lambda x: x - x % 32, (w, h))  # resize to integer multiple of 32\n",
    "    image = image.resize((256, 256), resample=PIL.Image.LANCZOS)#((w, h), resample=PIL.Image.LANCZOS)\n",
    "    pil_iamge = image\n",
    "    image = np.array(image).astype(np.float32) / 255.0\n",
    "    image = image[None].transpose(0, 3, 1, 2)\n",
    "    image = torch.from_numpy(image)\n",
    "    return image, pil_iamge\n"
   ]
  },
  {
   "cell_type": "code",
   "execution_count": 31,
   "metadata": {},
   "outputs": [],
   "source": [
    "def generate_samples(model, sampler, classes, n_samples_per_class, ddim_steps, scale, init_image=None, t_enc=None, init_latent=None, ccdddim = False, latent_t_0 = True):\n",
    "\n",
    "    all_samples = []\n",
    "    all_probs = []\n",
    "    all_videos = []\n",
    "    \n",
    "    with torch.no_grad():\n",
    "        with model.ema_scope():\n",
    "            tic = time.time()\n",
    "            uc = model.get_learned_conditioning({model.cond_stage_key: torch.tensor(n_samples_per_class*[1000]).to(model.device)})\n",
    "\n",
    "            for class_label in classes:\n",
    "                print(f\"rendering {n_samples_per_class} examples of class '{class_label}' in {ddim_steps} steps and using s={scale:.2f}.\")\n",
    "                xc = torch.tensor(n_samples_per_class*[class_label])\n",
    "                c = model.get_learned_conditioning({model.cond_stage_key: xc.to(model.device)})\n",
    "                if init_latent is not None:\n",
    "                    y=xc.to(model.device)\n",
    "                    z_enc = sampler.stochastic_encode(init_latent, torch.tensor([t_enc]*(n_samples_per_class)).to(device)) if not latent_t_0 else init_latent\n",
    "                    # decode it\n",
    "                    if ccdddim:\n",
    "                        out = sampler.decode(z_enc, c, t_enc, unconditional_guidance_scale=scale, unconditional_conditioning=uc, y=xc.to(model.device), latent_t_0 = latent_t_0)\n",
    "                        samples = out[\"x_dec\"]\n",
    "                        prob = out[\"prob\"]\n",
    "                        vid = out[\"video\"]\n",
    "                        \n",
    "                    else:\n",
    "                        samples = sampler.decode(z_enc, c, t_enc, unconditional_guidance_scale=scale, unconditional_conditioning=uc)\n",
    "\n",
    "                    x_samples = model.decode_first_stage(samples)\n",
    "                    x_samples_ddim = torch.clamp((x_samples + 1.0) / 2.0, min=0.0, max=1.0)\n",
    "\n",
    "                    cat_samples=torch.cat([init_image[:1], x_samples_ddim], dim=0)\n",
    "                else:\n",
    "\n",
    "                    samples_ddim, _ = sampler.sample(S=ddim_steps,\n",
    "                                                    conditioning=c,\n",
    "                                                    batch_size=n_samples_per_class,\n",
    "                                                    shape=[3, 64, 64],\n",
    "                                                    verbose=False,\n",
    "                                                    unconditional_guidance_scale=scale,\n",
    "                                                    unconditional_conditioning=uc, \n",
    "                                                    eta=ddim_eta)\n",
    "\n",
    "                    x_samples_ddim = model.decode_first_stage(samples_ddim)\n",
    "                    x_samples_ddim = torch.clamp((x_samples_ddim+1.0)/2.0, \n",
    "                                                min=0.0, max=1.0)\n",
    "                    cat_samples=x_samples_ddim\n",
    "\n",
    "                all_samples.append(cat_samples)\n",
    "                all_probs.append(prob) if ccdddim and prob is not None else None\n",
    "                all_videos.append(vid) if ccdddim and vid is not None else None\n",
    "\n",
    "\n",
    "    out = {}\n",
    "    out[\"samples\"] = all_samples \n",
    "    out[\"probs\"] = all_probs if len(all_probs) > 0 else None\n",
    "    out[\"videos\"] = all_videos if len(all_videos) > 0 else None\n",
    "    return out"
   ]
  },
  {
   "attachments": {},
   "cell_type": "markdown",
   "metadata": {},
   "source": [
    "## Loading the models"
   ]
  },
  {
   "cell_type": "code",
   "execution_count": 88,
   "metadata": {},
   "outputs": [],
   "source": [
    "# load model\n",
    "# load model\n",
    "model_seg = CLIPDensePredT(version='ViT-B/16', reduce_dim=64)\n",
    "model_seg.eval();\n",
    "model_seg.load_state_dict(torch.load('src/clipseg/weights/rd64-uni.pth', map_location=torch.device('cpu')), strict=False);\n"
   ]
  },
  {
   "cell_type": "code",
   "execution_count": 33,
   "metadata": {},
   "outputs": [
    {
     "name": "stdout",
     "output_type": "stream",
     "text": [
      "Loading model from models/ldm/cin256-v2/model.ckpt\n",
      "LatentDiffusion: Running in eps-prediction mode\n",
      "DiffusionWrapper has 400.92 M params.\n",
      "making attention of type 'vanilla' with 512 in_channels\n",
      "Working with z of shape (1, 3, 64, 64) = 12288 dimensions.\n",
      "making attention of type 'vanilla' with 512 in_channels\n"
     ]
    }
   ],
   "source": [
    "model = get_model()"
   ]
  },
  {
   "cell_type": "code",
   "execution_count": 34,
   "metadata": {
    "colab": {
     "base_uri": "https://localhost:8080/"
    },
    "id": "BPnyd-XUKbfE",
    "outputId": "0fcd10e4-0df2-4ab9-cbf5-f08f4902c954"
   },
   "outputs": [],
   "source": [
    "from ldm.models.diffusion.ddim import DDIMSampler\n",
    "\n",
    "sampler = DDIMSampler(model)"
   ]
  },
  {
   "attachments": {},
   "cell_type": "markdown",
   "metadata": {},
   "source": [
    "## Sampling from the counterfactual sampler\n"
   ]
  },
  {
   "cell_type": "code",
   "execution_count": 35,
   "metadata": {},
   "outputs": [],
   "source": [
    "\"\"\"SAMPLING ONLY.\"\"\"\n",
    "\n",
    "import torch\n",
    "import time\n",
    "import numpy as np\n",
    "from tqdm import tqdm\n",
    "from torch.nn import functional as F\n",
    "from torch import distributions as torchd\n",
    "from functools import partial\n",
    "\n",
    "from ldm.modules.diffusionmodules.util import make_ddim_sampling_parameters, make_ddim_timesteps, noise_like, \\\n",
    "    extract_into_tensor\n",
    "import regex as re"
   ]
  },
  {
   "attachments": {},
   "cell_type": "markdown",
   "metadata": {},
   "source": [
    "### Some utilities "
   ]
  },
  {
   "cell_type": "code",
   "execution_count": 36,
   "metadata": {},
   "outputs": [],
   "source": [
    "#load txt file with mapping from 'data/imagenet_clsidx_to_label.txt'\n",
    "#to get the class names\n",
    "i2h = dict()\n",
    "with open('data/imagenet_clsidx_to_label.txt', \"r\") as f:\n",
    "        lines = f.read().splitlines()\n",
    "        assert len(lines) == 1000\n",
    "\n",
    "        for line in lines:\n",
    "            key, value = line.split(\":\")\n",
    "            i2h[int(key)] = re.sub(r\"^'|',?$\", \"\", value.strip()) #value.strip().strip(\"'\").strip(\",\").strip(\"\\\"\")\n",
    "\n"
   ]
  },
  {
   "cell_type": "code",
   "execution_count": 37,
   "metadata": {},
   "outputs": [],
   "source": [
    "def compute_lp_dist(diff, p):\n",
    "    diff_abs_flat = diff.abs().view(diff.shape[0], -1)\n",
    "    if p == 1.0:\n",
    "        lp_dist = torch.sum(diff_abs_flat, dim=1)\n",
    "    else:\n",
    "        lp_dist = torch.sum(diff_abs_flat ** p, dim=1)\n",
    "    return lp_dist\n",
    "\n",
    "\n",
    "def compute_lp_gradient(diff, p, small_const=1e-12):\n",
    "    if p < 1:\n",
    "        grad_temp = (p * (diff.abs() + small_const) ** (\n",
    "\n",
    "                p - 1)) * diff.sign()\n",
    "    else:\n",
    "        grad_temp = (p * diff.abs() ** (p - 1)) * diff.sign()\n",
    "    return grad_temp\n",
    "\n",
    "\n",
    "def _renormalize_gradient(grad, eps, small_const=1e-22):\n",
    "\n",
    "    grad_norm = grad.view(grad.shape[0], -1).norm(p=2, dim=1).view(grad.shape[0], 1, 1, 1)\n",
    "    grad_norm = torch.where(grad_norm < small_const, grad_norm + small_const, grad_norm)\n",
    "    grad /= grad_norm\n",
    "    grad *= eps.view(grad.shape[0], -1).norm(p=2, dim=1).view(grad.shape[0], 1, 1, 1)\n",
    "    return grad, grad_norm\n",
    "\n",
    "def renormalize(a, b, small_const=1e-22):\n",
    "    #changes(removed detach and restored where)\n",
    "    a_norm = a.view(a.shape[0], -1).norm(p=2, dim=1).view(b.shape[0], 1, 1, 1)\n",
    "    a_norm_new = torch.where(a_norm < small_const, a_norm + small_const, a_norm) #torch.clamp(a_norm, min=small_const) #.detach() #torch.where(a_norm < small_const, a_norm + small_const, a_norm)\n",
    "    a /= a_norm_new\n",
    "    a *= b.view(a.shape[0], -1).norm(p=2, dim=1).view(a.shape[0], 1, 1, 1)\n",
    "    return a, a_norm_new\n",
    "\n",
    "\n",
    "\n",
    "class OneHotDist(torchd.one_hot_categorical.OneHotCategorical):\n",
    "\n",
    "    def __init__(self, logits=None, probs=None):\n",
    "        super().__init__(logits=logits, probs=probs)\n",
    "\n",
    "    def mode(self):\n",
    "        _mode = F.one_hot(torch.argmax(super().logits, axis=-1), super().logits.shape[-1])\n",
    "        return _mode.detach() + super().logits - super().logits.detach()\n",
    "\n",
    "    def sample(self, sample_shape=(), seed=None):\n",
    "        if seed is not None:\n",
    "            raise ValueError('need to check')\n",
    "        sample = super().sample(sample_shape)\n",
    "        probs = super().probs\n",
    "        while len(probs.shape) < len(sample.shape):\n",
    "            probs = probs[None]\n",
    "        sample += probs - probs.detach()\n",
    "        return sample\n",
    "\n",
    "\n",
    "def cone_project(grad_temp_1, grad_temp_2, deg):\n",
    "    \"\"\"\n",
    "    grad_temp_1: gradient of the loss w.r.t. the robust/classifier free\n",
    "    grad_temp_2: gradient of the loss w.r.t. the non-robust\n",
    "    projecting the robust/CF onto the non-robust \n",
    "    \"\"\"\n",
    "    angles_before = torch.acos(\n",
    "        (grad_temp_1 * grad_temp_2).sum(1) / (grad_temp_1.norm(p=2, dim=1) * grad_temp_2.norm(p=2, dim=1)))\n",
    "    ##print('angle before', angles_before)\n",
    "    grad_temp_2 /= grad_temp_2.norm(p=2, dim=1).view(grad_temp_1.shape[0], -1)\n",
    "    grad_temp_1 = grad_temp_1 - ((grad_temp_1 * grad_temp_2).sum(1) / (grad_temp_2.norm(p=2, dim=1) ** 2)).view(\n",
    "        grad_temp_1.shape[0], -1) * grad_temp_2\n",
    "    grad_temp_1 /= grad_temp_1.norm(p=2, dim=1).view(grad_temp_1.shape[0], -1)\n",
    "    # cone_projection = grad_temp_1 + grad_temp_2 45 deg\n",
    "    radians = torch.tensor([deg], device=grad_temp_1.device).deg2rad()\n",
    "    ##print('angle after', radians, torch.acos((grad_temp_1*grad_temp_2).sum(1) / (grad_temp_1.norm(p=2,dim=1) * grad_temp_2.norm(p=2,dim=1))))\n",
    "    cone_projection = grad_temp_1 * torch.tan(radians) + grad_temp_2\n",
    "\n",
    "    # second classifier is a non-robust one -\n",
    "    # unless we are less than 45 degrees away - don't cone project\n",
    "    grad_temp = grad_temp_2.clone()\n",
    "    loop_projecting = time.time()\n",
    "    grad_temp[angles_before > radians] = cone_projection[angles_before > radians]\n",
    "\n",
    "    return grad_temp\n",
    "\n",
    "def normalize(x):\n",
    "    mean, std =[0.485, 0.456, 0.406], [0.229, 0.224, 0.225]\n",
    "    x = x - torch.tensor(mean).to(x.device)[None, :, None, None]\n",
    "    x = x / torch.tensor(std).to(x.device)[None, :, None, None]\n",
    "    return x\n",
    "\n",
    "def denormalize(x):\n",
    "    mean, std =[0.485, 0.456, 0.406], [0.229, 0.224, 0.225]\n",
    "    x = x * torch.tensor(std).to(x.device)[None, :, None, None]\n",
    "    x = x + torch.tensor(mean).to(x.device)[None, :, None, None]\n",
    "    return x\n",
    "\n",
    "\n",
    "def _map_img(x):\n",
    "    #from -1 to 1 to 0 to 1 \n",
    "    return 0.5 * (x + 1)\n",
    "\n",
    "def _unmap_img(x, from_image_net_dist = False):\n",
    "    #from 0 to 1 to -1 to 1\n",
    "\n",
    "    return 2. * x -1\n",
    "\n",
    "def disabled_train(self, mode=True):\n",
    "    \"\"\"Overwrite model.train with this function to make sure train/eval mode\n",
    "    does not change anymore.\"\"\"\n",
    "    return self\n"
   ]
  },
  {
   "attachments": {},
   "cell_type": "markdown",
   "metadata": {},
   "source": [
    "### Defining the new ddim "
   ]
  },
  {
   "cell_type": "code",
   "execution_count": 126,
   "metadata": {},
   "outputs": [],
   "source": [
    "class CCDDIMSampler(object):\n",
    "    def __init__(self, model, classifier, model_type=\"latent\", schedule=\"linear\", guidance=\"free\", lp_custom=False,\n",
    "                 deg_cone_projection=10, denoise_dist_input=True, classifier_lambda=1, dist_lambda=0.15,\n",
    "                 enforce_same_norms=True, seg_model = None, masked_guidance = False, backprop_diffusion = True, **kwargs):\n",
    "\n",
    "        super().__init__()\n",
    "        self.model_type = model_type\n",
    "        self.lp_custom = lp_custom\n",
    "        self.images = []\n",
    "        self.probs = []\n",
    "        self.classifier_lambda = classifier_lambda\n",
    "        self.model = model\n",
    "        self.ddpm_num_timesteps = model.num_timesteps\n",
    "        self.schedule = schedule\n",
    "        self.classifier = classifier\n",
    "        self.guidance = guidance\n",
    "        self.backprop_diffusion = backprop_diffusion\n",
    "        # self.projected_counterfactuals = projected_counterfactuals\n",
    "        self.deg_cone_projection = deg_cone_projection\n",
    "        self.denoise_dist_input = denoise_dist_input\n",
    "        self.dist_lambda = dist_lambda\n",
    "        self.enforce_same_norms = enforce_same_norms\n",
    "        self.seg_model = seg_model\n",
    "        self.masked_guidance = masked_guidance\n",
    "\n",
    "        self.init_images = None\n",
    "        self.init_labels = None\n",
    "        self.mask = None\n",
    "\n",
    "    def get_classifier_dist(self, x, t=None):\n",
    "        \"\"\"\n",
    "        Create a distribution over the classifier output space\n",
    "        Args:\n",
    "            x: input image for which to create the distribution over the classifier output space range [-1, 1]\n",
    "\n",
    "        Returns:\n",
    "            dist: torch distribution over the classifier output space\n",
    "\n",
    "        \"\"\"\n",
    "        x = tf.center_crop(x, 224)\n",
    "        x = normalize(_map_img(x))\n",
    "        logit = self.classifier(x)  # (TODO) add option for t here\n",
    "        dist = torchd.independent.Independent(OneHotDist(logit), 1)\n",
    "        return dist\n",
    "\n",
    "\n",
    "    def get_mask(self):\n",
    "        \"\"\"\n",
    "        this function returns a negative mask given by a segmentation model for the region of interest\n",
    "        values are higher outside the region of interest\n",
    "        \"\"\"\n",
    "\n",
    "        if self.mask is not None:\n",
    "            return self.mask\n",
    "\n",
    "        prompts = []\n",
    "        for l in self.init_labels:\n",
    "            prompts.append(re.sub(r'\\b(\\w)', lambda m: m.group(1).upper(), i2h[l]))\n",
    "        \n",
    "        with torch.no_grad():\n",
    "            print(\"input range\", self.init_images.min(), self.init_images.max())\n",
    "            print()\n",
    "            img_to_seg=F.interpolate(normalize(self.init_images), size=(352, 352), mode='bilinear', align_corners=False).to(device)\n",
    "            preds = self.seg_model(img_to_seg, prompts)[0]\n",
    "            preds = F.interpolate(preds, size=self.init_images.shape[-2:], mode='bilinear', align_corners=False)\n",
    "            preds = torch.sigmoid(preds) #torch.softmax(preds.view(preds.shape[0], -1), dim=1).view(*preds.shape)\n",
    "            #penalty = 1-preds\n",
    "        self.mask = preds.to(device)\n",
    "        return self.mask\n",
    "        \n",
    "    def get_output(self, x, t, c, index, unconditional_conditioning, use_original_steps=True, quantize_denoised=True, return_decoded=False):\n",
    "        b = x.shape[0]\n",
    "        x_in = torch.cat([x] * 2)\n",
    "        t_in = torch.cat([t] * 2)\n",
    "        c_in = torch.cat([unconditional_conditioning, c])\n",
    "        with torch.enable_grad() if self.backprop_diffusion else torch.no_grad():\n",
    "            e_t_uncond, e_t = self.model.apply_model(x_in, t_in, c_in).chunk(2)\n",
    "            \n",
    "        if return_decoded:\n",
    "            # getting the original denoised image\n",
    "            alphas = self.model.alphas_cumprod if use_original_steps else self.ddim_alphas\n",
    "            sqrt_one_minus_alphas = self.model.sqrt_one_minus_alphas_cumprod if use_original_steps else self.ddim_sqrt_one_minus_alphas\n",
    "            a_t = torch.full((b, 1, 1, 1), alphas[index], device=device)\n",
    "            sqrt_one_minus_at = torch.full((b, 1, 1, 1), sqrt_one_minus_alphas[index], device=device)\n",
    "            # current prediction for x_0\n",
    "            # get the original image with range [0, 1] if it is in latent space\n",
    "            pred_latent_x0 = (x - sqrt_one_minus_at * e_t_uncond) / a_t.sqrt() # e_t - >  e_t_uncond\n",
    "            if quantize_denoised:\n",
    "                pred_latent_x0, _, *_ = self.model.first_stage_model.quantize(pred_latent_x0)\n",
    "\n",
    "            \n",
    "            pred_x0 = self.model.differentiable_decode_first_stage(\n",
    "                pred_latent_x0)  # if self.model_type == \"latent\" else pred_latent_x0\n",
    "            #pred_x0 = torch.clamp((pred_x0 + 1.0) / 2.0, min=0.0, max=1.0)\n",
    "            return e_t_uncond, e_t, pred_x0\n",
    "        \n",
    "        else:\n",
    "            return e_t_uncond, e_t\n",
    "\n",
    "    def conditional_score(self, x, t, c, index, use_original_steps, quantize_denoised, unconditional_guidance_scale=1.,\n",
    "                          unconditional_conditioning=None, y=None):\n",
    "        \"\"\"\n",
    "\n",
    "        Args:\n",
    "            x: input image\n",
    "            t: time step\n",
    "            c: conditioning\n",
    "            index: index for the schedule\n",
    "            use_original_steps: whether to use the original steps\n",
    "            quantize_denoised: whether to quantize the denoised image\n",
    "            unconditional_guidance_scale: scale for the unconditional guidance\n",
    "            unconditional_conditioning: unconditional conditioning\n",
    "            y: target class\n",
    "\n",
    "\n",
    "        Returns:\n",
    "            e_t: score after conditioning\n",
    "\n",
    "        \"\"\"\n",
    "        b, *_, device = *x.shape, x.device\n",
    "        x = x.detach()#.requires_grad_()\n",
    "        #x.requires_grad = True\n",
    "        prob_best_class = None\n",
    "        mask_guidance  = None\n",
    "\n",
    "        ## check if gradient tracking is on for x\n",
    "        \n",
    "        \n",
    "        if unconditional_conditioning is None or unconditional_guidance_scale == 1.:\n",
    "            e_t = self.model.apply_model(x, t, c)\n",
    "            return e_t\n",
    "\n",
    "        \n",
    "        #print(\"check gradient tracking onf e \", e_t.requires_grad)\n",
    "        if self.guidance == \"free\":\n",
    "            e_t_uncond, e_t, pred_x0 = self.get_output(x, t, c, index, unconditional_conditioning, use_original_steps, quantize_denoised, return_decoded=True)\n",
    "            e_t = e_t_uncond + unconditional_guidance_scale * (e_t - e_t_uncond)\n",
    "            return e_t\n",
    "\n",
    "        #print(\"check gradient tracking onf e \", e_t.requires_grad)\n",
    "        score_out = torch.zeros_like(x)\n",
    "        \n",
    "        with torch.enable_grad():\n",
    "            assert x.requires_grad == False, \"x requires grad\"\n",
    "            \n",
    "            if self.classifier_lambda != 0:\n",
    "                x_grad = x.detach().requires_grad_()\n",
    "                e_t_uncond, e_t, pred_x0 = self.get_output(x_grad, t, c, index, unconditional_conditioning, use_original_steps, quantize_denoised=quantize_denoised, return_decoded=True)\n",
    "                classifier_dist = self.get_classifier_dist(pred_x0)\n",
    "                y_one_hot = F.one_hot(y, classifier_dist.event_shape[-1]).to(device)\n",
    "                log_probs = classifier_dist.log_prob(y_one_hot)\n",
    "                prob_best_class = torch.exp(log_probs)\n",
    "                #print(\"prob_best_class\", prob_best_class, log_probs)\n",
    "\n",
    "                grad_classifier = torch.autograd.grad(log_probs, x_grad)[\n",
    "                    0]\n",
    "        with torch.enable_grad():  \n",
    "            if self.lp_custom:\n",
    "                assert x.requires_grad == False, \"x requires grad\"\n",
    "                x_grad = x.detach().requires_grad_()\n",
    "                e_t_uncond, e_t, pred_x0 = self.get_output(x_grad, t, c, index, unconditional_conditioning, use_original_steps, quantize_denoised=quantize_denoised, return_decoded=True)\n",
    "                #print(\"computing the lp gradient\")\n",
    "                assert pred_x0.requires_grad == True, \"pred_x0 does not require grad\"\n",
    "                pred_x0_0to1 = torch.clamp(_map_img(pred_x0), min=0.0, max=1.0)\n",
    "                \n",
    "                diff =  pred_x0_0to1 - self.init_images.to(device)\n",
    "                #print(\"diff is:\", diff.mean())\n",
    "                lp_dist = compute_lp_dist(diff, self.lp_custom)\n",
    "                lp_grad = torch.autograd.grad(lp_dist.mean(), x_grad)[0]\n",
    "\n",
    "        #assert e_t_uncond.requires_grad == True and e_t.requires_grad == True, \"e_t_uncond and e_t should require gradients\"\n",
    "        \n",
    "\n",
    "        if self.guidance == \"projected\":\n",
    "            implicit_classifier_score = (e_t - e_t_uncond)#.detach()\n",
    "            # check gradient tracking on implicit_classifier_score \n",
    "            assert implicit_classifier_score.requires_grad == False, \"implicit_classifier_score requires grad\"\n",
    "\n",
    "        if self.lp_custom or self.classifier_lambda != 0:\n",
    "            alphas = self.model.alphas_cumprod if use_original_steps else self.ddim_alphas\n",
    "            a_t = torch.full((b, 1, 1, 1), alphas[index], device=device)\n",
    "            \n",
    "        if self.classifier_lambda != 0:\n",
    "\n",
    "            classifier_score = -1  * grad_classifier * (1 - a_t).sqrt()\n",
    "            assert classifier_score.requires_grad == False, \"classifier_score requires grad\"\n",
    "            # project the gradient of the classifier on the implicit classifier\n",
    "            classifier_score = cone_project(implicit_classifier_score.view(x.shape[0], -1),\n",
    "                                            classifier_score.view(x.shape[0], -1),\n",
    "                                            self.deg_cone_projection).view_as(classifier_score) \\\n",
    "                if self.guidance == \"projected\" else classifier_score\n",
    "\n",
    "            if self.enforce_same_norms:\n",
    "                score_, norm_ = _renormalize_gradient(classifier_score, implicit_classifier_score)  # e_t_uncond (AWAREE!!) \n",
    "                classifier_score = self.classifier_lambda * score_\n",
    "                \n",
    "            else:\n",
    "                classifier_score *= self.classifier_lambda\n",
    "\n",
    "            #print(\"classifier score is\", classifier_score.mean(), \"classifier norm is\", classifier_score.view(classifier_score.shape[0], -1).norm(p=2, dim=1).mean())\n",
    "            score_out += classifier_score\n",
    "\n",
    "        # distance gradients\n",
    "        if self.lp_custom:\n",
    "            \n",
    "            lp_score = -1 * lp_grad * (1 - a_t).sqrt()\n",
    "            if self.enforce_same_norms:\n",
    "                # dont renormalize the implicit classifier score because it is already renormalized in the cone projection\n",
    "                score_, norm_ = _renormalize_gradient(lp_score, implicit_classifier_score) # e_t_uncond if self.classifier_lambda == 0 else implicit_classifier_score) #.detach()) #, implicit_classifier_score) (AWAREE!!)\n",
    "                lp_score = self.dist_lambda * score_\n",
    "\n",
    "            else:\n",
    "                \n",
    "                lp_score *= self.dist_lambda\n",
    "                \n",
    "            score_out -= lp_score\n",
    "\n",
    "        e_t = e_t_uncond + unconditional_guidance_scale * score_out  # (1 - a_t).sqrt() * grad_out\n",
    "\n",
    "        #adding images to create a gif\n",
    "        pred_x0_copy = pred_x0.clone().detach()\n",
    "        img = torch.clamp(_map_img(pred_x0_copy), min=0.0, max=1.0)\n",
    "        img = torch.permute(img, (1, 2, 0, 3)).reshape((img.shape[1], img.shape[2], -1))\n",
    "\n",
    "        self.images.append(img)\n",
    "\n",
    "        if prob_best_class is not None:\n",
    "            self.probs.append(prob_best_class)\n",
    "        \n",
    "        return e_t\n",
    "\n",
    "    def register_buffer(self, name, attr):\n",
    "        if type(attr) == torch.Tensor:\n",
    "            pass\n",
    "            # TODO: this is a hack to make it work on CPU\n",
    "            #if attr.device != torch.device(\"cuda\"):\n",
    "            #    attr = attr.to(torch.device(\"cuda\"))\n",
    "        setattr(self, name, attr)\n",
    "\n",
    "    def make_schedule(self, ddim_num_steps, ddim_discretize=\"uniform\", ddim_eta=0., verbose=True):\n",
    "        self.ddim_timesteps = make_ddim_timesteps(ddim_discr_method=ddim_discretize, num_ddim_timesteps=ddim_num_steps,\n",
    "                                                  num_ddpm_timesteps=self.ddpm_num_timesteps, verbose=verbose)\n",
    "        alphas_cumprod = self.model.alphas_cumprod\n",
    "        assert alphas_cumprod.shape[0] == self.ddpm_num_timesteps, 'alphas have to be defined for each timestep'\n",
    "        to_torch = lambda x: x.clone().detach().to(torch.float32).to(self.model.device)\n",
    "\n",
    "        self.register_buffer('betas', to_torch(self.model.betas))\n",
    "        self.register_buffer('alphas_cumprod', to_torch(alphas_cumprod))\n",
    "        self.register_buffer('alphas_cumprod_prev', to_torch(self.model.alphas_cumprod_prev))\n",
    "\n",
    "        # calculations for diffusion q(x_t | x_{t-1}) and others\n",
    "        self.register_buffer('sqrt_alphas_cumprod', to_torch(np.sqrt(alphas_cumprod.cpu())))\n",
    "        self.register_buffer('sqrt_one_minus_alphas_cumprod', to_torch(np.sqrt(1. - alphas_cumprod.cpu())))\n",
    "        self.register_buffer('log_one_minus_alphas_cumprod', to_torch(np.log(1. - alphas_cumprod.cpu())))\n",
    "        self.register_buffer('sqrt_recip_alphas_cumprod', to_torch(np.sqrt(1. / alphas_cumprod.cpu())))\n",
    "        self.register_buffer('sqrt_recipm1_alphas_cumprod', to_torch(np.sqrt(1. / alphas_cumprod.cpu() - 1)))\n",
    "\n",
    "        # ddim sampling parameters\n",
    "        ddim_sigmas, ddim_alphas, ddim_alphas_prev = make_ddim_sampling_parameters(alphacums=alphas_cumprod.cpu(),\n",
    "                                                                                   ddim_timesteps=self.ddim_timesteps,\n",
    "                                                                                   eta=ddim_eta, verbose=verbose)\n",
    "        self.register_buffer('ddim_sigmas', ddim_sigmas)\n",
    "        self.register_buffer('ddim_alphas', ddim_alphas)\n",
    "        self.register_buffer('ddim_alphas_prev', ddim_alphas_prev)\n",
    "        self.register_buffer('ddim_sqrt_one_minus_alphas', np.sqrt(1. - ddim_alphas))\n",
    "        sigmas_for_original_sampling_steps = ddim_eta * torch.sqrt(\n",
    "            (1 - self.alphas_cumprod_prev) / (1 - self.alphas_cumprod) * (\n",
    "                    1 - self.alphas_cumprod / self.alphas_cumprod_prev))\n",
    "        self.register_buffer('ddim_sigmas_for_original_num_steps', sigmas_for_original_sampling_steps)\n",
    "\n",
    "    @torch.no_grad()\n",
    "    def sample(self,\n",
    "               S,\n",
    "               batch_size,\n",
    "               shape,\n",
    "               conditioning=None,\n",
    "               callback=None,\n",
    "               normals_sequence=None,\n",
    "               img_callback=None,\n",
    "               quantize_x0=False,\n",
    "               eta=0.,\n",
    "               mask=None,\n",
    "               x0=None,\n",
    "               temperature=1.,\n",
    "               noise_dropout=0.,\n",
    "               score_corrector=None,\n",
    "               corrector_kwargs=None,\n",
    "               verbose=True,\n",
    "               x_T=None,\n",
    "               log_every_t=100,\n",
    "               unconditional_guidance_scale=1.,\n",
    "               unconditional_conditioning=None,\n",
    "               # this has to come in the same format as the conditioning, # e.g. as encoded tokens, ...\n",
    "               **kwargs\n",
    "               ):\n",
    "        if conditioning is not None:\n",
    "            if isinstance(conditioning, dict):\n",
    "                cbs = conditioning[list(conditioning.keys())[0]].shape[0]\n",
    "                if cbs != batch_size:\n",
    "                    print(f\"Warning: Got {cbs} conditionings but batch-size is {batch_size}\")\n",
    "            else:\n",
    "                if conditioning.shape[0] != batch_size:\n",
    "                    print(f\"Warning: Got {conditioning.shape[0]} conditionings but batch-size is {batch_size}\")\n",
    "\n",
    "        self.make_schedule(ddim_num_steps=S, ddim_eta=eta, verbose=verbose)\n",
    "        # sampling\n",
    "        C, H, W = shape\n",
    "        size = (batch_size, C, H, W)\n",
    "        print(f'Data shape for DDIM sampling is {size}, eta {eta}')\n",
    "\n",
    "        samples, intermediates = self.ddim_sampling(conditioning, size,\n",
    "                                                    callback=callback,\n",
    "                                                    img_callback=img_callback,\n",
    "                                                    quantize_denoised=quantize_x0,\n",
    "                                                    mask=mask, x0=x0,\n",
    "                                                    ddim_use_original_steps=False,\n",
    "                                                    noise_dropout=noise_dropout,\n",
    "                                                    temperature=temperature,\n",
    "                                                    score_corrector=score_corrector,\n",
    "                                                    corrector_kwargs=corrector_kwargs,\n",
    "                                                    x_T=x_T,\n",
    "                                                    log_every_t=log_every_t,\n",
    "                                                    unconditional_guidance_scale=unconditional_guidance_scale,\n",
    "                                                    unconditional_conditioning=unconditional_conditioning,\n",
    "                                                    )\n",
    "        return samples, intermediates\n",
    "\n",
    "    @torch.no_grad()\n",
    "    def ddim_sampling(self, cond, shape,\n",
    "                      x_T=None, ddim_use_original_steps=False,\n",
    "                      callback=None, timesteps=None, quantize_denoised=False,\n",
    "                      mask=None, x0=None, img_callback=None, log_every_t=100,\n",
    "                      temperature=1., noise_dropout=0., score_corrector=None, corrector_kwargs=None,\n",
    "                      unconditional_guidance_scale=1., unconditional_conditioning=None, ):\n",
    "\n",
    "        device = self.model.betas.device\n",
    "        b = shape[0]\n",
    "        if x_T is None:\n",
    "            img = torch.randn(shape, device=device)\n",
    "        else:\n",
    "            img = x_T\n",
    "\n",
    "        if timesteps is None:\n",
    "            timesteps = self.ddpm_num_timesteps if ddim_use_original_steps else self.ddim_timesteps\n",
    "        elif timesteps is not None and not ddim_use_original_steps:\n",
    "            subset_end = int(min(timesteps / self.ddim_timesteps.shape[0], 1) * self.ddim_timesteps.shape[0]) - 1\n",
    "            timesteps = self.ddim_timesteps[:subset_end]\n",
    "\n",
    "        intermediates = {'x_inter': [img], 'pred_x0': [img]}\n",
    "        time_range = reversed(range(0, timesteps)) if ddim_use_original_steps else np.flip(timesteps)\n",
    "        total_steps = timesteps if ddim_use_original_steps else timesteps.shape[0]\n",
    "        print(f\"Running DDIM Sampling with {total_steps} timesteps\")\n",
    "\n",
    "        iterator = tqdm(time_range, desc='DDIM Sampler', total=total_steps)\n",
    "\n",
    "        for i, step in enumerate(iterator):\n",
    "            index = total_steps - i - 1\n",
    "            ts = torch.full((b,), step, device=device, dtype=torch.long)\n",
    "\n",
    "            if mask is not None:\n",
    "                assert x0 is not None\n",
    "                img_orig = self.model.q_sample(x0, ts)  # TODO: deterministic forward pass?\n",
    "                img = img_orig * mask + (1. - mask) * img\n",
    "\n",
    "            outs = self.p_sample_ddim(img, cond, ts, index=index, use_original_steps=ddim_use_original_steps,\n",
    "                                      quantize_denoised=quantize_denoised, temperature=temperature,\n",
    "                                      noise_dropout=noise_dropout, score_corrector=score_corrector,\n",
    "                                      corrector_kwargs=corrector_kwargs,\n",
    "                                      unconditional_guidance_scale=unconditional_guidance_scale,\n",
    "                                      unconditional_conditioning=unconditional_conditioning)\n",
    "            img, pred_x0 = outs\n",
    "            if callback: callback(i)\n",
    "            if img_callback: img_callback(pred_x0, i)\n",
    "\n",
    "            if index % log_every_t == 0 or index == total_steps - 1:\n",
    "                intermediates['x_inter'].append(img)\n",
    "                intermediates['pred_x0'].append(pred_x0)\n",
    "\n",
    "        return img, intermediates\n",
    "\n",
    "    @torch.no_grad()\n",
    "    def p_sample_ddim(self, x, c, t, index, repeat_noise=False, use_original_steps=False, quantize_denoised=False,\n",
    "                      temperature=1., noise_dropout=0., score_corrector=None, corrector_kwargs=None,\n",
    "                      unconditional_guidance_scale=1., unconditional_conditioning=None, y=None):\n",
    "        b, *_, device = *x.shape, x.device\n",
    "\n",
    "        e_t = self.conditional_score(x=x, c=c, t=t, index=index, use_original_steps=use_original_steps,\n",
    "                                     quantize_denoised=quantize_denoised,\n",
    "                                     unconditional_guidance_scale=unconditional_guidance_scale,\n",
    "                                     unconditional_conditioning=unconditional_conditioning, y=y)\n",
    "\n",
    "        if score_corrector is not None:\n",
    "            assert self.model.parameterization == \"eps\"\n",
    "            e_t = score_corrector.modify_score(self.model, e_t, x, t, c, **corrector_kwargs)\n",
    "\n",
    "        alphas = self.model.alphas_cumprod if use_original_steps else self.ddim_alphas\n",
    "        alphas_prev = self.model.alphas_cumprod_prev if use_original_steps else self.ddim_alphas_prev\n",
    "        sqrt_one_minus_alphas = self.model.sqrt_one_minus_alphas_cumprod if use_original_steps else self.ddim_sqrt_one_minus_alphas\n",
    "        sigmas = self.model.ddim_sigmas_for_original_num_steps if use_original_steps else self.ddim_sigmas\n",
    "        # select parameters corresponding to the currently considered timestep\n",
    "        a_t = torch.full((b, 1, 1, 1), alphas[index], device=device)\n",
    "        a_prev = torch.full((b, 1, 1, 1), alphas_prev[index], device=device)\n",
    "        sigma_t = torch.full((b, 1, 1, 1), sigmas[index], device=device)\n",
    "        sqrt_one_minus_at = torch.full((b, 1, 1, 1), sqrt_one_minus_alphas[index], device=device)\n",
    "\n",
    "        # current prediction for x_0\n",
    "        pred_x0 = (x - sqrt_one_minus_at * e_t) / a_t.sqrt()\n",
    "        if quantize_denoised:\n",
    "            pred_x0, _, *_ = self.model.first_stage_model.quantize(pred_x0)\n",
    "        # direction pointing to x_t\n",
    "        dir_xt = (1. - a_prev - sigma_t ** 2).sqrt() * e_t\n",
    "        noise = sigma_t * noise_like(x.shape, device, repeat_noise) * temperature\n",
    "        if noise_dropout > 0.:\n",
    "            noise = torch.nn.functional.dropout(noise, p=noise_dropout)\n",
    "        x_prev = a_prev.sqrt() * pred_x0 + dir_xt + noise\n",
    "        return x_prev, pred_x0\n",
    "\n",
    "    @torch.no_grad()\n",
    "    def stochastic_encode(self, x0, t, use_original_steps=False, noise=None):\n",
    "        # fast, but does not allow for exact reconstruction\n",
    "        # t serves as an index to gather the correct alphas\n",
    "        if use_original_steps:\n",
    "            sqrt_alphas_cumprod = self.sqrt_alphas_cumprod\n",
    "            sqrt_one_minus_alphas_cumprod = self.sqrt_one_minus_alphas_cumprod\n",
    "        else:\n",
    "            sqrt_alphas_cumprod = torch.sqrt(self.ddim_alphas).to(x0.device)\n",
    "            sqrt_one_minus_alphas_cumprod = self.ddim_sqrt_one_minus_alphas.to(x0.device)\n",
    "\n",
    "        if noise is None:\n",
    "            noise = torch.randn_like(x0)\n",
    "        return (extract_into_tensor(sqrt_alphas_cumprod, t, x0.shape) * x0 +\n",
    "                extract_into_tensor(sqrt_one_minus_alphas_cumprod, t, x0.shape) * noise)\n",
    "\n",
    "    @torch.no_grad()\n",
    "    def decode(self, x_latent, cond, t_start, y=None, unconditional_guidance_scale=1.0, unconditional_conditioning=None,\n",
    "               use_original_steps=False, latent_t_0=True):\n",
    "\n",
    "        timesteps = np.arange(self.ddpm_num_timesteps) if use_original_steps else self.ddim_timesteps\n",
    "        timesteps = timesteps[:t_start]\n",
    "\n",
    "        time_range = np.flip(timesteps)\n",
    "        total_steps = timesteps.shape[0]\n",
    "        print(f\"Running DDIM Sampling with {total_steps} timesteps\")\n",
    "        \n",
    "        if self.masked_guidance:\n",
    "            mask = self.get_mask()\n",
    "            mask = F.interpolate(mask, size=x_latent.shape[-2:], mode='bilinear', align_corners=True)\n",
    "            \n",
    "\n",
    "        iterator = tqdm(time_range, desc='Decoding image', total=total_steps)\n",
    "        if latent_t_0:\n",
    "            x_orig = x_latent\n",
    "            x_dec = self.stochastic_encode(x_latent.clone(), torch.tensor([t_start]*(x_latent.shape[0])).to(device))\n",
    "        else:\n",
    "            x_dec = x_latent\n",
    "        print(f\"times are {t_start}, {total_steps}\")\n",
    "        for i, step in enumerate(iterator):\n",
    "            index = total_steps - i - 1\n",
    "            print(f\"index is {index}, step is {step}\")\n",
    "            ts = torch.full((x_latent.shape[0],), step, device=x_latent.device, dtype=torch.long)\n",
    "            x_dec, _ = self.p_sample_ddim(x_dec, cond, ts, index=index, use_original_steps=use_original_steps,\n",
    "                                          unconditional_guidance_scale=unconditional_guidance_scale,\n",
    "                                          unconditional_conditioning=unconditional_conditioning, y=y)\n",
    "            if latent_t_0:\n",
    "                print(\"masking pplied\")\n",
    "                x_orig_diffused = sampler.stochastic_encode(x_orig.clone(), torch.tensor([index]*(x_orig.shape[0])).to(device))\n",
    "                x_dec = (1-mask)*x_orig_diffused + mask*x_dec\n",
    "\n",
    "            \n",
    "\n",
    "        out = {}\n",
    "        out['x_dec'] = x_dec\n",
    "        out['video'] = torch.stack(self.images, dim=0) if len(self.images) != 0 else None\n",
    "        print(f\"Video shape: {out['video'].shape}\")\n",
    "        out['prob'] = self.probs[-1].item() if len(self.probs) != 0 else None\n",
    "        self.images = []\n",
    "        self.probs = []\n",
    "        self.mask = None\n",
    "        return out\n"
   ]
  },
  {
   "attachments": {},
   "cell_type": "markdown",
   "metadata": {},
   "source": [
    "### Getting a classifier from torch vision"
   ]
  },
  {
   "cell_type": "code",
   "execution_count": 116,
   "metadata": {},
   "outputs": [
    {
     "data": {
      "text/plain": [
       "'cpu'"
      ]
     },
     "execution_count": 116,
     "metadata": {},
     "output_type": "execute_result"
    }
   ],
   "source": [
    "device"
   ]
  },
  {
   "cell_type": "code",
   "execution_count": 117,
   "metadata": {},
   "outputs": [],
   "source": [
    "classifier_name = \"efficientnet_b0\"\n",
    "classifier_model=getattr(torchvision.models, classifier_name)(pretrained=True).to(device)\n",
    "classifier_model = classifier_model.eval()\n",
    "classifier_model.train = disabled_train\n"
   ]
  },
  {
   "attachments": {},
   "cell_type": "markdown",
   "metadata": {},
   "source": [
    "### Getting a model, latent and wrapping in sampler"
   ]
  },
  {
   "cell_type": "code",
   "execution_count": 118,
   "metadata": {},
   "outputs": [
    {
     "name": "stdout",
     "output_type": "stream",
     "text": [
      "Loading model from models/ldm/cin256-v2/model.ckpt\n",
      "LatentDiffusion: Running in eps-prediction mode\n",
      "DiffusionWrapper has 400.92 M params.\n",
      "making attention of type 'vanilla' with 512 in_channels\n",
      "Working with z of shape (1, 3, 64, 64) = 12288 dimensions.\n",
      "making attention of type 'vanilla' with 512 in_channels\n"
     ]
    }
   ],
   "source": [
    "model = get_model()"
   ]
  },
  {
   "cell_type": "code",
   "execution_count": 119,
   "metadata": {},
   "outputs": [],
   "source": [
    "image_path = 'data/imagenette2/train/n03445777/ILSVRC2012_val_00002314.JPEG'\n",
    "\n",
    "strength = 0.3 #48#46#\"strength for noising/unnoising. 1.0 corresponds to full destruction of information in init image\"\n",
    "n_samples_per_class = batch_size = 3\n",
    "ddim_steps = 250\n",
    "ddim_eta = 0.0\n",
    "scale = 3.0   # for unconditional guidance\n"
   ]
  },
  {
   "cell_type": "code",
   "execution_count": 120,
   "metadata": {},
   "outputs": [],
   "source": [
    "t_enc = int(strength * ddim_steps)"
   ]
  },
  {
   "cell_type": "code",
   "execution_count": null,
   "metadata": {},
   "outputs": [],
   "source": []
  },
  {
   "cell_type": "code",
   "execution_count": 121,
   "metadata": {},
   "outputs": [
    {
     "data": {
      "text/plain": [
       "75"
      ]
     },
     "execution_count": 121,
     "metadata": {},
     "output_type": "execute_result"
    }
   ],
   "source": [
    "t_enc"
   ]
  },
  {
   "cell_type": "code",
   "execution_count": 122,
   "metadata": {},
   "outputs": [],
   "source": [
    "\n",
    "sampler = CCDDIMSampler(model, classifier_model)\n",
    "sampler.make_schedule(ddim_num_steps=ddim_steps, ddim_eta=ddim_eta, verbose=False)\n",
    "\n"
   ]
  },
  {
   "attachments": {},
   "cell_type": "markdown",
   "metadata": {},
   "source": [
    "### Creating the Counterfactual sampler\n"
   ]
  },
  {
   "attachments": {},
   "cell_type": "markdown",
   "metadata": {},
   "source": [
    "## Now generating for the images of interest "
   ]
  },
  {
   "cell_type": "code",
   "execution_count": 123,
   "metadata": {},
   "outputs": [
    {
     "data": {
      "text/plain": [
       "<torch.autograd.anomaly_mode.set_detect_anomaly at 0x7f36d6d5d640>"
      ]
     },
     "execution_count": 123,
     "metadata": {},
     "output_type": "execute_result"
    }
   ],
   "source": [
    "torch.autograd.set_detect_anomaly(True)"
   ]
  },
  {
   "cell_type": "code",
   "execution_count": 77,
   "metadata": {},
   "outputs": [
    {
     "data": {
      "text/html": [
       "Finishing last run (ID:4tvg8a6h) before initializing another..."
      ],
      "text/plain": [
       "<IPython.core.display.HTML object>"
      ]
     },
     "metadata": {},
     "output_type": "display_data"
    },
    {
     "data": {
      "text/html": [
       "Waiting for W&B process to finish... <strong style=\"color:green\">(success).</strong>"
      ],
      "text/plain": [
       "<IPython.core.display.HTML object>"
      ]
     },
     "metadata": {},
     "output_type": "display_data"
    },
    {
     "data": {
      "text/html": [
       " View run <strong style=\"color:#cdcd00\">smooth-cloud-72</strong> at: <a href=\"https://wandb.ai/kifarid/cdiff/runs/4tvg8a6h\" target=\"_blank\">https://wandb.ai/kifarid/cdiff/runs/4tvg8a6h</a><br/>Synced 5 W&B file(s), 3 media file(s), 18 artifact file(s) and 0 other file(s)"
      ],
      "text/plain": [
       "<IPython.core.display.HTML object>"
      ]
     },
     "metadata": {},
     "output_type": "display_data"
    },
    {
     "data": {
      "text/html": [
       "Find logs at: <code>./wandb/run-20230412_172728-4tvg8a6h/logs</code>"
      ],
      "text/plain": [
       "<IPython.core.display.HTML object>"
      ]
     },
     "metadata": {},
     "output_type": "display_data"
    },
    {
     "data": {
      "text/html": [
       "Successfully finished last run (ID:4tvg8a6h). Initializing new run:<br/>"
      ],
      "text/plain": [
       "<IPython.core.display.HTML object>"
      ]
     },
     "metadata": {},
     "output_type": "display_data"
    },
    {
     "data": {
      "text/html": [
       "wandb version 0.14.2 is available!  To upgrade, please run:\n",
       " $ pip install wandb --upgrade"
      ],
      "text/plain": [
       "<IPython.core.display.HTML object>"
      ]
     },
     "metadata": {},
     "output_type": "display_data"
    },
    {
     "data": {
      "text/html": [
       "Tracking run with wandb version 0.13.9"
      ],
      "text/plain": [
       "<IPython.core.display.HTML object>"
      ]
     },
     "metadata": {},
     "output_type": "display_data"
    },
    {
     "data": {
      "text/html": [
       "Run data is saved locally in <code>/misc/student/faridk/stable-diffusion/wandb/run-20230412_181053-uge78k2w</code>"
      ],
      "text/plain": [
       "<IPython.core.display.HTML object>"
      ]
     },
     "metadata": {},
     "output_type": "display_data"
    },
    {
     "data": {
      "text/html": [
       "Syncing run <strong><a href=\"https://wandb.ai/kifarid/cdiff/runs/uge78k2w\" target=\"_blank\">frosty-rain-73</a></strong> to <a href=\"https://wandb.ai/kifarid/cdiff\" target=\"_blank\">Weights & Biases</a> (<a href=\"https://wandb.me/run\" target=\"_blank\">docs</a>)<br/>"
      ],
      "text/plain": [
       "<IPython.core.display.HTML object>"
      ]
     },
     "metadata": {},
     "output_type": "display_data"
    },
    {
     "data": {
      "text/html": [
       " View project at <a href=\"https://wandb.ai/kifarid/cdiff\" target=\"_blank\">https://wandb.ai/kifarid/cdiff</a>"
      ],
      "text/plain": [
       "<IPython.core.display.HTML object>"
      ]
     },
     "metadata": {},
     "output_type": "display_data"
    },
    {
     "data": {
      "text/html": [
       " View run at <a href=\"https://wandb.ai/kifarid/cdiff/runs/uge78k2w\" target=\"_blank\">https://wandb.ai/kifarid/cdiff/runs/uge78k2w</a>"
      ],
      "text/plain": [
       "<IPython.core.display.HTML object>"
      ]
     },
     "metadata": {},
     "output_type": "display_data"
    }
   ],
   "source": [
    "import wandb\n",
    "os.environ[\"WANDB_API_KEY\"] = 'cff06ca1fa10f98d7fde3bf619ee5ec8550aba11'\n",
    "run = wandb.init(entity=\"kifarid\", project=\"cdiff\")\n",
    "\n"
   ]
  },
  {
   "cell_type": "code",
   "execution_count": 78,
   "metadata": {},
   "outputs": [],
   "source": [
    "my_table = wandb.Table(columns = [\"image\", \"source\", \"target\", *[f\"gen_image_{i}\" for i in range(n_samples_per_class)], \"class_prediction\", \"closness_1\", \"closness_2\", \"video\"])\n",
    "\n"
   ]
  },
  {
   "cell_type": "code",
   "execution_count": 128,
   "metadata": {},
   "outputs": [],
   "source": [
    "import yaml\n",
    "strength = 0.3#0.28#48#46#\"strength for noising/unnoising. 1.0 corresponds to full destruction of information in init image\"\n",
    "ddim_steps = 250\n",
    "sampler = CCDDIMSampler(model, classifier_model)\n",
    "sampler.make_schedule(ddim_num_steps=ddim_steps, ddim_eta=ddim_eta, verbose=False)\n",
    "\n",
    "assert 0. <= strength <= 1., 'can only work with strength in [0.0, 1.0]'\n",
    "t_enc = int(strength * ddim_steps)\n",
    "precision = \"autocast\" #\"full\"\n",
    "precision_scope = autocast if precision == \"autocast\" else nullcontext\n",
    "n_samples_per_class = 3\n",
    "\n",
    "sampler.enforce_same_norms = True\n",
    "sampler.guidance = \"projected\"\n",
    "sampler.classifier_lambda = 3 #.2 #1.8 #2 final #1.5 #2.5 # 5.5 best \n",
    "sampler.dist_lambda = 1 # 0.15\n",
    "sampler.masked_guidance = True\n",
    "sampler.seg_model = model_seg\n",
    "sampler.backprop_diffusion = False\n",
    "sampler.mask = None\n",
    "\n",
    "\n",
    "sampler.lp_custom = 1 \n",
    "\n",
    "\n",
    "\n",
    "data_path = '/misc/scratchSSD2/datasets/ILSVRC2012/val'\n",
    "out_size = 256\n",
    "transform_list = [\n",
    "    transforms.Resize((out_size,out_size)),\n",
    "    transforms.ToTensor()\n",
    "]\n",
    "transform = transforms.Compose(transform_list)\n",
    "dataset = datasets.ImageFolder(data_path,  transform=transform)\n",
    "with open('data/synset_closest_idx.yaml', 'r') as file:\n",
    "    synset_closest_idx = yaml.safe_load(file)\n"
   ]
  },
  {
   "cell_type": "code",
   "execution_count": 129,
   "metadata": {},
   "outputs": [
    {
     "name": "stdout",
     "output_type": "stream",
     "text": [
      "converting 14690 from : cheetah, chetah, Acinonyx jubatus to: ['leopard, Panthera pardus', 'snow leopard, ounce, Panthera uncia']\n"
     ]
    },
    {
     "data": {
      "image/png": "[encoded data removed]",
      "text/plain": [
       "<Figure size 640x480 with 1 Axes>"
      ]
     },
     "metadata": {},
     "output_type": "display_data"
    },
    {
     "name": "stdout",
     "output_type": "stream",
     "text": [
      "rendering 3 examples of class '288' in 250 steps and using s=3.00.\n",
      "Running DDIM Sampling with 75 timesteps\n",
      "input range tensor(0.) tensor(1.)\n",
      "\n"
     ]
    },
    {
     "name": "stderr",
     "output_type": "stream",
     "text": [
      "\n",
      "\u001b[A"
     ]
    },
    {
     "name": "stdout",
     "output_type": "stream",
     "text": [
      "times are 75, 75\n",
      "index is 74, step is 297\n"
     ]
    },
    {
     "name": "stderr",
     "output_type": "stream",
     "text": [
      "\n",
      "\u001b[A"
     ]
    },
    {
     "name": "stdout",
     "output_type": "stream",
     "text": [
      "masking pplied\n",
      "index is 73, step is 293\n"
     ]
    },
    {
     "name": "stderr",
     "output_type": "stream",
     "text": [
      "\n",
      "\u001b[A"
     ]
    },
    {
     "name": "stdout",
     "output_type": "stream",
     "text": [
      "masking pplied\n",
      "index is 72, step is 289\n"
     ]
    },
    {
     "name": "stderr",
     "output_type": "stream",
     "text": [
      "\n",
      "\u001b[A"
     ]
    },
    {
     "name": "stdout",
     "output_type": "stream",
     "text": [
      "masking pplied\n",
      "index is 71, step is 285\n"
     ]
    },
    {
     "name": "stderr",
     "output_type": "stream",
     "text": [
      "\n",
      "\u001b[A"
     ]
    },
    {
     "name": "stdout",
     "output_type": "stream",
     "text": [
      "masking pplied\n",
      "index is 70, step is 281\n"
     ]
    },
    {
     "name": "stderr",
     "output_type": "stream",
     "text": [
      "\n",
      "\u001b[A"
     ]
    },
    {
     "name": "stdout",
     "output_type": "stream",
     "text": [
      "masking pplied\n",
      "index is 69, step is 277\n"
     ]
    },
    {
     "name": "stderr",
     "output_type": "stream",
     "text": [
      "\n",
      "\u001b[A"
     ]
    },
    {
     "name": "stdout",
     "output_type": "stream",
     "text": [
      "masking pplied\n",
      "index is 68, step is 273\n"
     ]
    },
    {
     "name": "stderr",
     "output_type": "stream",
     "text": [
      "\n",
      "\u001b[A"
     ]
    },
    {
     "name": "stdout",
     "output_type": "stream",
     "text": [
      "masking pplied\n",
      "index is 67, step is 269\n"
     ]
    },
    {
     "name": "stderr",
     "output_type": "stream",
     "text": [
      "\n",
      "\u001b[A"
     ]
    },
    {
     "name": "stdout",
     "output_type": "stream",
     "text": [
      "masking pplied\n",
      "index is 66, step is 265\n"
     ]
    },
    {
     "name": "stderr",
     "output_type": "stream",
     "text": [
      "\n",
      "\u001b[A"
     ]
    },
    {
     "name": "stdout",
     "output_type": "stream",
     "text": [
      "masking pplied\n",
      "index is 65, step is 261\n"
     ]
    },
    {
     "name": "stderr",
     "output_type": "stream",
     "text": [
      "\n",
      "\u001b[A"
     ]
    },
    {
     "name": "stdout",
     "output_type": "stream",
     "text": [
      "masking pplied\n",
      "index is 64, step is 257\n"
     ]
    },
    {
     "name": "stderr",
     "output_type": "stream",
     "text": [
      "\n",
      "\u001b[A"
     ]
    },
    {
     "name": "stdout",
     "output_type": "stream",
     "text": [
      "masking pplied\n",
      "index is 63, step is 253\n"
     ]
    },
    {
     "name": "stderr",
     "output_type": "stream",
     "text": [
      "\n",
      "\u001b[A"
     ]
    },
    {
     "name": "stdout",
     "output_type": "stream",
     "text": [
      "masking pplied\n",
      "index is 62, step is 249\n"
     ]
    },
    {
     "name": "stderr",
     "output_type": "stream",
     "text": [
      "\n",
      "\u001b[A"
     ]
    },
    {
     "name": "stdout",
     "output_type": "stream",
     "text": [
      "masking pplied\n",
      "index is 61, step is 245\n"
     ]
    },
    {
     "name": "stderr",
     "output_type": "stream",
     "text": [
      "\n",
      "\u001b[A"
     ]
    },
    {
     "name": "stdout",
     "output_type": "stream",
     "text": [
      "masking pplied\n",
      "index is 60, step is 241\n"
     ]
    },
    {
     "name": "stderr",
     "output_type": "stream",
     "text": [
      "\n",
      "\u001b[A"
     ]
    },
    {
     "name": "stdout",
     "output_type": "stream",
     "text": [
      "masking pplied\n",
      "index is 59, step is 237\n"
     ]
    },
    {
     "name": "stderr",
     "output_type": "stream",
     "text": [
      "\n",
      "\u001b[A"
     ]
    },
    {
     "name": "stdout",
     "output_type": "stream",
     "text": [
      "masking pplied\n",
      "index is 58, step is 233\n"
     ]
    },
    {
     "name": "stderr",
     "output_type": "stream",
     "text": [
      "\n",
      "\u001b[A"
     ]
    },
    {
     "name": "stdout",
     "output_type": "stream",
     "text": [
      "masking pplied\n",
      "index is 57, step is 229\n"
     ]
    },
    {
     "name": "stderr",
     "output_type": "stream",
     "text": [
      "\n",
      "\u001b[A"
     ]
    },
    {
     "name": "stdout",
     "output_type": "stream",
     "text": [
      "masking pplied\n",
      "index is 56, step is 225\n"
     ]
    },
    {
     "name": "stderr",
     "output_type": "stream",
     "text": [
      "\n",
      "\u001b[A"
     ]
    },
    {
     "name": "stdout",
     "output_type": "stream",
     "text": [
      "masking pplied\n",
      "index is 55, step is 221\n"
     ]
    },
    {
     "name": "stderr",
     "output_type": "stream",
     "text": [
      "\n",
      "\u001b[A"
     ]
    },
    {
     "name": "stdout",
     "output_type": "stream",
     "text": [
      "masking pplied\n",
      "index is 54, step is 217\n"
     ]
    },
    {
     "name": "stderr",
     "output_type": "stream",
     "text": [
      "\n",
      "\u001b[A"
     ]
    },
    {
     "name": "stdout",
     "output_type": "stream",
     "text": [
      "masking pplied\n",
      "index is 53, step is 213\n"
     ]
    },
    {
     "name": "stderr",
     "output_type": "stream",
     "text": [
      "\n",
      "\u001b[A"
     ]
    },
    {
     "name": "stdout",
     "output_type": "stream",
     "text": [
      "masking pplied\n",
      "index is 52, step is 209\n"
     ]
    },
    {
     "name": "stderr",
     "output_type": "stream",
     "text": [
      "\n",
      "\u001b[A"
     ]
    },
    {
     "name": "stdout",
     "output_type": "stream",
     "text": [
      "masking pplied\n",
      "index is 51, step is 205\n"
     ]
    },
    {
     "name": "stderr",
     "output_type": "stream",
     "text": [
      "\n",
      "\u001b[A"
     ]
    },
    {
     "name": "stdout",
     "output_type": "stream",
     "text": [
      "masking pplied\n",
      "index is 50, step is 201\n"
     ]
    },
    {
     "name": "stderr",
     "output_type": "stream",
     "text": [
      "\n",
      "\u001b[A"
     ]
    },
    {
     "name": "stdout",
     "output_type": "stream",
     "text": [
      "masking pplied\n",
      "index is 49, step is 197\n"
     ]
    },
    {
     "name": "stderr",
     "output_type": "stream",
     "text": [
      "\n",
      "\u001b[A"
     ]
    },
    {
     "name": "stdout",
     "output_type": "stream",
     "text": [
      "masking pplied\n",
      "index is 48, step is 193\n"
     ]
    },
    {
     "name": "stderr",
     "output_type": "stream",
     "text": [
      "\n",
      "\u001b[A"
     ]
    },
    {
     "name": "stdout",
     "output_type": "stream",
     "text": [
      "masking pplied\n",
      "index is 47, step is 189\n"
     ]
    },
    {
     "name": "stderr",
     "output_type": "stream",
     "text": [
      "\n",
      "\u001b[A"
     ]
    },
    {
     "name": "stdout",
     "output_type": "stream",
     "text": [
      "masking pplied\n",
      "index is 46, step is 185\n"
     ]
    },
    {
     "name": "stderr",
     "output_type": "stream",
     "text": [
      "\n",
      "\u001b[A"
     ]
    },
    {
     "name": "stdout",
     "output_type": "stream",
     "text": [
      "masking pplied\n",
      "index is 45, step is 181\n"
     ]
    },
    {
     "name": "stderr",
     "output_type": "stream",
     "text": [
      "\n",
      "\u001b[A"
     ]
    },
    {
     "name": "stdout",
     "output_type": "stream",
     "text": [
      "masking pplied\n",
      "index is 44, step is 177\n"
     ]
    },
    {
     "name": "stderr",
     "output_type": "stream",
     "text": [
      "\n",
      "\u001b[A"
     ]
    },
    {
     "name": "stdout",
     "output_type": "stream",
     "text": [
      "masking pplied\n",
      "index is 43, step is 173\n"
     ]
    },
    {
     "name": "stderr",
     "output_type": "stream",
     "text": [
      "\n",
      "\u001b[A"
     ]
    },
    {
     "name": "stdout",
     "output_type": "stream",
     "text": [
      "masking pplied\n",
      "index is 42, step is 169\n"
     ]
    },
    {
     "name": "stderr",
     "output_type": "stream",
     "text": [
      "\n",
      "\u001b[A"
     ]
    },
    {
     "name": "stdout",
     "output_type": "stream",
     "text": [
      "masking pplied\n",
      "index is 41, step is 165\n"
     ]
    },
    {
     "name": "stderr",
     "output_type": "stream",
     "text": [
      "\n",
      "\u001b[A"
     ]
    },
    {
     "name": "stdout",
     "output_type": "stream",
     "text": [
      "masking pplied\n",
      "index is 40, step is 161\n"
     ]
    },
    {
     "name": "stderr",
     "output_type": "stream",
     "text": [
      "\n",
      "\u001b[A"
     ]
    },
    {
     "name": "stdout",
     "output_type": "stream",
     "text": [
      "masking pplied\n",
      "index is 39, step is 157\n"
     ]
    },
    {
     "name": "stderr",
     "output_type": "stream",
     "text": [
      "\n",
      "\u001b[A"
     ]
    },
    {
     "name": "stdout",
     "output_type": "stream",
     "text": [
      "masking pplied\n",
      "index is 38, step is 153\n"
     ]
    },
    {
     "name": "stderr",
     "output_type": "stream",
     "text": [
      "\n",
      "\u001b[A"
     ]
    },
    {
     "name": "stdout",
     "output_type": "stream",
     "text": [
      "masking pplied\n",
      "index is 37, step is 149\n"
     ]
    },
    {
     "name": "stderr",
     "output_type": "stream",
     "text": [
      "\n",
      "\u001b[A"
     ]
    },
    {
     "name": "stdout",
     "output_type": "stream",
     "text": [
      "masking pplied\n",
      "index is 36, step is 145\n"
     ]
    },
    {
     "name": "stderr",
     "output_type": "stream",
     "text": [
      "\n",
      "\u001b[A"
     ]
    },
    {
     "name": "stdout",
     "output_type": "stream",
     "text": [
      "masking pplied\n",
      "index is 35, step is 141\n"
     ]
    },
    {
     "name": "stderr",
     "output_type": "stream",
     "text": [
      "\n",
      "\u001b[A"
     ]
    },
    {
     "name": "stdout",
     "output_type": "stream",
     "text": [
      "masking pplied\n",
      "index is 34, step is 137\n"
     ]
    },
    {
     "name": "stderr",
     "output_type": "stream",
     "text": [
      "\n",
      "\u001b[A"
     ]
    },
    {
     "name": "stdout",
     "output_type": "stream",
     "text": [
      "masking pplied\n",
      "index is 33, step is 133\n"
     ]
    },
    {
     "name": "stderr",
     "output_type": "stream",
     "text": [
      "\n",
      "\u001b[A"
     ]
    },
    {
     "name": "stdout",
     "output_type": "stream",
     "text": [
      "masking pplied\n",
      "index is 32, step is 129\n"
     ]
    },
    {
     "name": "stderr",
     "output_type": "stream",
     "text": [
      "\n",
      "\u001b[A"
     ]
    },
    {
     "name": "stdout",
     "output_type": "stream",
     "text": [
      "masking pplied\n",
      "index is 31, step is 125\n"
     ]
    },
    {
     "name": "stderr",
     "output_type": "stream",
     "text": [
      "\n",
      "\u001b[A"
     ]
    },
    {
     "name": "stdout",
     "output_type": "stream",
     "text": [
      "masking pplied\n",
      "index is 30, step is 121\n"
     ]
    },
    {
     "name": "stderr",
     "output_type": "stream",
     "text": [
      "\n",
      "\u001b[A"
     ]
    },
    {
     "name": "stdout",
     "output_type": "stream",
     "text": [
      "masking pplied\n",
      "index is 29, step is 117\n"
     ]
    },
    {
     "name": "stderr",
     "output_type": "stream",
     "text": [
      "\n",
      "\u001b[A"
     ]
    },
    {
     "name": "stdout",
     "output_type": "stream",
     "text": [
      "masking pplied\n",
      "index is 28, step is 113\n"
     ]
    },
    {
     "name": "stderr",
     "output_type": "stream",
     "text": [
      "\n",
      "\u001b[A"
     ]
    },
    {
     "name": "stdout",
     "output_type": "stream",
     "text": [
      "masking pplied\n",
      "index is 27, step is 109\n"
     ]
    },
    {
     "name": "stderr",
     "output_type": "stream",
     "text": [
      "\n",
      "\u001b[A"
     ]
    },
    {
     "name": "stdout",
     "output_type": "stream",
     "text": [
      "masking pplied\n",
      "index is 26, step is 105\n"
     ]
    },
    {
     "name": "stderr",
     "output_type": "stream",
     "text": [
      "\n",
      "\u001b[A"
     ]
    },
    {
     "name": "stdout",
     "output_type": "stream",
     "text": [
      "masking pplied\n",
      "index is 25, step is 101\n"
     ]
    },
    {
     "name": "stderr",
     "output_type": "stream",
     "text": [
      "\n",
      "\u001b[A"
     ]
    },
    {
     "name": "stdout",
     "output_type": "stream",
     "text": [
      "masking pplied\n",
      "index is 24, step is 97\n"
     ]
    },
    {
     "name": "stderr",
     "output_type": "stream",
     "text": [
      "\n",
      "\u001b[A"
     ]
    },
    {
     "name": "stdout",
     "output_type": "stream",
     "text": [
      "masking pplied\n",
      "index is 23, step is 93\n"
     ]
    },
    {
     "name": "stderr",
     "output_type": "stream",
     "text": [
      "\n",
      "\u001b[A"
     ]
    },
    {
     "name": "stdout",
     "output_type": "stream",
     "text": [
      "masking pplied\n",
      "index is 22, step is 89\n"
     ]
    },
    {
     "name": "stderr",
     "output_type": "stream",
     "text": [
      "\n",
      "\u001b[A"
     ]
    },
    {
     "name": "stdout",
     "output_type": "stream",
     "text": [
      "masking pplied\n",
      "index is 21, step is 85\n"
     ]
    },
    {
     "name": "stderr",
     "output_type": "stream",
     "text": [
      "\n",
      "\u001b[A"
     ]
    },
    {
     "name": "stdout",
     "output_type": "stream",
     "text": [
      "masking pplied\n",
      "index is 20, step is 81\n"
     ]
    },
    {
     "name": "stderr",
     "output_type": "stream",
     "text": [
      "\n",
      "\u001b[A"
     ]
    },
    {
     "name": "stdout",
     "output_type": "stream",
     "text": [
      "masking pplied\n",
      "index is 19, step is 77\n"
     ]
    },
    {
     "name": "stderr",
     "output_type": "stream",
     "text": [
      "\n",
      "\u001b[A"
     ]
    },
    {
     "name": "stdout",
     "output_type": "stream",
     "text": [
      "masking pplied\n",
      "index is 18, step is 73\n"
     ]
    },
    {
     "name": "stderr",
     "output_type": "stream",
     "text": [
      "\n",
      "\u001b[A"
     ]
    },
    {
     "name": "stdout",
     "output_type": "stream",
     "text": [
      "masking pplied\n",
      "index is 17, step is 69\n"
     ]
    },
    {
     "name": "stderr",
     "output_type": "stream",
     "text": [
      "\n",
      "\u001b[A"
     ]
    },
    {
     "name": "stdout",
     "output_type": "stream",
     "text": [
      "masking pplied\n",
      "index is 16, step is 65\n"
     ]
    },
    {
     "name": "stderr",
     "output_type": "stream",
     "text": [
      "\n",
      "\u001b[A"
     ]
    },
    {
     "name": "stdout",
     "output_type": "stream",
     "text": [
      "masking pplied\n",
      "index is 15, step is 61\n"
     ]
    },
    {
     "name": "stderr",
     "output_type": "stream",
     "text": [
      "\n",
      "\u001b[A"
     ]
    },
    {
     "name": "stdout",
     "output_type": "stream",
     "text": [
      "masking pplied\n",
      "index is 14, step is 57\n"
     ]
    },
    {
     "name": "stderr",
     "output_type": "stream",
     "text": [
      "\n",
      "\u001b[A"
     ]
    },
    {
     "name": "stdout",
     "output_type": "stream",
     "text": [
      "masking pplied\n",
      "index is 13, step is 53\n"
     ]
    },
    {
     "name": "stderr",
     "output_type": "stream",
     "text": [
      "\n",
      "\u001b[A"
     ]
    },
    {
     "name": "stdout",
     "output_type": "stream",
     "text": [
      "masking pplied\n",
      "index is 12, step is 49\n"
     ]
    },
    {
     "name": "stderr",
     "output_type": "stream",
     "text": [
      "\n",
      "\u001b[A"
     ]
    },
    {
     "name": "stdout",
     "output_type": "stream",
     "text": [
      "masking pplied\n",
      "index is 11, step is 45\n"
     ]
    },
    {
     "name": "stderr",
     "output_type": "stream",
     "text": [
      "\n",
      "\u001b[A"
     ]
    },
    {
     "name": "stdout",
     "output_type": "stream",
     "text": [
      "masking pplied\n",
      "index is 10, step is 41\n"
     ]
    },
    {
     "name": "stderr",
     "output_type": "stream",
     "text": [
      "\n",
      "\u001b[A"
     ]
    },
    {
     "name": "stdout",
     "output_type": "stream",
     "text": [
      "masking pplied\n",
      "index is 9, step is 37\n"
     ]
    },
    {
     "name": "stderr",
     "output_type": "stream",
     "text": [
      "\n",
      "\u001b[A"
     ]
    },
    {
     "name": "stdout",
     "output_type": "stream",
     "text": [
      "masking pplied\n",
      "index is 8, step is 33\n"
     ]
    },
    {
     "name": "stderr",
     "output_type": "stream",
     "text": [
      "\n",
      "\u001b[A"
     ]
    },
    {
     "name": "stdout",
     "output_type": "stream",
     "text": [
      "masking pplied\n",
      "index is 7, step is 29\n"
     ]
    },
    {
     "name": "stderr",
     "output_type": "stream",
     "text": [
      "\n",
      "\u001b[A"
     ]
    },
    {
     "name": "stdout",
     "output_type": "stream",
     "text": [
      "masking pplied\n",
      "index is 6, step is 25\n"
     ]
    },
    {
     "name": "stderr",
     "output_type": "stream",
     "text": [
      "\n",
      "\u001b[A"
     ]
    },
    {
     "name": "stdout",
     "output_type": "stream",
     "text": [
      "masking pplied\n",
      "index is 5, step is 21\n"
     ]
    },
    {
     "name": "stderr",
     "output_type": "stream",
     "text": [
      "\n",
      "\u001b[A"
     ]
    },
    {
     "name": "stdout",
     "output_type": "stream",
     "text": [
      "masking pplied\n",
      "index is 4, step is 17\n"
     ]
    },
    {
     "name": "stderr",
     "output_type": "stream",
     "text": [
      "\n",
      "\u001b[A"
     ]
    },
    {
     "name": "stdout",
     "output_type": "stream",
     "text": [
      "masking pplied\n",
      "index is 3, step is 13\n"
     ]
    },
    {
     "name": "stderr",
     "output_type": "stream",
     "text": [
      "\n",
      "\u001b[A"
     ]
    },
    {
     "name": "stdout",
     "output_type": "stream",
     "text": [
      "masking pplied\n",
      "index is 2, step is 9\n"
     ]
    },
    {
     "name": "stderr",
     "output_type": "stream",
     "text": [
      "\n",
      "\u001b[A"
     ]
    },
    {
     "name": "stdout",
     "output_type": "stream",
     "text": [
      "masking pplied\n",
      "index is 1, step is 5\n"
     ]
    },
    {
     "name": "stderr",
     "output_type": "stream",
     "text": [
      "\n",
      "\u001b[A"
     ]
    },
    {
     "name": "stdout",
     "output_type": "stream",
     "text": [
      "masking pplied\n",
      "index is 0, step is 1\n"
     ]
    },
    {
     "name": "stderr",
     "output_type": "stream",
     "text": [
      "\n",
      "Decoding image: 100%|██████████| 75/75 [39:46<00:00, 31.83s/it]"
     ]
    },
    {
     "name": "stdout",
     "output_type": "stream",
     "text": [
      "masking pplied\n",
      "Video shape: torch.Size([75, 3, 256, 768])\n"
     ]
    },
    {
     "name": "stderr",
     "output_type": "stream",
     "text": [
      "\n"
     ]
    },
    {
     "name": "stdout",
     "output_type": "stream",
     "text": [
      "rendering 3 examples of class '289' in 250 steps and using s=3.00.\n",
      "Running DDIM Sampling with 75 timesteps\n",
      "input range tensor(0.) tensor(1.)\n",
      "\n"
     ]
    },
    {
     "name": "stderr",
     "output_type": "stream",
     "text": [
      "\n",
      "\u001b[A"
     ]
    },
    {
     "name": "stdout",
     "output_type": "stream",
     "text": [
      "times are 75, 75\n",
      "index is 74, step is 297\n"
     ]
    },
    {
     "name": "stderr",
     "output_type": "stream",
     "text": [
      "\n",
      "\u001b[A"
     ]
    },
    {
     "name": "stdout",
     "output_type": "stream",
     "text": [
      "masking pplied\n",
      "index is 73, step is 293\n"
     ]
    },
    {
     "name": "stderr",
     "output_type": "stream",
     "text": [
      "Decoding image:   1%|▏         | 1/75 [00:46<57:09, 46.35s/it]\n",
      "Decoding image:   0%|          | 0/75 [41:49<?, ?it/s]\n",
      "Decoding image:   0%|          | 0/75 [40:53<?, ?it/s]\n"
     ]
    },
    {
     "ename": "KeyboardInterrupt",
     "evalue": "",
     "output_type": "error",
     "traceback": [
      "\u001b[0;31m---------------------------------------------------------------------------\u001b[0m",
      "\u001b[0;31mKeyboardInterrupt\u001b[0m                         Traceback (most recent call last)",
      "Cell \u001b[0;32mIn[129], line 13\u001b[0m\n\u001b[1;32m     10\u001b[0m mapped_image \u001b[39m=\u001b[39m _unmap_img(init_image)\n\u001b[1;32m     11\u001b[0m init_latent \u001b[39m=\u001b[39m model\u001b[39m.\u001b[39mget_first_stage_encoding(model\u001b[39m.\u001b[39mencode_first_stage(_unmap_img(init_image))) \u001b[39m# move to latent space\u001b[39;00m\n\u001b[0;32m---> 13\u001b[0m out \u001b[39m=\u001b[39mgenerate_samples(model, sampler, tgt_classes, n_samples_per_class, ddim_steps, scale, init_latent\u001b[39m=\u001b[39;49minit_latent, t_enc\u001b[39m=\u001b[39;49mt_enc, init_image\u001b[39m=\u001b[39;49minit_image, ccdddim\u001b[39m=\u001b[39;49m\u001b[39mTrue\u001b[39;49;00m)\n\u001b[1;32m     15\u001b[0m all_samples \u001b[39m=\u001b[39m out[\u001b[39m\"\u001b[39m\u001b[39msamples\u001b[39m\u001b[39m\"\u001b[39m]\n\u001b[1;32m     16\u001b[0m all_videos \u001b[39m=\u001b[39m out[\u001b[39m\"\u001b[39m\u001b[39mvideos\u001b[39m\u001b[39m\"\u001b[39m]\n",
      "Cell \u001b[0;32mIn[31], line 21\u001b[0m, in \u001b[0;36mgenerate_samples\u001b[0;34m(model, sampler, classes, n_samples_per_class, ddim_steps, scale, init_image, t_enc, init_latent, ccdddim, latent_t_0)\u001b[0m\n\u001b[1;32m     19\u001b[0m \u001b[39m# decode it\u001b[39;00m\n\u001b[1;32m     20\u001b[0m \u001b[39mif\u001b[39;00m ccdddim:\n\u001b[0;32m---> 21\u001b[0m     out \u001b[39m=\u001b[39m sampler\u001b[39m.\u001b[39;49mdecode(z_enc, c, t_enc, unconditional_guidance_scale\u001b[39m=\u001b[39;49mscale, unconditional_conditioning\u001b[39m=\u001b[39;49muc, y\u001b[39m=\u001b[39;49mxc\u001b[39m.\u001b[39;49mto(model\u001b[39m.\u001b[39;49mdevice), latent_t_0 \u001b[39m=\u001b[39;49m latent_t_0)\n\u001b[1;32m     22\u001b[0m     samples \u001b[39m=\u001b[39m out[\u001b[39m\"\u001b[39m\u001b[39mx_dec\u001b[39m\u001b[39m\"\u001b[39m]\n\u001b[1;32m     23\u001b[0m     prob \u001b[39m=\u001b[39m out[\u001b[39m\"\u001b[39m\u001b[39mprob\u001b[39m\u001b[39m\"\u001b[39m]\n",
      "File \u001b[0;32m/misc/student/faridk/miniconda3/envs/ldm/lib/python3.8/site-packages/torch/autograd/grad_mode.py:27\u001b[0m, in \u001b[0;36m_DecoratorContextManager.__call__.<locals>.decorate_context\u001b[0;34m(*args, **kwargs)\u001b[0m\n\u001b[1;32m     24\u001b[0m \u001b[39m@functools\u001b[39m\u001b[39m.\u001b[39mwraps(func)\n\u001b[1;32m     25\u001b[0m \u001b[39mdef\u001b[39;00m \u001b[39mdecorate_context\u001b[39m(\u001b[39m*\u001b[39margs, \u001b[39m*\u001b[39m\u001b[39m*\u001b[39mkwargs):\n\u001b[1;32m     26\u001b[0m     \u001b[39mwith\u001b[39;00m \u001b[39mself\u001b[39m\u001b[39m.\u001b[39mclone():\n\u001b[0;32m---> 27\u001b[0m         \u001b[39mreturn\u001b[39;00m func(\u001b[39m*\u001b[39;49margs, \u001b[39m*\u001b[39;49m\u001b[39m*\u001b[39;49mkwargs)\n",
      "Cell \u001b[0;32mIn[126], line 461\u001b[0m, in \u001b[0;36mCCDDIMSampler.decode\u001b[0;34m(self, x_latent, cond, t_start, y, unconditional_guidance_scale, unconditional_conditioning, use_original_steps, latent_t_0)\u001b[0m\n\u001b[1;32m    459\u001b[0m \u001b[39mprint\u001b[39m(\u001b[39mf\u001b[39m\u001b[39m\"\u001b[39m\u001b[39mindex is \u001b[39m\u001b[39m{\u001b[39;00mindex\u001b[39m}\u001b[39;00m\u001b[39m, step is \u001b[39m\u001b[39m{\u001b[39;00mstep\u001b[39m}\u001b[39;00m\u001b[39m\"\u001b[39m)\n\u001b[1;32m    460\u001b[0m ts \u001b[39m=\u001b[39m torch\u001b[39m.\u001b[39mfull((x_latent\u001b[39m.\u001b[39mshape[\u001b[39m0\u001b[39m],), step, device\u001b[39m=\u001b[39mx_latent\u001b[39m.\u001b[39mdevice, dtype\u001b[39m=\u001b[39mtorch\u001b[39m.\u001b[39mlong)\n\u001b[0;32m--> 461\u001b[0m x_dec, _ \u001b[39m=\u001b[39m \u001b[39mself\u001b[39;49m\u001b[39m.\u001b[39;49mp_sample_ddim(x_dec, cond, ts, index\u001b[39m=\u001b[39;49mindex, use_original_steps\u001b[39m=\u001b[39;49muse_original_steps,\n\u001b[1;32m    462\u001b[0m                               unconditional_guidance_scale\u001b[39m=\u001b[39;49munconditional_guidance_scale,\n\u001b[1;32m    463\u001b[0m                               unconditional_conditioning\u001b[39m=\u001b[39;49munconditional_conditioning, y\u001b[39m=\u001b[39;49my)\n\u001b[1;32m    464\u001b[0m \u001b[39mif\u001b[39;00m latent_t_0:\n\u001b[1;32m    465\u001b[0m     \u001b[39mprint\u001b[39m(\u001b[39m\"\u001b[39m\u001b[39mmasking pplied\u001b[39m\u001b[39m\"\u001b[39m)\n",
      "File \u001b[0;32m/misc/student/faridk/miniconda3/envs/ldm/lib/python3.8/site-packages/torch/autograd/grad_mode.py:27\u001b[0m, in \u001b[0;36m_DecoratorContextManager.__call__.<locals>.decorate_context\u001b[0;34m(*args, **kwargs)\u001b[0m\n\u001b[1;32m     24\u001b[0m \u001b[39m@functools\u001b[39m\u001b[39m.\u001b[39mwraps(func)\n\u001b[1;32m     25\u001b[0m \u001b[39mdef\u001b[39;00m \u001b[39mdecorate_context\u001b[39m(\u001b[39m*\u001b[39margs, \u001b[39m*\u001b[39m\u001b[39m*\u001b[39mkwargs):\n\u001b[1;32m     26\u001b[0m     \u001b[39mwith\u001b[39;00m \u001b[39mself\u001b[39m\u001b[39m.\u001b[39mclone():\n\u001b[0;32m---> 27\u001b[0m         \u001b[39mreturn\u001b[39;00m func(\u001b[39m*\u001b[39;49margs, \u001b[39m*\u001b[39;49m\u001b[39m*\u001b[39;49mkwargs)\n",
      "Cell \u001b[0;32mIn[126], line 387\u001b[0m, in \u001b[0;36mCCDDIMSampler.p_sample_ddim\u001b[0;34m(self, x, c, t, index, repeat_noise, use_original_steps, quantize_denoised, temperature, noise_dropout, score_corrector, corrector_kwargs, unconditional_guidance_scale, unconditional_conditioning, y)\u001b[0m\n\u001b[1;32m    381\u001b[0m \u001b[39m@torch\u001b[39m\u001b[39m.\u001b[39mno_grad()\n\u001b[1;32m    382\u001b[0m \u001b[39mdef\u001b[39;00m \u001b[39mp_sample_ddim\u001b[39m(\u001b[39mself\u001b[39m, x, c, t, index, repeat_noise\u001b[39m=\u001b[39m\u001b[39mFalse\u001b[39;00m, use_original_steps\u001b[39m=\u001b[39m\u001b[39mFalse\u001b[39;00m, quantize_denoised\u001b[39m=\u001b[39m\u001b[39mFalse\u001b[39;00m,\n\u001b[1;32m    383\u001b[0m                   temperature\u001b[39m=\u001b[39m\u001b[39m1.\u001b[39m, noise_dropout\u001b[39m=\u001b[39m\u001b[39m0.\u001b[39m, score_corrector\u001b[39m=\u001b[39m\u001b[39mNone\u001b[39;00m, corrector_kwargs\u001b[39m=\u001b[39m\u001b[39mNone\u001b[39;00m,\n\u001b[1;32m    384\u001b[0m                   unconditional_guidance_scale\u001b[39m=\u001b[39m\u001b[39m1.\u001b[39m, unconditional_conditioning\u001b[39m=\u001b[39m\u001b[39mNone\u001b[39;00m, y\u001b[39m=\u001b[39m\u001b[39mNone\u001b[39;00m):\n\u001b[1;32m    385\u001b[0m     b, \u001b[39m*\u001b[39m_, device \u001b[39m=\u001b[39m \u001b[39m*\u001b[39mx\u001b[39m.\u001b[39mshape, x\u001b[39m.\u001b[39mdevice\n\u001b[0;32m--> 387\u001b[0m     e_t \u001b[39m=\u001b[39m \u001b[39mself\u001b[39;49m\u001b[39m.\u001b[39;49mconditional_score(x\u001b[39m=\u001b[39;49mx, c\u001b[39m=\u001b[39;49mc, t\u001b[39m=\u001b[39;49mt, index\u001b[39m=\u001b[39;49mindex, use_original_steps\u001b[39m=\u001b[39;49muse_original_steps,\n\u001b[1;32m    388\u001b[0m                                  quantize_denoised\u001b[39m=\u001b[39;49mquantize_denoised,\n\u001b[1;32m    389\u001b[0m                                  unconditional_guidance_scale\u001b[39m=\u001b[39;49munconditional_guidance_scale,\n\u001b[1;32m    390\u001b[0m                                  unconditional_conditioning\u001b[39m=\u001b[39;49munconditional_conditioning, y\u001b[39m=\u001b[39;49my)\n\u001b[1;32m    392\u001b[0m     \u001b[39mif\u001b[39;00m score_corrector \u001b[39mis\u001b[39;00m \u001b[39mnot\u001b[39;00m \u001b[39mNone\u001b[39;00m:\n\u001b[1;32m    393\u001b[0m         \u001b[39massert\u001b[39;00m \u001b[39mself\u001b[39m\u001b[39m.\u001b[39mmodel\u001b[39m.\u001b[39mparameterization \u001b[39m==\u001b[39m \u001b[39m\"\u001b[39m\u001b[39meps\u001b[39m\u001b[39m\"\u001b[39m\n",
      "Cell \u001b[0;32mIn[126], line 161\u001b[0m, in \u001b[0;36mCCDDIMSampler.conditional_score\u001b[0;34m(self, x, t, c, index, use_original_steps, quantize_denoised, unconditional_guidance_scale, unconditional_conditioning, y)\u001b[0m\n\u001b[1;32m    159\u001b[0m \u001b[39massert\u001b[39;00m x\u001b[39m.\u001b[39mrequires_grad \u001b[39m==\u001b[39m \u001b[39mFalse\u001b[39;00m, \u001b[39m\"\u001b[39m\u001b[39mx requires grad\u001b[39m\u001b[39m\"\u001b[39m\n\u001b[1;32m    160\u001b[0m x_grad \u001b[39m=\u001b[39m x\u001b[39m.\u001b[39mdetach()\u001b[39m.\u001b[39mrequires_grad_()\n\u001b[0;32m--> 161\u001b[0m e_t_uncond, e_t, pred_x0 \u001b[39m=\u001b[39m \u001b[39mself\u001b[39;49m\u001b[39m.\u001b[39;49mget_output(x_grad, t, c, index, unconditional_conditioning, use_original_steps, quantize_denoised\u001b[39m=\u001b[39;49mquantize_denoised, return_decoded\u001b[39m=\u001b[39;49m\u001b[39mTrue\u001b[39;49;00m)\n\u001b[1;32m    162\u001b[0m \u001b[39m#print(\"computing the lp gradient\")\u001b[39;00m\n\u001b[1;32m    163\u001b[0m \u001b[39massert\u001b[39;00m pred_x0\u001b[39m.\u001b[39mrequires_grad \u001b[39m==\u001b[39m \u001b[39mTrue\u001b[39;00m, \u001b[39m\"\u001b[39m\u001b[39mpred_x0 does not require grad\u001b[39m\u001b[39m\"\u001b[39m\n",
      "Cell \u001b[0;32mIn[126], line 92\u001b[0m, in \u001b[0;36mCCDDIMSampler.get_output\u001b[0;34m(self, x, t, c, index, unconditional_conditioning, use_original_steps, quantize_denoised, return_decoded)\u001b[0m\n\u001b[1;32m     88\u001b[0m \u001b[39mif\u001b[39;00m quantize_denoised:\n\u001b[1;32m     89\u001b[0m     pred_latent_x0, _, \u001b[39m*\u001b[39m_ \u001b[39m=\u001b[39m \u001b[39mself\u001b[39m\u001b[39m.\u001b[39mmodel\u001b[39m.\u001b[39mfirst_stage_model\u001b[39m.\u001b[39mquantize(pred_latent_x0)\n\u001b[0;32m---> 92\u001b[0m pred_x0 \u001b[39m=\u001b[39m \u001b[39mself\u001b[39;49m\u001b[39m.\u001b[39;49mmodel\u001b[39m.\u001b[39;49mdifferentiable_decode_first_stage(\n\u001b[1;32m     93\u001b[0m     pred_latent_x0)  \u001b[39m# if self.model_type == \"latent\" else pred_latent_x0\u001b[39;00m\n\u001b[1;32m     94\u001b[0m \u001b[39m#pred_x0 = torch.clamp((pred_x0 + 1.0) / 2.0, min=0.0, max=1.0)\u001b[39;00m\n\u001b[1;32m     95\u001b[0m \u001b[39mreturn\u001b[39;00m e_t_uncond, e_t, pred_x0\n",
      "File \u001b[0;32m/misc/student/faridk/stable-diffusion/ldm/models/diffusion/ddpm.py:821\u001b[0m, in \u001b[0;36mLatentDiffusion.differentiable_decode_first_stage\u001b[0;34m(self, z, predict_cids, force_not_quantize)\u001b[0m\n\u001b[1;32m    819\u001b[0m \u001b[39melse\u001b[39;00m:\n\u001b[1;32m    820\u001b[0m     \u001b[39mif\u001b[39;00m \u001b[39misinstance\u001b[39m(\u001b[39mself\u001b[39m\u001b[39m.\u001b[39mfirst_stage_model, VQModelInterface):\n\u001b[0;32m--> 821\u001b[0m         \u001b[39mreturn\u001b[39;00m \u001b[39mself\u001b[39;49m\u001b[39m.\u001b[39;49mfirst_stage_model\u001b[39m.\u001b[39;49mdecode(z, force_not_quantize\u001b[39m=\u001b[39;49mpredict_cids \u001b[39mor\u001b[39;49;00m force_not_quantize)\n\u001b[1;32m    822\u001b[0m     \u001b[39melse\u001b[39;00m:\n\u001b[1;32m    823\u001b[0m         \u001b[39mreturn\u001b[39;00m \u001b[39mself\u001b[39m\u001b[39m.\u001b[39mfirst_stage_model\u001b[39m.\u001b[39mdecode(z)\n",
      "File \u001b[0;32m/misc/student/faridk/stable-diffusion/ldm/models/autoencoder.py:281\u001b[0m, in \u001b[0;36mVQModelInterface.decode\u001b[0;34m(self, h, force_not_quantize)\u001b[0m\n\u001b[1;32m    279\u001b[0m     quant \u001b[39m=\u001b[39m h\n\u001b[1;32m    280\u001b[0m quant \u001b[39m=\u001b[39m \u001b[39mself\u001b[39m\u001b[39m.\u001b[39mpost_quant_conv(quant)\n\u001b[0;32m--> 281\u001b[0m dec \u001b[39m=\u001b[39m \u001b[39mself\u001b[39;49m\u001b[39m.\u001b[39;49mdecoder(quant)\n\u001b[1;32m    282\u001b[0m \u001b[39mreturn\u001b[39;00m dec\n",
      "File \u001b[0;32m/misc/student/faridk/miniconda3/envs/ldm/lib/python3.8/site-packages/torch/nn/modules/module.py:1110\u001b[0m, in \u001b[0;36mModule._call_impl\u001b[0;34m(self, *input, **kwargs)\u001b[0m\n\u001b[1;32m   1106\u001b[0m \u001b[39m# If we don't have any hooks, we want to skip the rest of the logic in\u001b[39;00m\n\u001b[1;32m   1107\u001b[0m \u001b[39m# this function, and just call forward.\u001b[39;00m\n\u001b[1;32m   1108\u001b[0m \u001b[39mif\u001b[39;00m \u001b[39mnot\u001b[39;00m (\u001b[39mself\u001b[39m\u001b[39m.\u001b[39m_backward_hooks \u001b[39mor\u001b[39;00m \u001b[39mself\u001b[39m\u001b[39m.\u001b[39m_forward_hooks \u001b[39mor\u001b[39;00m \u001b[39mself\u001b[39m\u001b[39m.\u001b[39m_forward_pre_hooks \u001b[39mor\u001b[39;00m _global_backward_hooks\n\u001b[1;32m   1109\u001b[0m         \u001b[39mor\u001b[39;00m _global_forward_hooks \u001b[39mor\u001b[39;00m _global_forward_pre_hooks):\n\u001b[0;32m-> 1110\u001b[0m     \u001b[39mreturn\u001b[39;00m forward_call(\u001b[39m*\u001b[39;49m\u001b[39minput\u001b[39;49m, \u001b[39m*\u001b[39;49m\u001b[39m*\u001b[39;49mkwargs)\n\u001b[1;32m   1111\u001b[0m \u001b[39m# Do not call functions when jit is used\u001b[39;00m\n\u001b[1;32m   1112\u001b[0m full_backward_hooks, non_full_backward_hooks \u001b[39m=\u001b[39m [], []\n",
      "File \u001b[0;32m/misc/student/faridk/stable-diffusion/ldm/modules/diffusionmodules/model.py:547\u001b[0m, in \u001b[0;36mDecoder.forward\u001b[0;34m(self, z)\u001b[0m\n\u001b[1;32m    545\u001b[0m \u001b[39m# middle\u001b[39;00m\n\u001b[1;32m    546\u001b[0m h \u001b[39m=\u001b[39m \u001b[39mself\u001b[39m\u001b[39m.\u001b[39mmid\u001b[39m.\u001b[39mblock_1(h, temb)\n\u001b[0;32m--> 547\u001b[0m h \u001b[39m=\u001b[39m \u001b[39mself\u001b[39;49m\u001b[39m.\u001b[39;49mmid\u001b[39m.\u001b[39;49mattn_1(h)\n\u001b[1;32m    548\u001b[0m h \u001b[39m=\u001b[39m \u001b[39mself\u001b[39m\u001b[39m.\u001b[39mmid\u001b[39m.\u001b[39mblock_2(h, temb)\n\u001b[1;32m    550\u001b[0m \u001b[39m# upsampling\u001b[39;00m\n",
      "File \u001b[0;32m/misc/student/faridk/miniconda3/envs/ldm/lib/python3.8/site-packages/torch/nn/modules/module.py:1110\u001b[0m, in \u001b[0;36mModule._call_impl\u001b[0;34m(self, *input, **kwargs)\u001b[0m\n\u001b[1;32m   1106\u001b[0m \u001b[39m# If we don't have any hooks, we want to skip the rest of the logic in\u001b[39;00m\n\u001b[1;32m   1107\u001b[0m \u001b[39m# this function, and just call forward.\u001b[39;00m\n\u001b[1;32m   1108\u001b[0m \u001b[39mif\u001b[39;00m \u001b[39mnot\u001b[39;00m (\u001b[39mself\u001b[39m\u001b[39m.\u001b[39m_backward_hooks \u001b[39mor\u001b[39;00m \u001b[39mself\u001b[39m\u001b[39m.\u001b[39m_forward_hooks \u001b[39mor\u001b[39;00m \u001b[39mself\u001b[39m\u001b[39m.\u001b[39m_forward_pre_hooks \u001b[39mor\u001b[39;00m _global_backward_hooks\n\u001b[1;32m   1109\u001b[0m         \u001b[39mor\u001b[39;00m _global_forward_hooks \u001b[39mor\u001b[39;00m _global_forward_pre_hooks):\n\u001b[0;32m-> 1110\u001b[0m     \u001b[39mreturn\u001b[39;00m forward_call(\u001b[39m*\u001b[39;49m\u001b[39minput\u001b[39;49m, \u001b[39m*\u001b[39;49m\u001b[39m*\u001b[39;49mkwargs)\n\u001b[1;32m   1111\u001b[0m \u001b[39m# Do not call functions when jit is used\u001b[39;00m\n\u001b[1;32m   1112\u001b[0m full_backward_hooks, non_full_backward_hooks \u001b[39m=\u001b[39m [], []\n",
      "File \u001b[0;32m/misc/student/faridk/stable-diffusion/ldm/modules/diffusionmodules/model.py:192\u001b[0m, in \u001b[0;36mAttnBlock.forward\u001b[0;34m(self, x)\u001b[0m\n\u001b[1;32m    190\u001b[0m w_ \u001b[39m=\u001b[39m torch\u001b[39m.\u001b[39mbmm(q,k)     \u001b[39m# b,hw,hw    w[b,i,j]=sum_c q[b,i,c]k[b,c,j]\u001b[39;00m\n\u001b[1;32m    191\u001b[0m w_ \u001b[39m=\u001b[39m w_ \u001b[39m*\u001b[39m (\u001b[39mint\u001b[39m(c)\u001b[39m*\u001b[39m\u001b[39m*\u001b[39m(\u001b[39m-\u001b[39m\u001b[39m0.5\u001b[39m))\n\u001b[0;32m--> 192\u001b[0m w_ \u001b[39m=\u001b[39m torch\u001b[39m.\u001b[39;49mnn\u001b[39m.\u001b[39;49mfunctional\u001b[39m.\u001b[39;49msoftmax(w_, dim\u001b[39m=\u001b[39;49m\u001b[39m2\u001b[39;49m)\n\u001b[1;32m    194\u001b[0m \u001b[39m# attend to values\u001b[39;00m\n\u001b[1;32m    195\u001b[0m v \u001b[39m=\u001b[39m v\u001b[39m.\u001b[39mreshape(b,c,h\u001b[39m*\u001b[39mw)\n",
      "File \u001b[0;32m/misc/student/faridk/miniconda3/envs/ldm/lib/python3.8/site-packages/torch/nn/functional.py:1818\u001b[0m, in \u001b[0;36msoftmax\u001b[0;34m(input, dim, _stacklevel, dtype)\u001b[0m\n\u001b[1;32m   1816\u001b[0m     dim \u001b[39m=\u001b[39m _get_softmax_dim(\u001b[39m\"\u001b[39m\u001b[39msoftmax\u001b[39m\u001b[39m\"\u001b[39m, \u001b[39minput\u001b[39m\u001b[39m.\u001b[39mdim(), _stacklevel)\n\u001b[1;32m   1817\u001b[0m \u001b[39mif\u001b[39;00m dtype \u001b[39mis\u001b[39;00m \u001b[39mNone\u001b[39;00m:\n\u001b[0;32m-> 1818\u001b[0m     ret \u001b[39m=\u001b[39m \u001b[39minput\u001b[39;49m\u001b[39m.\u001b[39;49msoftmax(dim)\n\u001b[1;32m   1819\u001b[0m \u001b[39melse\u001b[39;00m:\n\u001b[1;32m   1820\u001b[0m     ret \u001b[39m=\u001b[39m \u001b[39minput\u001b[39m\u001b[39m.\u001b[39msoftmax(dim, dtype\u001b[39m=\u001b[39mdtype)\n",
      "\u001b[0;31mKeyboardInterrupt\u001b[0m: "
     ]
    }
   ],
   "source": [
    "for i, sample in enumerate(dataset, 14690):\n",
    "    image, label = dataset[i]\n",
    "    tgt_classes = synset_closest_idx[label]\n",
    "    print(f\"converting {i} from : {i2h[label]} to: {[i2h[tgt_class] for tgt_class in tgt_classes]}\")\n",
    "    init_image = image.repeat(n_samples_per_class, 1, 1, 1).to(device)\n",
    "    plt.imshow(init_image[0].permute(1, 2, 0).detach().cpu().numpy())\n",
    "    plt.show()\n",
    "    sampler.init_images = init_image\n",
    "    sampler.init_labels = n_samples_per_class*[label]\n",
    "    mapped_image = _unmap_img(init_image)\n",
    "    init_latent = model.get_first_stage_encoding(model.encode_first_stage(_unmap_img(init_image))) # move to latent space\n",
    "   \n",
    "    out =generate_samples(model, sampler, tgt_classes, n_samples_per_class, ddim_steps, scale, init_latent=init_latent, t_enc=t_enc, init_image=init_image, ccdddim=True)\n",
    "\n",
    "    all_samples = out[\"samples\"]\n",
    "    all_videos = out[\"videos\"]\n",
    "    all_probs = out[\"probs\"]\n",
    "\n",
    "    # Loop through your data and update the table incrementally\n",
    "    for i in range(len(all_probs)):\n",
    "        # Generate data for the current row\n",
    "        src_image = all_samples[i][0]\n",
    "        src_image = wandb.Image(src_image)\n",
    "        #my_table.update_column(\"image\", [wandb.Image(src_image)], row_idx=i)\n",
    "        gen_images = []\n",
    "        for j in range(n_samples_per_class):\n",
    "            gen_image = all_samples[i][j+1]\n",
    "            gen_images.append(wandb.Image(gen_image))\n",
    "            #my_table.update_column(f\"gen_image_{j}\", [wandb.Image(gen_image)], row_idx=i)\n",
    "\n",
    "        class_prediction = all_probs[i]\n",
    "        source = i2h[label]\n",
    "        target = i2h[tgt_classes[i]]\n",
    "\n",
    "        diff = 255.*(init_image-all_samples[i][1:]).permute(0, 2, 3, 1).detach().cpu().numpy()\n",
    "        closeness_2 = int(np.linalg.norm(diff.astype(np.uint8), axis=-1).mean())\n",
    "        closeness_1 = int(np.abs(diff).sum(axis=-1).mean())\n",
    "\n",
    "        video = wandb.Video((255.*all_videos[i]).to(torch.uint8), fps=1, format=\"gif\")\n",
    "        my_table.add_data(src_image, source, target, *gen_images, class_prediction, closeness_1, closeness_2, video)\n",
    "\n",
    "        run.log({\"dvce_video\": my_table})\n",
    "\n",
    "run.log({\"dvce_video_complete\": my_table})"
   ]
  },
  {
   "cell_type": "code",
   "execution_count": null,
   "metadata": {},
   "outputs": [],
   "source": []
  }
 ],
 "metadata": {
  "accelerator": "GPU",
  "colab": {
   "collapsed_sections": [],
   "name": "latent-imagenet-diffusion.ipynb",
   "provenance": []
  },
  "kernelspec": {
   "display_name": "ldm",
   "language": "python",
   "name": "ldm"
  },
  "language_info": {
   "codemirror_mode": {
    "name": "ipython",
    "version": 3
   },
   "file_extension": ".py",
   "mimetype": "text/x-python",
   "name": "python",
   "nbconvert_exporter": "python",
   "pygments_lexer": "ipython3",
   "version": "3.8.5"
  }
 },
 "nbformat": 4,
 "nbformat_minor": 0
}
