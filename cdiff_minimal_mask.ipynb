{
 "cells": [
  {
   "cell_type": "markdown",
   "metadata": {
    "id": "NUmmV5ZvrPbP"
   },
   "source": [
    "# Class-Conditional Synthesis with Latent Diffusion Models"
   ]
  },
  {
   "attachments": {},
   "cell_type": "markdown",
   "metadata": {
    "id": "zh7u8gOx0ivw"
   },
   "source": [
    "## Install all the requirements and Imports\n"
   ]
  },
  {
   "cell_type": "code",
   "execution_count": 1,
   "metadata": {},
   "outputs": [],
   "source": [
    "!export CUDA_VISIBLE_DEVICES=0"
   ]
  },
  {
   "cell_type": "code",
   "execution_count": 2,
   "metadata": {},
   "outputs": [
    {
     "name": "stdout",
     "output_type": "stream",
     "text": [
      "Wed Apr 26 17:15:58 2023       \n",
      "+-----------------------------------------------------------------------------+\n",
      "| NVIDIA-SMI 525.105.17   Driver Version: 525.105.17   CUDA Version: 12.0     |\n",
      "|-------------------------------+----------------------+----------------------+\n",
      "| GPU  Name        Persistence-M| Bus-Id        Disp.A | Volatile Uncorr. ECC |\n",
      "| Fan  Temp  Perf  Pwr:Usage/Cap|         Memory-Usage | GPU-Util  Compute M. |\n",
      "|                               |                      |               MIG M. |\n",
      "|===============================+======================+======================|\n",
      "|   0  NVIDIA GeForce ...  Off  | 00000000:05:00.0 Off |                  N/A |\n",
      "| 22%   30C    P8    15W / 250W |   1775MiB / 12288MiB |      0%      Default |\n",
      "|                               |                      |                  N/A |\n",
      "+-------------------------------+----------------------+----------------------+\n",
      "|   1  NVIDIA GeForce ...  Off  | 00000000:82:00.0 Off |                  N/A |\n",
      "| 22%   32C    P8    14W / 250W |   9604MiB / 12288MiB |      0%      Default |\n",
      "|                               |                      |                  N/A |\n",
      "+-------------------------------+----------------------+----------------------+\n",
      "                                                                               \n",
      "+-----------------------------------------------------------------------------+\n",
      "| Processes:                                                                  |\n",
      "|  GPU   GI   CI        PID   Type   Process name                  GPU Memory |\n",
      "|        ID   ID                                                   Usage      |\n",
      "|=============================================================================|\n",
      "|    0   N/A  N/A      1304      G   /usr/lib/xorg/Xorg                 13MiB |\n",
      "|    0   N/A  N/A    826762      C   python                           1756MiB |\n",
      "|    1   N/A  N/A      1304      G   /usr/lib/xorg/Xorg                  3MiB |\n",
      "|    1   N/A  N/A    826762      C   python                           9596MiB |\n",
      "+-----------------------------------------------------------------------------+\n",
      "/misc/student/faridk/stable-diffusion\n"
     ]
    }
   ],
   "source": [
    "import argparse\n",
    "import os\n",
    "import time\n",
    "from copy import deepcopy\n",
    "from itertools import islice\n",
    "\n",
    "import matplotlib.pyplot as plt\n",
    "import numpy as np\n",
    "import PIL\n",
    "import imageio\n",
    "from PIL import Image\n",
    "from tqdm import tqdm, trange\n",
    "from einops import rearrange, repeat\n",
    "\n",
    "import torch\n",
    "from torch import autocast\n",
    "import torch.nn as nn\n",
    "import torch.optim as optim\n",
    "from torch.optim.lr_scheduler import LambdaLR\n",
    "from torch.utils.data import DataLoader\n",
    "\n",
    "import pytorch_lightning as pl\n",
    "from pytorch_lightning import seed_everything\n",
    "\n",
    "from omegaconf import OmegaConf\n",
    "\n",
    "import torchvision\n",
    "from torchvision import transforms, datasets\n",
    "from torchvision.utils import make_grid\n",
    "import torchvision.transforms.functional as tf\n",
    "\n",
    "import kornia.augmentation as K\n",
    "\n",
    "from ldm.util import instantiate_from_config, log_txt_as_img, default, ismap\n",
    "from ldm.modules.diffusionmodules.openaimodel import EncoderUNetModel, UNetModel\n",
    "from src.clipseg.models.clipseg import CLIPDensePredT\n",
    "from typing import Tuple, List\n",
    "\n",
    "\n",
    "import sys\n",
    "sys.path.append(\".\")\n",
    "sys.path.append('./taming-transformers')\n",
    "from taming.models import vqgan \n",
    "\n",
    "device = \"cuda:0\" if torch.cuda.is_available() else \"cpu\"\n",
    "!nvidia-smi\n",
    "\n",
    "%cd /misc/student/faridk/stable-diffusion"
   ]
  },
  {
   "cell_type": "code",
   "execution_count": 3,
   "metadata": {},
   "outputs": [],
   "source": [
    "torch.hub.set_dir('/misc/lmbraid21/faridk/torch')"
   ]
  },
  {
   "cell_type": "code",
   "execution_count": 4,
   "metadata": {},
   "outputs": [],
   "source": [
    "import argparse\n",
    "import copy\n",
    "\n",
    "from IPython.display import display\n",
    "from PIL import Image, ImageDraw, ImageFont\n",
    "from torchvision.ops import box_convert\n",
    "\n",
    "# Grounding DINO\n",
    "import groundingdino.datasets.transforms as T\n",
    "from groundingdino.models import build_model\n",
    "from groundingdino.util import box_ops\n",
    "from groundingdino.util.slconfig import SLConfig\n",
    "from groundingdino.util.utils import clean_state_dict, get_phrases_from_posmap\n",
    "from groundingdino.util.inference import annotate, load_image, predict\n",
    "\n",
    "import supervision as sv\n",
    "\n",
    "# segment anything\n",
    "from segment_anything import build_sam, SamPredictor \n",
    "import cv2\n",
    "import numpy as np\n",
    "import matplotlib.pyplot as plt\n",
    "\n",
    "\n",
    "# diffusers\n",
    "import PIL\n",
    "import requests\n",
    "import torch\n",
    "from io import BytesIO\n",
    "\n",
    "\n",
    "\n",
    "from huggingface_hub import hf_hub_download"
   ]
  },
  {
   "cell_type": "code",
   "execution_count": 5,
   "metadata": {},
   "outputs": [],
   "source": [
    "def load_model_hf(repo_id, filename, dir, ckpt_config_filename, device='cpu'):\n",
    "    cache_config_file = hf_hub_download(repo_id=repo_id, filename=ckpt_config_filename)\n",
    "\n",
    "    args = SLConfig.fromfile(cache_config_file) \n",
    "    args.device = device\n",
    "    model = build_model(args)\n",
    "    \n",
    "    cache_file = hf_hub_download(repo_id=repo_id, filename=filename, cache_dir=dir)\n",
    "    checkpoint = torch.load(cache_file, map_location='cpu')\n",
    "    log = model.load_state_dict(clean_state_dict(checkpoint['model']), strict=False)\n",
    "    print(\"Model loaded from {} \\n => {}\".format(cache_file, log))\n",
    "    _ = model.eval()\n",
    "    return model.to(device)"
   ]
  },
  {
   "cell_type": "code",
   "execution_count": null,
   "metadata": {},
   "outputs": [],
   "source": [
    "pretrained_models_dir = \"/misc/lmbraid21/faridk/models\"\n",
    "groundingdino_model = load_model_hf(repo_id=\"ShilongLiu/GroundingDINO\", filename= \"groundingdino_swinb_cogcoor.pth\", dir = '/misc/lmbraid21/faridk/models', ckpt_config_filename = \"GroundingDINO_SwinB.cfg.py\", device=device)"
   ]
  },
  {
   "cell_type": "code",
   "execution_count": null,
   "metadata": {},
   "outputs": [],
   "source": [
    "#!wget https://dl.fbaipublicfiles.com/segment_anything/sam_vit_h_4b8939.pth -P /misc/lmbraid21/faridk/models"
   ]
  },
  {
   "cell_type": "code",
   "execution_count": null,
   "metadata": {},
   "outputs": [],
   "source": [
    "sam_checkpoint = os.path.join(pretrained_models_dir, 'sam_vit_h_4b8939.pth')\n",
    "model_seg = SamPredictor(build_sam(checkpoint=sam_checkpoint).to(device))"
   ]
  },
  {
   "cell_type": "code",
   "execution_count": null,
   "metadata": {},
   "outputs": [],
   "source": [
    "# detect object using grounding DINO\n",
    "def detect(image, text_prompt, model, box_threshold = 0.4, text_threshold = 0.4, image_source = None):\n",
    "  boxes, logits, phrases = predict(\n",
    "      model=model, \n",
    "      image=image, \n",
    "      caption=text_prompt,\n",
    "      box_threshold=box_threshold,\n",
    "      text_threshold=text_threshold\n",
    "  )\n",
    "  # sort boxes logits and phrases by logits as key\n",
    "  #boxes, logits, phrases = zip(*sorted(zip(boxes, logits, phrases), key=lambda x: x[1], reverse=True))\n",
    "\n",
    "  \n",
    "  sorted_indices = torch.argsort(logits, descending=True)\n",
    "  sorted_logits = logits[sorted_indices]\n",
    "  sorted_boxes = boxes[sorted_indices]\n",
    "  sorted_phrases = [phrases[i] for i in list(sorted_indices.cpu().numpy())]\n",
    "  \n",
    "  if image_source is not None:\n",
    "    annotated_frame = annotate(image_source=image_source, boxes=sorted_boxes, logits=sorted_logits, phrases=sorted_phrases)\n",
    "    annotated_frame = annotated_frame[...,::-1] # BGR to RGB \n",
    "    return annotated_frame, sorted_boxes \n",
    "  else:\n",
    "    return sorted_boxes"
   ]
  },
  {
   "cell_type": "code",
   "execution_count": 5,
   "metadata": {},
   "outputs": [],
   "source": [
    "\n",
    "import yaml\n",
    "data_path = '/misc/scratchSSD2/datasets/ILSVRC2012/val'\n",
    "out_size = 256\n",
    "transform_list = [\n",
    "    transforms.Resize((out_size,out_size)),\n",
    "    transforms.ToTensor()\n",
    "]\n",
    "transform = transforms.Compose(transform_list)\n",
    "dataset = datasets.ImageFolder(data_path,  transform=transform)\n",
    "with open('data/synset_closest_idx.yaml', 'r') as file:\n",
    "    synset_closest_idx = yaml.safe_load(file)\n",
    "\n",
    "for i, sample in enumerate(dataset, 3):\n",
    "    image, label = dataset[i]\n",
    "    break"
   ]
  },
  {
   "cell_type": "code",
   "execution_count": null,
   "metadata": {},
   "outputs": [],
   "source": [
    "image_int8 = (image.permute(1,2, 0).cpu().numpy()*255.).astype(np.uint8)"
   ]
  },
  {
   "cell_type": "code",
   "execution_count": null,
   "metadata": {},
   "outputs": [],
   "source": [
    "#detected_boxes = detect(image, text_prompt=i2h[label], model=groundingdino_model, image_source=image_image)\n",
    "annotated_frame, detected_boxes = detect(normalize(image).squeeze(), text_prompt=i2h[label].split(',')[0], model=groundingdino_model, image_source=image_int8)"
   ]
  },
  {
   "cell_type": "code",
   "execution_count": null,
   "metadata": {},
   "outputs": [],
   "source": [
    "i2h[label]"
   ]
  },
  {
   "cell_type": "code",
   "execution_count": null,
   "metadata": {},
   "outputs": [],
   "source": [
    "detected_boxes"
   ]
  },
  {
   "cell_type": "code",
   "execution_count": null,
   "metadata": {},
   "outputs": [],
   "source": [
    "Image.fromarray(annotated_frame)"
   ]
  },
  {
   "cell_type": "code",
   "execution_count": null,
   "metadata": {},
   "outputs": [],
   "source": [
    "def segment(image, sam_model, boxes):\n",
    "  sam_model.set_image(image)\n",
    "  H, W, _ = image.shape\n",
    "  if boxes.shape[0] == 0:\n",
    "    boxes_xyxy = torch.tensor([[0, 0, W, H]]).to(device)\n",
    "  else:\n",
    "    boxes_xyxy = box_ops.box_cxcywh_to_xyxy(boxes) * torch.Tensor([W, H, W, H])\n",
    "    \n",
    "\n",
    "  transformed_boxes = sam_model.transform.apply_boxes_torch(boxes_xyxy.to(device), image.shape[:2])\n",
    "  masks, _, _ = sam_model.predict_torch(\n",
    "      point_coords = None,\n",
    "      point_labels = None,\n",
    "      boxes = transformed_boxes,\n",
    "      multimask_output = False,\n",
    "      )\n",
    "  if boxes.shape[0] == 0:\n",
    "    masks = ~masks\n",
    "  return masks.cpu()\n",
    "  \n",
    "\n",
    "def draw_mask(mask, image, random_color=True):\n",
    "    if random_color:\n",
    "        color = np.concatenate([np.random.random(3), np.array([0.8])], axis=0)\n",
    "    else:\n",
    "        color = np.array([30/255, 144/255, 255/255, 0.6])\n",
    "    h, w = mask.shape[-2:]\n",
    "    mask_image = mask.reshape(h, w, 1) * color.reshape(1, 1, -1)\n",
    "    \n",
    "    annotated_frame_pil = Image.fromarray(image).convert(\"RGBA\")\n",
    "    mask_image_pil = Image.fromarray((mask_image.cpu().numpy() * 255).astype(np.uint8)).convert(\"RGBA\")\n",
    "\n",
    "    return np.array(Image.alpha_composite(annotated_frame_pil, mask_image_pil))"
   ]
  },
  {
   "cell_type": "code",
   "execution_count": null,
   "metadata": {},
   "outputs": [],
   "source": [
    "segmented_frame_masks = segment(image_int8, sam_predictor, boxes=detected_boxes)\n",
    "segmented_frame_mask = torch.any(segmented_frame_masks, dim=0)\n",
    "Image.fromarray((255*segmented_frame_mask.permute(1, 2, 0).squeeze().numpy()).astype(np.uint8) , 'L')\n"
   ]
  },
  {
   "cell_type": "code",
   "execution_count": 6,
   "metadata": {},
   "outputs": [],
   "source": [
    "from ldm import *"
   ]
  },
  {
   "attachments": {},
   "cell_type": "markdown",
   "metadata": {},
   "source": [
    "## Some Utils\n"
   ]
  },
  {
   "cell_type": "code",
   "execution_count": 7,
   "metadata": {
    "cellView": "form",
    "id": "fnGwQRhtyBhb"
   },
   "outputs": [],
   "source": [
    "#@title loading utils\n",
    "def load_model_from_config(config, ckpt):\n",
    "    print(f\"Loading model from {ckpt}\")\n",
    "    pl_sd = torch.load(ckpt)#, map_location=\"cpu\")\n",
    "    sd = pl_sd[\"state_dict\"]\n",
    "    model = instantiate_from_config(config.model)\n",
    "    m, u = model.load_state_dict(sd, strict=False)\n",
    "    model.to(device) #.cuda()\n",
    "    model.eval()\n",
    "    return model\n",
    "\n",
    "\n",
    "def get_model(cfg_path=\"configs/latent-diffusion/cin256-v2.yaml\", ckpt_path= \"models/ldm/cin256-v2/model.ckpt\"):\n",
    "    config = OmegaConf.load(cfg_path)  \n",
    "    model = load_model_from_config(config, ckpt_path)\n",
    "    return model\n",
    "\n",
    "\n",
    "\n",
    "def chunk(it, size):\n",
    "    it = iter(it)\n",
    "    return iter(lambda: tuple(islice(it, size)), ())\n",
    "\n",
    "\n",
    "def load_img(path):\n",
    "    image = Image.open(path).convert(\"RGB\")\n",
    "    w, h = image.size\n",
    "    print(f\"loaded input image of size ({w}, {h}) from {path}\")\n",
    "    w, h = map(lambda x: x - x % 32, (w, h))  # resize to integer multiple of 32\n",
    "    image = image.resize((256, 256), resample=PIL.Image.LANCZOS)#((w, h), resample=PIL.Image.LANCZOS)\n",
    "    pil_iamge = image\n",
    "    image = np.array(image).astype(np.float32) / 255.0\n",
    "    image = image[None].transpose(0, 3, 1, 2)\n",
    "    image = torch.from_numpy(image)\n",
    "    return image, pil_iamge\n"
   ]
  },
  {
   "cell_type": "code",
   "execution_count": 8,
   "metadata": {},
   "outputs": [],
   "source": [
    "def generate_samples(model, sampler, classes, n_samples_per_class, ddim_steps, scale, init_image=None, t_enc=None, init_latent=None, ccdddim = False, latent_t_0 = True):\n",
    "    '''\n",
    "    Generate samples from the model.\n",
    "    Args:\n",
    "        model: the model to use for generation\n",
    "        sampler: the sampler to use for generation\n",
    "        classes: the classes to generate samples for, torch tensor of ints of shape (n_classes,)\n",
    "        ddim_steps: the number of diffusion steps to use\n",
    "        scale: the scale to use for generation\n",
    "        init_image (optional): the initial image to use for generation, torch tensor of shape (B, 3, H, W)\n",
    "        t_enc (optional): the time to use for encoding the initial image, int\n",
    "        init_latent (optional): the initial latent to use for generation, torch tensor of shape (B, C, H, W)\n",
    "    Returns:\n",
    "        all_samples: the generated samples, torch tensor of shape (B, 3, H, W)\n",
    "    '''\n",
    "    all_samples = []\n",
    "    all_probs = []\n",
    "    all_videos = []\n",
    "    \n",
    "    with torch.no_grad():\n",
    "        with model.ema_scope():\n",
    "            tic = time.time()\n",
    "            uc = model.get_learned_conditioning({model.cond_stage_key: torch.tensor(n_samples_per_class*[1000]).to(model.device)})\n",
    "\n",
    "            for class_label in classes:\n",
    "                print(f\"rendering {n_samples_per_class} examples of class '{class_label}' in {ddim_steps} steps and using s={scale:.2f}.\")\n",
    "                xc = torch.tensor(n_samples_per_class*[class_label])\n",
    "                c = model.get_learned_conditioning({model.cond_stage_key: xc.to(model.device)})\n",
    "                if init_latent is not None:\n",
    "                    y=xc.to(model.device)\n",
    "                    z_enc = sampler.stochastic_encode(init_latent, torch.tensor([t_enc]*(n_samples_per_class)).to(device)) if not latent_t_0 else init_latent\n",
    "                    # decode it\n",
    "                    if ccdddim:\n",
    "                        out = sampler.decode(z_enc, c, t_enc, unconditional_guidance_scale=scale, unconditional_conditioning=uc, y=xc.to(model.device), latent_t_0 = latent_t_0)\n",
    "                        samples = out[\"x_dec\"]\n",
    "                        prob = out[\"prob\"]\n",
    "                        vid = out[\"video\"]\n",
    "                        \n",
    "                    else:\n",
    "                        samples = sampler.decode(z_enc, c, t_enc, unconditional_guidance_scale=scale, unconditional_conditioning=uc)\n",
    "\n",
    "                    x_samples = model.decode_first_stage(samples)\n",
    "                    x_samples_ddim = torch.clamp((x_samples + 1.0) / 2.0, min=0.0, max=1.0)\n",
    "\n",
    "                    cat_samples=torch.cat([init_image[:1], x_samples_ddim], dim=0)\n",
    "                else:\n",
    "\n",
    "                    samples_ddim, _ = sampler.sample(S=ddim_steps,\n",
    "                                                    conditioning=c,\n",
    "                                                    batch_size=n_samples_per_class,\n",
    "                                                    shape=[3, 64, 64],\n",
    "                                                    verbose=False,\n",
    "                                                    unconditional_guidance_scale=scale,\n",
    "                                                    unconditional_conditioning=uc, \n",
    "                                                    eta=ddim_eta)\n",
    "\n",
    "                    x_samples_ddim = model.decode_first_stage(samples_ddim)\n",
    "                    x_samples_ddim = torch.clamp((x_samples_ddim+1.0)/2.0, \n",
    "                                                min=0.0, max=1.0)\n",
    "                    cat_samples=x_samples_ddim\n",
    "\n",
    "                all_samples.append(cat_samples)\n",
    "                all_probs.append(prob) if ccdddim and prob is not None else None\n",
    "                all_videos.append(vid) if ccdddim and vid is not None else None\n",
    "\n",
    "\n",
    "    out = {}\n",
    "    out[\"samples\"] = all_samples \n",
    "    out[\"probs\"] = all_probs if len(all_probs) > 0 else None\n",
    "    out[\"videos\"] = all_videos if len(all_videos) > 0 else None\n",
    "    return out"
   ]
  },
  {
   "cell_type": "code",
   "execution_count": 9,
   "metadata": {},
   "outputs": [],
   "source": [
    "def generate_samples_new(model, sampler, classes, ddim_steps, scale, init_image=None, t_enc=None, init_latent=None, ccdddim = False, latent_t_0 = True):\n",
    "    '''\n",
    "    Generate samples from the model.\n",
    "    Args:\n",
    "        model: the model to use for generation\n",
    "        sampler: the sampler to use for generation\n",
    "        classes: the classes to generate samples for, torch tensor of ints of shape (n_classes,)\n",
    "        ddim_steps: the number of diffusion steps to use\n",
    "        scale: the scale to use for generation\n",
    "        init_image (optional): the initial image to use for generation, torch tensor of shape (B, 3, H, W)\n",
    "        t_enc (optional): the time to use for encoding the initial image, int\n",
    "        init_latent (optional): the initial latent to use for generation, torch tensor of shape (B, C, H, W)\n",
    "    Returns:\n",
    "        all_samples: the generated samples, torch tensor of shape (B, 3, H, W)\n",
    "    '''\n",
    "    all_samples = []\n",
    "    all_probs = []\n",
    "    all_videos = []\n",
    "    \n",
    "    with torch.no_grad():\n",
    "        with model.ema_scope():\n",
    "            tic = time.time()\n",
    "            bs = init_image.shape[0]\n",
    "            uc = model.get_learned_conditioning({model.cond_stage_key: torch.tensor(bs*[1000]).to(model.device)})\n",
    "\n",
    "            #for class_label in classes:\n",
    "            print(f\"rendering classes '{classes}' in {ddim_steps} steps and using s={scale:.2f}.\")\n",
    "            xc = classes\n",
    "            c = model.get_learned_conditioning({model.cond_stage_key: xc.to(model.device)})\n",
    "            if init_latent is not None:\n",
    "                y=xc.to(model.device)\n",
    "                z_enc = sampler.stochastic_encode(init_latent, torch.tensor([t_enc]*(bs)).to(device)) if not latent_t_0 else init_latent\n",
    "                # decode it\n",
    "                if ccdddim:\n",
    "                    out = sampler.decode(z_enc, c, t_enc, unconditional_guidance_scale=scale, unconditional_conditioning=uc, y=xc.to(model.device), latent_t_0 = latent_t_0)\n",
    "                    samples = out[\"x_dec\"]\n",
    "                    prob = out[\"prob\"]\n",
    "                    vid = out[\"video\"]\n",
    "                    \n",
    "                else:\n",
    "                    samples = sampler.decode(z_enc, c, t_enc, unconditional_guidance_scale=scale, unconditional_conditioning=uc)\n",
    "\n",
    "                x_samples = model.decode_first_stage(samples)\n",
    "                x_samples_ddim = torch.clamp((x_samples + 1.0) / 2.0, min=0.0, max=1.0)\n",
    "                cat_samples=x_samples_ddim\n",
    "\n",
    "                \n",
    "            else:\n",
    "\n",
    "                samples_ddim, _ = sampler.sample(S=ddim_steps,\n",
    "                                                conditioning=c,\n",
    "                                                batch_size=bs,\n",
    "                                                shape=[3, 64, 64],\n",
    "                                                verbose=False,\n",
    "                                                unconditional_guidance_scale=scale,\n",
    "                                                unconditional_conditioning=uc, \n",
    "                                                eta=ddim_eta)\n",
    "\n",
    "                x_samples_ddim = model.decode_first_stage(samples_ddim)\n",
    "                x_samples_ddim = torch.clamp((x_samples_ddim+1.0)/2.0, \n",
    "                                            min=0.0, max=1.0)\n",
    "                cat_samples=x_samples_ddim\n",
    "\n",
    "            all_samples.append(cat_samples)\n",
    "            all_probs.append(prob) if ccdddim and prob is not None else None\n",
    "            all_videos.append(vid) if ccdddim and vid is not None else None\n",
    "\n",
    "\n",
    "    out = {}\n",
    "    out[\"samples\"] = all_samples \n",
    "    out[\"probs\"] = all_probs if len(all_probs) > 0 else None\n",
    "    out[\"videos\"] = all_videos if len(all_videos) > 0 else None\n",
    "    return out"
   ]
  },
  {
   "attachments": {},
   "cell_type": "markdown",
   "metadata": {},
   "source": [
    "## Loading the models"
   ]
  },
  {
   "cell_type": "code",
   "execution_count": null,
   "metadata": {},
   "outputs": [],
   "source": [
    "# load model\n",
    "# load model\n",
    "model_seg = CLIPDensePredT(version='ViT-B/16', reduce_dim=64)\n",
    "model_seg.eval();\n",
    "model_seg.load_state_dict(torch.load('src/clipseg/weights/rd64-uni.pth', map_location=torch.device('cpu')), strict=False);\n"
   ]
  },
  {
   "cell_type": "code",
   "execution_count": null,
   "metadata": {},
   "outputs": [],
   "source": [
    "model_seg = SamPredictor(build_sam(checkpoint=sam_checkpoint).to(device))"
   ]
  },
  {
   "cell_type": "code",
   "execution_count": 26,
   "metadata": {},
   "outputs": [
    {
     "name": "stdout",
     "output_type": "stream",
     "text": [
      "Loading model from models/ldm/cin256-v2/model.ckpt\n",
      "LatentDiffusion: Running in eps-prediction mode\n",
      "DiffusionWrapper has 400.92 M params.\n",
      "making attention of type 'vanilla' with 512 in_channels\n",
      "Working with z of shape (1, 3, 64, 64) = 12288 dimensions.\n",
      "making attention of type 'vanilla' with 512 in_channels\n"
     ]
    }
   ],
   "source": [
    "model = get_model()"
   ]
  },
  {
   "cell_type": "code",
   "execution_count": 27,
   "metadata": {
    "colab": {
     "base_uri": "https://localhost:8080/"
    },
    "id": "BPnyd-XUKbfE",
    "outputId": "0fcd10e4-0df2-4ab9-cbf5-f08f4902c954"
   },
   "outputs": [],
   "source": [
    "from ldm.models.diffusion.ddim import DDIMSampler\n",
    "\n",
    "sampler = DDIMSampler(model)"
   ]
  },
  {
   "attachments": {},
   "cell_type": "markdown",
   "metadata": {},
   "source": [
    "## Sampling from the counterfactual sampler\n"
   ]
  },
  {
   "cell_type": "code",
   "execution_count": 10,
   "metadata": {},
   "outputs": [],
   "source": [
    "\"\"\"SAMPLING ONLY.\"\"\"\n",
    "\n",
    "import torch\n",
    "import time\n",
    "import numpy as np\n",
    "from tqdm import tqdm\n",
    "from torch.nn import functional as F\n",
    "from torch import distributions as torchd\n",
    "from functools import partial\n",
    "\n",
    "from ldm.modules.diffusionmodules.util import make_ddim_sampling_parameters, make_ddim_timesteps, noise_like, \\\n",
    "    extract_into_tensor\n",
    "import regex as re"
   ]
  },
  {
   "attachments": {},
   "cell_type": "markdown",
   "metadata": {},
   "source": [
    "### Some utilities "
   ]
  },
  {
   "cell_type": "code",
   "execution_count": 11,
   "metadata": {},
   "outputs": [],
   "source": [
    "#load txt file with mapping from 'data/imagenet_clsidx_to_label.txt'\n",
    "#to get the class names\n",
    "i2h = dict()\n",
    "with open('data/imagenet_clsidx_to_label.txt', \"r\") as f:\n",
    "        lines = f.read().splitlines()\n",
    "        assert len(lines) == 1000\n",
    "\n",
    "        for line in lines:\n",
    "            key, value = line.split(\":\")\n",
    "            i2h[int(key)] = re.sub(r\"^'|',?$\", \"\", value.strip()) #value.strip().strip(\"'\").strip(\",\").strip(\"\\\"\")\n",
    "\n"
   ]
  },
  {
   "cell_type": "code",
   "execution_count": 12,
   "metadata": {},
   "outputs": [],
   "source": [
    "def compute_lp_dist(diff, p):\n",
    "    diff_abs_flat = diff.abs().view(diff.shape[0], -1)\n",
    "    if p == 1.0:\n",
    "        lp_dist = torch.sum(diff_abs_flat, dim=1)\n",
    "    else:\n",
    "        lp_dist = torch.sum(diff_abs_flat ** p, dim=1)\n",
    "    return lp_dist\n",
    "\n",
    "\n",
    "def compute_lp_gradient(diff, p, small_const=1e-12):\n",
    "    if p < 1:\n",
    "        grad_temp = (p * (diff.abs() + small_const) ** (\n",
    "\n",
    "                p - 1)) * diff.sign()\n",
    "    else:\n",
    "        grad_temp = (p * diff.abs() ** (p - 1)) * diff.sign()\n",
    "    return grad_temp\n",
    "\n",
    "\n",
    "def _renormalize_gradient(grad, eps, small_const=1e-22):\n",
    "\n",
    "    grad_norm = grad.view(grad.shape[0], -1).norm(p=2, dim=1).view(grad.shape[0], 1, 1, 1)\n",
    "    grad_norm = torch.where(grad_norm < small_const, grad_norm + small_const, grad_norm)\n",
    "    grad /= grad_norm\n",
    "    grad *= eps.view(grad.shape[0], -1).norm(p=2, dim=1).view(grad.shape[0], 1, 1, 1)\n",
    "    return grad, grad_norm\n",
    "\n",
    "def renormalize(a, b, small_const=1e-22):\n",
    "    #changes(removed detach and restored where)\n",
    "    a_norm = a.view(a.shape[0], -1).norm(p=2, dim=1).view(b.shape[0], 1, 1, 1)\n",
    "    a_norm_new = torch.where(a_norm < small_const, a_norm + small_const, a_norm) #torch.clamp(a_norm, min=small_const) #.detach() #torch.where(a_norm < small_const, a_norm + small_const, a_norm)\n",
    "    a /= a_norm_new\n",
    "    a *= b.view(a.shape[0], -1).norm(p=2, dim=1).view(a.shape[0], 1, 1, 1)\n",
    "    return a, a_norm_new\n",
    "\n",
    "class OneHotDist(torchd.one_hot_categorical.OneHotCategorical):\n",
    "\n",
    "    def __init__(self, logits=None, probs=None):\n",
    "        super().__init__(logits=logits, probs=probs)\n",
    "\n",
    "    def mode(self):\n",
    "        _mode = F.one_hot(torch.argmax(super().logits, axis=-1), super().logits.shape[-1])\n",
    "        return _mode.detach() + super().logits - super().logits.detach()\n",
    "\n",
    "    def sample(self, sample_shape=(), seed=None):\n",
    "        if seed is not None:\n",
    "            raise ValueError('need to check')\n",
    "        sample = super().sample(sample_shape)\n",
    "        probs = super().probs\n",
    "        while len(probs.shape) < len(sample.shape):\n",
    "            probs = probs[None]\n",
    "        sample += probs - probs.detach()\n",
    "        return sample\n",
    "\n",
    "\n",
    "def cone_project(grad_temp_1, grad_temp_2, deg):\n",
    "    \"\"\"\n",
    "    grad_temp_1: gradient of the loss w.r.t. the robust/classifier free\n",
    "    grad_temp_2: gradient of the loss w.r.t. the non-robust\n",
    "    projecting the robust/CF onto the non-robust \n",
    "    \"\"\"\n",
    "    angles_before = torch.acos(\n",
    "        (grad_temp_1 * grad_temp_2).sum(1) / (grad_temp_1.norm(p=2, dim=1) * grad_temp_2.norm(p=2, dim=1)))\n",
    "    ##print('angle before', angles_before)\n",
    "    grad_temp_2 /= grad_temp_2.norm(p=2, dim=1).view(grad_temp_1.shape[0], -1)\n",
    "    grad_temp_1 = grad_temp_1 - ((grad_temp_1 * grad_temp_2).sum(1) / (grad_temp_2.norm(p=2, dim=1) ** 2)).view(\n",
    "        grad_temp_1.shape[0], -1) * grad_temp_2\n",
    "    grad_temp_1 /= grad_temp_1.norm(p=2, dim=1).view(grad_temp_1.shape[0], -1)\n",
    "    # cone_projection = grad_temp_1 + grad_temp_2 45 deg\n",
    "    radians = torch.tensor([deg], device=grad_temp_1.device).deg2rad()\n",
    "    ##print('angle after', radians, torch.acos((grad_temp_1*grad_temp_2).sum(1) / (grad_temp_1.norm(p=2,dim=1) * grad_temp_2.norm(p=2,dim=1))))\n",
    "    cone_projection = grad_temp_1 * torch.tan(radians) + grad_temp_2\n",
    "\n",
    "    # second classifier is a non-robust one -\n",
    "    # unless we are less than 45 degrees away - don't cone project\n",
    "    grad_temp = grad_temp_2.clone()\n",
    "    loop_projecting = time.time()\n",
    "    grad_temp[angles_before > radians] = cone_projection[angles_before > radians]\n",
    "\n",
    "    return grad_temp\n",
    "\n",
    "def normalize(x):\n",
    "    mean, std =[0.485, 0.456, 0.406], [0.229, 0.224, 0.225]\n",
    "    x = x - torch.tensor(mean).to(x.device)[None, :, None, None]\n",
    "    x = x / torch.tensor(std).to(x.device)[None, :, None, None]\n",
    "    return x\n",
    "\n",
    "def denormalize(x):\n",
    "    mean, std =[0.485, 0.456, 0.406], [0.229, 0.224, 0.225]\n",
    "    x = x * torch.tensor(std).to(x.device)[None, :, None, None]\n",
    "    x = x + torch.tensor(mean).to(x.device)[None, :, None, None]\n",
    "    return x\n",
    "\n",
    "\n",
    "def _map_img(x):\n",
    "    #from -1 to 1 to 0 to 1 \n",
    "    return 0.5 * (x + 1)\n",
    "\n",
    "def _unmap_img(x, from_image_net_dist = False):\n",
    "    #from 0 to 1 to -1 to 1\n",
    "\n",
    "    return 2. * x -1\n",
    "\n",
    "def disabled_train(self, mode=True):\n",
    "    \"\"\"Overwrite model.train with this function to make sure train/eval mode\n",
    "    does not change anymore.\"\"\"\n",
    "    return self\n"
   ]
  },
  {
   "cell_type": "code",
   "execution_count": 13,
   "metadata": {},
   "outputs": [],
   "source": [
    "class OneHotDist(torchd.one_hot_categorical.OneHotCategorical):\n",
    "\n",
    "    def __init__(self, logits=None, probs=None):\n",
    "        super().__init__(logits=logits, probs=probs)\n",
    "\n",
    "    def mode(self):\n",
    "        _mode = F.one_hot(torch.argmax(super().logits, axis=-1), super().logits.shape[-1])\n",
    "        return _mode.detach() + super().logits - super().logits.detach()\n",
    "\n",
    "    def sample(self, sample_shape=(), seed=None):\n",
    "        if seed is not None:\n",
    "            raise ValueError('need to check')\n",
    "        sample = super().sample(sample_shape)\n",
    "        probs = super().probs\n",
    "        while len(probs.shape) < len(sample.shape):\n",
    "            probs = probs[None]\n",
    "        sample += probs - probs.detach()\n",
    "        return sample"
   ]
  },
  {
   "attachments": {},
   "cell_type": "markdown",
   "metadata": {},
   "source": [
    "### Defining the new ddim "
   ]
  },
  {
   "cell_type": "code",
   "execution_count": 14,
   "metadata": {},
   "outputs": [],
   "source": [
    "def sigmoidal_threshold(img, alpha, beta):\n",
    "    return 1 / (1 + np.exp(-alpha * (img - beta)))"
   ]
  },
  {
   "cell_type": "code",
   "execution_count": 58,
   "metadata": {},
   "outputs": [],
   "source": [
    "class CCDDIMSampler(object):\n",
    "    def __init__(self, model, classifier, model_type=\"latent\", schedule=\"linear\", guidance=\"free\", lp_custom=False,\n",
    "                 deg_cone_projection=10, denoise_dist_input=True, classifier_lambda=1, dist_lambda=0.15,\n",
    "                 enforce_same_norms=True, seg_model = None, masked_guidance = False, backprop_diffusion = True, mask_alpha = 3., detect_model = None, **kwargs):\n",
    "\n",
    "        super().__init__()\n",
    "        self.model_type = model_type\n",
    "        self.lp_custom = lp_custom\n",
    "        self.images = []\n",
    "        self.probs = []\n",
    "        self.classifier_lambda = classifier_lambda\n",
    "        self.model = model\n",
    "        self.ddpm_num_timesteps = model.num_timesteps\n",
    "        self.schedule = schedule\n",
    "        self.classifier = classifier\n",
    "        self.guidance = guidance\n",
    "        self.backprop_diffusion = backprop_diffusion\n",
    "        # self.projected_counterfactuals = projected_counterfactuals\n",
    "        self.deg_cone_projection = deg_cone_projection\n",
    "        self.denoise_dist_input = denoise_dist_input\n",
    "        self.dist_lambda = dist_lambda\n",
    "        self.enforce_same_norms = enforce_same_norms\n",
    "        self.seg_model = seg_model\n",
    "        self.masked_guidance = masked_guidance\n",
    "        self.mask_alpha = mask_alpha\n",
    "\n",
    "        self.init_images = None\n",
    "        self.init_labels = None\n",
    "        self.mask = None\n",
    "\n",
    "        self.detect_model = detect_model\n",
    "\n",
    "    def get_classifier_dist(self, x, t=None):\n",
    "        \"\"\"\n",
    "        Create a distribution over the classifier output space\n",
    "        Args:\n",
    "            x: input image for which to create the distribution over the classifier output space range [-1, 1]\n",
    "\n",
    "        Returns:\n",
    "            dist: torch distribution over the classifier output space\n",
    "\n",
    "        \"\"\"\n",
    "        x = tf.center_crop(x, 224)\n",
    "        x = normalize(_map_img(x))\n",
    "        logit = self.classifier(x)  # (TODO) add option for t here\n",
    "        dist = torchd.independent.Independent(OneHotDist(logit), 0)\n",
    "        return dist\n",
    "\n",
    "\n",
    "    def get_mask_clip_seg(self):\n",
    "        \"\"\"\n",
    "        this function returns a negative mask given by a segmentation model for the region of interest\n",
    "        values are higher outside the region of interest\n",
    "        \"\"\"\n",
    "\n",
    "        if self.mask is not None:\n",
    "            return self.mask\n",
    "\n",
    "        prompts = []\n",
    "        for l in self.init_labels:\n",
    "            prompts.append(re.sub(r'\\b(\\w)', lambda m: m.group(1).upper(), i2h[l]))\n",
    "        \n",
    "        with torch.no_grad():\n",
    "            print(\"input range\", self.init_images.min(), self.init_images.max())\n",
    "            img_to_seg=F.interpolate(normalize(self.init_images), size=(352, 352), mode='bilinear', align_corners=False).to(device)\n",
    "            print(\"input range after\", img_to_seg.min(), img_to_seg.max())\n",
    "            print(f\"prompt {prompts}\")\n",
    "            preds = self.seg_model(img_to_seg, prompts)[0]\n",
    "            print(\"preds range\", preds.min(), preds.max())\n",
    "            preds = F.interpolate(preds, size=self.init_images.shape[-2:], mode='bilinear', align_corners=False)\n",
    "            preds = torch.sigmoid(preds) #torch.softmax(preds.view(preds.shape[0], -1), dim=1).view(*preds.shape)\n",
    "            print(\"preds range after first seg \", preds.min(), preds.max())\n",
    "            #scale to [0,1]\n",
    "            preds = (preds - preds.min()) / (preds.max() - preds.min())\n",
    "            preds = torch.sigmoid(self.mask_alpha*2*(preds-0.5))\n",
    "            print(\"preds afet second seg range\", preds.min(), preds.max())\n",
    "            \n",
    "        self.mask = preds.to(device)\n",
    "        return self.mask\n",
    "\n",
    "    def get_mask(self):\n",
    "        \"\"\"\n",
    "        this function returns a negative mask given by a segmentation model for the region of interest\n",
    "        values are higher outside the region of interest\n",
    "        \"\"\"\n",
    "\n",
    "        if self.mask is not None:\n",
    "            return self.mask\n",
    "        \n",
    "        with torch.no_grad():\n",
    "            print(\"input range\", self.init_images.min(), self.init_images.max())\n",
    "            image_int8 = (self.init_images[0].permute(1,2, 0).cpu().numpy()*255.).astype(np.uint8)\n",
    "            #detected_boxes = detect(image, text_prompt=i2h[label], model=groundingdino_model, image_source=image_image)\n",
    "            detected_boxes = detect(normalize(self.init_images[0]).squeeze(), text_prompt=i2h[self.init_labels[0]].split(',')[0], model=self.detect_model) #, image_source=image_int8)\n",
    "            segmented_frame_masks = segment(image_int8, self.seg_model, boxes=detected_boxes)\n",
    "            preds = torch.any(segmented_frame_masks, dim=0)\n",
    "            preds = preds.unsqueeze(0).repeat(self.init_images.shape[0], *(1,)*len(preds.shape))\n",
    "            #print(\"preds range after first seg \", preds.min(), preds.max())\n",
    "        self.mask = preds.to(device)\n",
    "        return self.mask\n",
    "        \n",
    "    def get_output(self, x, t, c, index, unconditional_conditioning, use_original_steps=True, quantize_denoised=True, return_decoded=False):\n",
    "        b = x.shape[0]\n",
    "        x_in = torch.cat([x] * 2)\n",
    "        t_in = torch.cat([t] * 2)\n",
    "        c_in = torch.cat([unconditional_conditioning, c])\n",
    "        with torch.enable_grad() if self.backprop_diffusion else torch.no_grad():\n",
    "            e_t_uncond, e_t = self.model.apply_model(x_in, t_in, c_in).chunk(2)\n",
    "            \n",
    "        if return_decoded:\n",
    "            # getting the original denoised image\n",
    "            alphas = self.model.alphas_cumprod if use_original_steps else self.ddim_alphas\n",
    "            sqrt_one_minus_alphas = self.model.sqrt_one_minus_alphas_cumprod if use_original_steps else self.ddim_sqrt_one_minus_alphas\n",
    "            a_t = torch.full((b, 1, 1, 1), alphas[index], device=device)\n",
    "            sqrt_one_minus_at = torch.full((b, 1, 1, 1), sqrt_one_minus_alphas[index], device=device)\n",
    "            # current prediction for x_0\n",
    "            # get the original image with range [0, 1] if it is in latent space\n",
    "            pred_latent_x0 = (x - sqrt_one_minus_at * e_t_uncond) / a_t.sqrt() # e_t - >  e_t_uncond\n",
    "            if quantize_denoised:\n",
    "                pred_latent_x0, _, *_ = self.model.first_stage_model.quantize(pred_latent_x0)\n",
    "\n",
    "            \n",
    "            pred_x0 = self.model.differentiable_decode_first_stage(\n",
    "                pred_latent_x0)  # if self.model_type == \"latent\" else pred_latent_x0\n",
    "            #pred_x0 = torch.clamp((pred_x0 + 1.0) / 2.0, min=0.0, max=1.0)\n",
    "            return e_t_uncond, e_t, pred_x0\n",
    "        \n",
    "        else:\n",
    "            return e_t_uncond, e_t\n",
    "\n",
    "    def conditional_score(self, x, t, c, index, use_original_steps, quantize_denoised, unconditional_guidance_scale=1.,\n",
    "                          unconditional_conditioning=None, y=None):\n",
    "        \"\"\"\n",
    "\n",
    "        Args:\n",
    "            x: input image\n",
    "            t: time step\n",
    "            c: conditioning\n",
    "            index: index for the schedule\n",
    "            use_original_steps: whether to use the original steps\n",
    "            quantize_denoised: whether to quantize the denoised image\n",
    "            unconditional_guidance_scale: scale for the unconditional guidance\n",
    "            unconditional_conditioning: unconditional conditioning\n",
    "            y: target class\n",
    "\n",
    "\n",
    "        Returns:\n",
    "            e_t: score after conditioning\n",
    "\n",
    "        \"\"\"\n",
    "        b, *_, device = *x.shape, x.device\n",
    "        x = x.detach()#.requires_grad_()\n",
    "        #x.requires_grad = True\n",
    "        prob_best_class = None\n",
    "        mask_guidance  = None\n",
    "\n",
    "        ## check if gradient tracking is on for x\n",
    "        \n",
    "        \n",
    "        if unconditional_conditioning is None or unconditional_guidance_scale == 1.:\n",
    "            e_t = self.model.apply_model(x, t, c)\n",
    "            return e_t\n",
    "\n",
    "        \n",
    "        #print(\"check gradient tracking onf e \", e_t.requires_grad)\n",
    "        if self.guidance == \"free\":\n",
    "            e_t_uncond, e_t, pred_x0 = self.get_output(x, t, c, index, unconditional_conditioning, use_original_steps, quantize_denoised, return_decoded=True)\n",
    "            e_t = e_t_uncond + unconditional_guidance_scale * (e_t - e_t_uncond)\n",
    "            return e_t\n",
    "\n",
    "        #print(\"check gradient tracking onf e \", e_t.requires_grad)\n",
    "        score_out = torch.zeros_like(x)\n",
    "        \n",
    "        with torch.enable_grad():\n",
    "            assert x.requires_grad == False, \"x requires grad\"\n",
    "            \n",
    "            if self.classifier_lambda != 0:\n",
    "                x_grad = x.detach().requires_grad_()\n",
    "                e_t_uncond, e_t, pred_x0 = self.get_output(x_grad, t, c, index, unconditional_conditioning, use_original_steps, quantize_denoised=quantize_denoised, return_decoded=True)\n",
    "                classifier_dist = self.get_classifier_dist(pred_x0)\n",
    "                print(\"classifier dist is\", [classifier_dist.batch_shape, classifier_dist.event_shape])\n",
    "                #to change \n",
    "                y_one_hot = F.one_hot(y, classifier_dist.event_shape[-1]).to(device)\n",
    "                log_probs = classifier_dist.log_prob(y_one_hot)\n",
    "                print(\"log_probs\", log_probs.shape)\n",
    "                prob_best_class = torch.exp(log_probs)\n",
    "                print(\"prob_best_class\", prob_best_class.shape)\n",
    "                #print(\"prob_best_class\", prob_best_class, log_probs)\n",
    "                grad_classifier = torch.autograd.grad(log_probs.mean(), x_grad)[\n",
    "                    0]\n",
    "        with torch.enable_grad():  \n",
    "            if self.lp_custom:\n",
    "                assert x.requires_grad == False, \"x requires grad\"\n",
    "                x_grad = x.detach().requires_grad_()\n",
    "                e_t_uncond, e_t, pred_x0 = self.get_output(x_grad, t, c, index, unconditional_conditioning, use_original_steps, quantize_denoised=quantize_denoised, return_decoded=True)\n",
    "                #print(\"computing the lp gradient\")\n",
    "                assert pred_x0.requires_grad == True, \"pred_x0 does not require grad\"\n",
    "                pred_x0_0to1 = torch.clamp(_map_img(pred_x0), min=0.0, max=1.0)\n",
    "                \n",
    "                diff =  pred_x0_0to1 - self.init_images.to(device)\n",
    "                #print(\"diff is:\", diff.mean())\n",
    "                lp_dist = compute_lp_dist(diff, self.lp_custom)\n",
    "                lp_grad = torch.autograd.grad(lp_dist.mean(), x_grad)[0]\n",
    "\n",
    "        #assert e_t_uncond.requires_grad == True and e_t.requires_grad == True, \"e_t_uncond and e_t should require gradients\"\n",
    "        \n",
    "\n",
    "        if self.guidance == \"projected\":\n",
    "            implicit_classifier_score = (e_t - e_t_uncond)#.detach()\n",
    "            # check gradient tracking on implicit_classifier_score \n",
    "            assert implicit_classifier_score.requires_grad == False, \"implicit_classifier_score requires grad\"\n",
    "\n",
    "        if self.lp_custom or self.classifier_lambda != 0:\n",
    "            alphas = self.model.alphas_cumprod if use_original_steps else self.ddim_alphas\n",
    "            a_t = torch.full((b, 1, 1, 1), alphas[index], device=device)\n",
    "            \n",
    "        if self.classifier_lambda != 0:\n",
    "\n",
    "            classifier_score = -1  * grad_classifier * (1 - a_t).sqrt()\n",
    "            assert classifier_score.requires_grad == False, \"classifier_score requires grad\"\n",
    "            # project the gradient of the classifier on the implicit classifier\n",
    "            classifier_score = cone_project(implicit_classifier_score.view(x.shape[0], -1),\n",
    "                                            classifier_score.view(x.shape[0], -1),\n",
    "                                            self.deg_cone_projection).view_as(classifier_score) \\\n",
    "                if self.guidance == \"projected\" else classifier_score\n",
    "\n",
    "            if self.enforce_same_norms:\n",
    "                score_, norm_ = _renormalize_gradient(classifier_score, implicit_classifier_score)  # e_t_uncond (AWAREE!!) \n",
    "                classifier_score = self.classifier_lambda * score_\n",
    "                \n",
    "            else:\n",
    "                classifier_score *= self.classifier_lambda\n",
    "\n",
    "            #print(\"classifier score is\", classifier_score.mean(), \"classifier norm is\", classifier_score.view(classifier_score.shape[0], -1).norm(p=2, dim=1).mean())\n",
    "            score_out += classifier_score\n",
    "\n",
    "        # distance gradients\n",
    "        if self.lp_custom:\n",
    "            \n",
    "            lp_score = -1 * lp_grad * (1 - a_t).sqrt()\n",
    "            if self.enforce_same_norms:\n",
    "                # dont renormalize the implicit classifier score because it is already renormalized in the cone projection\n",
    "                score_, norm_ = _renormalize_gradient(lp_score, implicit_classifier_score) # e_t_uncond if self.classifier_lambda == 0 else implicit_classifier_score) #.detach()) #, implicit_classifier_score) (AWAREE!!)\n",
    "                lp_score = self.dist_lambda * score_\n",
    "\n",
    "            else:\n",
    "                \n",
    "                lp_score *= self.dist_lambda\n",
    "                \n",
    "            score_out -= lp_score\n",
    "\n",
    "        e_t = e_t_uncond + unconditional_guidance_scale * score_out  # (1 - a_t).sqrt() * grad_out\n",
    "\n",
    "        #adding images to create a gif\n",
    "        pred_x0_copy = pred_x0.clone().detach()\n",
    "        img = torch.clamp(_map_img(pred_x0_copy), min=0.0, max=1.0)\n",
    "        #img = #torch.permute(img, (1, 2, 0, 3)).reshape((img.shape[1], img.shape[2], -1))\n",
    "\n",
    "        self.images.append(img)\n",
    "\n",
    "        if prob_best_class is not None:\n",
    "            self.probs.append(prob_best_class)\n",
    "        \n",
    "        return e_t\n",
    "\n",
    "    def register_buffer(self, name, attr):\n",
    "        if type(attr) == torch.Tensor:\n",
    "            pass\n",
    "            # TODO: this is a hack to make it work on CPU\n",
    "            #if attr.device != torch.device(\"cuda\"):\n",
    "            #    attr = attr.to(torch.device(\"cuda\"))\n",
    "        setattr(self, name, attr)\n",
    "\n",
    "    def make_schedule(self, ddim_num_steps, ddim_discretize=\"uniform\", ddim_eta=0., verbose=True):\n",
    "        self.ddim_timesteps = make_ddim_timesteps(ddim_discr_method=ddim_discretize, num_ddim_timesteps=ddim_num_steps,\n",
    "                                                  num_ddpm_timesteps=self.ddpm_num_timesteps, verbose=verbose)\n",
    "        alphas_cumprod = self.model.alphas_cumprod\n",
    "        assert alphas_cumprod.shape[0] == self.ddpm_num_timesteps, 'alphas have to be defined for each timestep'\n",
    "        to_torch = lambda x: x.clone().detach().to(torch.float32).to(self.model.device)\n",
    "\n",
    "        self.register_buffer('betas', to_torch(self.model.betas))\n",
    "        self.register_buffer('alphas_cumprod', to_torch(alphas_cumprod))\n",
    "        self.register_buffer('alphas_cumprod_prev', to_torch(self.model.alphas_cumprod_prev))\n",
    "\n",
    "        # calculations for diffusion q(x_t | x_{t-1}) and others\n",
    "        self.register_buffer('sqrt_alphas_cumprod', to_torch(np.sqrt(alphas_cumprod.cpu())))\n",
    "        self.register_buffer('sqrt_one_minus_alphas_cumprod', to_torch(np.sqrt(1. - alphas_cumprod.cpu())))\n",
    "        self.register_buffer('log_one_minus_alphas_cumprod', to_torch(np.log(1. - alphas_cumprod.cpu())))\n",
    "        self.register_buffer('sqrt_recip_alphas_cumprod', to_torch(np.sqrt(1. / alphas_cumprod.cpu())))\n",
    "        self.register_buffer('sqrt_recipm1_alphas_cumprod', to_torch(np.sqrt(1. / alphas_cumprod.cpu() - 1)))\n",
    "\n",
    "        # ddim sampling parameters\n",
    "        ddim_sigmas, ddim_alphas, ddim_alphas_prev = make_ddim_sampling_parameters(alphacums=alphas_cumprod.cpu(),\n",
    "                                                                                   ddim_timesteps=self.ddim_timesteps,\n",
    "                                                                                   eta=ddim_eta, verbose=verbose)\n",
    "        self.register_buffer('ddim_sigmas', ddim_sigmas)\n",
    "        self.register_buffer('ddim_alphas', ddim_alphas)\n",
    "        self.register_buffer('ddim_alphas_prev', ddim_alphas_prev)\n",
    "        self.register_buffer('ddim_sqrt_one_minus_alphas', np.sqrt(1. - ddim_alphas))\n",
    "        sigmas_for_original_sampling_steps = ddim_eta * torch.sqrt(\n",
    "            (1 - self.alphas_cumprod_prev) / (1 - self.alphas_cumprod) * (\n",
    "                    1 - self.alphas_cumprod / self.alphas_cumprod_prev))\n",
    "        self.register_buffer('ddim_sigmas_for_original_num_steps', sigmas_for_original_sampling_steps)\n",
    "\n",
    "    @torch.no_grad()\n",
    "    def sample(self,\n",
    "               S,\n",
    "               batch_size,\n",
    "               shape,\n",
    "               conditioning=None,\n",
    "               callback=None,\n",
    "               normals_sequence=None,\n",
    "               img_callback=None,\n",
    "               quantize_x0=False,\n",
    "               eta=0.,\n",
    "               mask=None,\n",
    "               x0=None,\n",
    "               temperature=1.,\n",
    "               noise_dropout=0.,\n",
    "               score_corrector=None,\n",
    "               corrector_kwargs=None,\n",
    "               verbose=True,\n",
    "               x_T=None,\n",
    "               log_every_t=100,\n",
    "               unconditional_guidance_scale=1.,\n",
    "               unconditional_conditioning=None,\n",
    "               # this has to come in the same format as the conditioning, # e.g. as encoded tokens, ...\n",
    "               **kwargs\n",
    "               ):\n",
    "        if conditioning is not None:\n",
    "            if isinstance(conditioning, dict):\n",
    "                cbs = conditioning[list(conditioning.keys())[0]].shape[0]\n",
    "                if cbs != batch_size:\n",
    "                    print(f\"Warning: Got {cbs} conditionings but batch-size is {batch_size}\")\n",
    "            else:\n",
    "                if conditioning.shape[0] != batch_size:\n",
    "                    print(f\"Warning: Got {conditioning.shape[0]} conditionings but batch-size is {batch_size}\")\n",
    "\n",
    "        self.make_schedule(ddim_num_steps=S, ddim_eta=eta, verbose=verbose)\n",
    "        # sampling\n",
    "        C, H, W = shape\n",
    "        size = (batch_size, C, H, W)\n",
    "        print(f'Data shape for DDIM sampling is {size}, eta {eta}')\n",
    "\n",
    "        samples, intermediates = self.ddim_sampling(conditioning, size,\n",
    "                                                    callback=callback,\n",
    "                                                    img_callback=img_callback,\n",
    "                                                    quantize_denoised=quantize_x0,\n",
    "                                                    mask=mask, x0=x0,\n",
    "                                                    ddim_use_original_steps=False,\n",
    "                                                    noise_dropout=noise_dropout,\n",
    "                                                    temperature=temperature,\n",
    "                                                    score_corrector=score_corrector,\n",
    "                                                    corrector_kwargs=corrector_kwargs,\n",
    "                                                    x_T=x_T,\n",
    "                                                    log_every_t=log_every_t,\n",
    "                                                    unconditional_guidance_scale=unconditional_guidance_scale,\n",
    "                                                    unconditional_conditioning=unconditional_conditioning,\n",
    "                                                    )\n",
    "        return samples, intermediates\n",
    "\n",
    "    @torch.no_grad()\n",
    "    def ddim_sampling(self, cond, shape,\n",
    "                      x_T=None, ddim_use_original_steps=False,\n",
    "                      callback=None, timesteps=None, quantize_denoised=False,\n",
    "                      mask=None, x0=None, img_callback=None, log_every_t=100,\n",
    "                      temperature=1., noise_dropout=0., score_corrector=None, corrector_kwargs=None,\n",
    "                      unconditional_guidance_scale=1., unconditional_conditioning=None, ):\n",
    "\n",
    "        device = self.model.betas.device\n",
    "        b = shape[0]\n",
    "        if x_T is None:\n",
    "            img = torch.randn(shape, device=device)\n",
    "        else:\n",
    "            img = x_T\n",
    "\n",
    "        if timesteps is None:\n",
    "            timesteps = self.ddpm_num_timesteps if ddim_use_original_steps else self.ddim_timesteps\n",
    "        elif timesteps is not None and not ddim_use_original_steps:\n",
    "            subset_end = int(min(timesteps / self.ddim_timesteps.shape[0], 1) * self.ddim_timesteps.shape[0]) - 1\n",
    "            timesteps = self.ddim_timesteps[:subset_end]\n",
    "\n",
    "        intermediates = {'x_inter': [img], 'pred_x0': [img]}\n",
    "        time_range = reversed(range(0, timesteps)) if ddim_use_original_steps else np.flip(timesteps)\n",
    "        total_steps = timesteps if ddim_use_original_steps else timesteps.shape[0]\n",
    "        print(f\"Running DDIM Sampling with {total_steps} timesteps\")\n",
    "\n",
    "        iterator = tqdm(time_range, desc='DDIM Sampler', total=total_steps)\n",
    "\n",
    "        for i, step in enumerate(iterator):\n",
    "            index = total_steps - i - 1\n",
    "            ts = torch.full((b,), step, device=device, dtype=torch.long)\n",
    "\n",
    "            if mask is not None:\n",
    "                assert x0 is not None\n",
    "                img_orig = self.model.q_sample(x0, ts)  # TODO: deterministic forward pass?\n",
    "                img = img_orig * mask + (1. - mask) * img\n",
    "\n",
    "            outs = self.p_sample_ddim(img, cond, ts, index=index, use_original_steps=ddim_use_original_steps,\n",
    "                                      quantize_denoised=quantize_denoised, temperature=temperature,\n",
    "                                      noise_dropout=noise_dropout, score_corrector=score_corrector,\n",
    "                                      corrector_kwargs=corrector_kwargs,\n",
    "                                      unconditional_guidance_scale=unconditional_guidance_scale,\n",
    "                                      unconditional_conditioning=unconditional_conditioning)\n",
    "            img, pred_x0 = outs\n",
    "            if callback: callback(i)\n",
    "            if img_callback: img_callback(pred_x0, i)\n",
    "\n",
    "            if index % log_every_t == 0 or index == total_steps - 1:\n",
    "                intermediates['x_inter'].append(img)\n",
    "                intermediates['pred_x0'].append(pred_x0)\n",
    "\n",
    "        return img, intermediates\n",
    "\n",
    "    @torch.no_grad()\n",
    "    def p_sample_ddim(self, x, c, t, index, repeat_noise=False, use_original_steps=False, quantize_denoised=False,\n",
    "                      temperature=1., noise_dropout=0., score_corrector=None, corrector_kwargs=None,\n",
    "                      unconditional_guidance_scale=1., unconditional_conditioning=None, y=None):\n",
    "        b, *_, device = *x.shape, x.device\n",
    "\n",
    "        e_t = self.conditional_score(x=x, c=c, t=t, index=index, use_original_steps=use_original_steps,\n",
    "                                     quantize_denoised=quantize_denoised,\n",
    "                                     unconditional_guidance_scale=unconditional_guidance_scale,\n",
    "                                     unconditional_conditioning=unconditional_conditioning, y=y)\n",
    "\n",
    "        if score_corrector is not None:\n",
    "            assert self.model.parameterization == \"eps\"\n",
    "            e_t = score_corrector.modify_score(self.model, e_t, x, t, c, **corrector_kwargs)\n",
    "\n",
    "        alphas = self.model.alphas_cumprod if use_original_steps else self.ddim_alphas\n",
    "        alphas_prev = self.model.alphas_cumprod_prev if use_original_steps else self.ddim_alphas_prev\n",
    "        sqrt_one_minus_alphas = self.model.sqrt_one_minus_alphas_cumprod if use_original_steps else self.ddim_sqrt_one_minus_alphas\n",
    "        sigmas = self.model.ddim_sigmas_for_original_num_steps if use_original_steps else self.ddim_sigmas\n",
    "        # select parameters corresponding to the currently considered timestep\n",
    "        a_t = torch.full((b, 1, 1, 1), alphas[index], device=device)\n",
    "        a_prev = torch.full((b, 1, 1, 1), alphas_prev[index], device=device)\n",
    "        sigma_t = torch.full((b, 1, 1, 1), sigmas[index], device=device)\n",
    "        sqrt_one_minus_at = torch.full((b, 1, 1, 1), sqrt_one_minus_alphas[index], device=device)\n",
    "\n",
    "        # current prediction for x_0\n",
    "        pred_x0 = (x - sqrt_one_minus_at * e_t) / a_t.sqrt()\n",
    "        if quantize_denoised:\n",
    "            pred_x0, _, *_ = self.model.first_stage_model.quantize(pred_x0)\n",
    "        # direction pointing to x_t\n",
    "        dir_xt = (1. - a_prev - sigma_t ** 2).sqrt() * e_t\n",
    "        noise = sigma_t * noise_like(x.shape, device, repeat_noise) * temperature\n",
    "        if noise_dropout > 0.:\n",
    "            noise = torch.nn.functional.dropout(noise, p=noise_dropout)\n",
    "        x_prev = a_prev.sqrt() * pred_x0 + dir_xt + noise\n",
    "        return x_prev, pred_x0\n",
    "\n",
    "    @torch.no_grad()\n",
    "    def stochastic_encode(self, x0, t, use_original_steps=False, noise=None):\n",
    "        # fast, but does not allow for exact reconstruction\n",
    "        # t serves as an index to gather the correct alphas\n",
    "        if use_original_steps:\n",
    "            sqrt_alphas_cumprod = self.sqrt_alphas_cumprod\n",
    "            sqrt_one_minus_alphas_cumprod = self.sqrt_one_minus_alphas_cumprod\n",
    "        else:\n",
    "            sqrt_alphas_cumprod = torch.sqrt(self.ddim_alphas).to(x0.device)\n",
    "            sqrt_one_minus_alphas_cumprod = self.ddim_sqrt_one_minus_alphas.to(x0.device)\n",
    "\n",
    "        if noise is None:\n",
    "            noise = torch.randn_like(x0)\n",
    "        return (extract_into_tensor(sqrt_alphas_cumprod, t, x0.shape) * x0 +\n",
    "                extract_into_tensor(sqrt_one_minus_alphas_cumprod, t, x0.shape) * noise)\n",
    "\n",
    "    @torch.no_grad()\n",
    "    def decode(self, x_latent, cond, t_start, y=None, unconditional_guidance_scale=1.0, unconditional_conditioning=None,\n",
    "               use_original_steps=False, latent_t_0=False):\n",
    "\n",
    "        timesteps = np.arange(self.ddpm_num_timesteps) if use_original_steps else self.ddim_timesteps\n",
    "        timesteps = timesteps[:t_start]\n",
    "\n",
    "        time_range = np.flip(timesteps)\n",
    "        total_steps = timesteps.shape[0]\n",
    "        print(f\"Running DDIM Sampling with {total_steps} timesteps\")\n",
    "\n",
    "        if self.masked_guidance:\n",
    "            print(\"### Getting the mask ###\")\n",
    "            mask = self.get_mask()\n",
    "            mask = F.interpolate(mask.to(torch.uint8), size=x_latent.shape[-2:])\n",
    "            #, align_corners=True)\n",
    "            #normalize the mask\n",
    "            # mask = (mask - mask.min()) / (mask.max() - mask.min())\n",
    "            # mask[mask < 0.5] = 0.\n",
    "            # mask[mask >= 0.5] = 1.\n",
    "            # plot the mask\n",
    "            print(\"### Mask shape: \", mask.shape, mask.min(), mask.max(), (mask*1.).mean(), (mask*1.).std(), \"###\")\n",
    "            #print(\"### Mask shape: \", mask.shape, mask.min(), mask.max(), mask.mean(), mask.std(), \"###\")\n",
    "            \n",
    "            mask_plt = mask[0].permute(1, 2, 0).cpu().numpy()\n",
    "            plt.imshow(mask_plt)\n",
    "            plt.show()\n",
    "\n",
    "        iterator = tqdm(time_range, desc='Decoding image', total=total_steps)\n",
    "\n",
    "        # if latent_t_0:\n",
    "        #     x_orig = x_latent\n",
    "        #     x_dec = self.stochastic_encode(x_latent.clone(),\n",
    "        #                                    torch.tensor([t_start] * (x_latent.shape[0])).to(x_latent.device))\n",
    "        # else:\n",
    "        #     \n",
    "        x_dec = x_latent\n",
    "\n",
    "        for i, step in enumerate(iterator):\n",
    "            index = total_steps - i - 1\n",
    "            ts = torch.full((x_latent.shape[0],), step, device=x_latent.device, dtype=torch.long)\n",
    "\n",
    "            if self.masked_guidance and latent_t_0:\n",
    "                print(\"blending with original image\")\n",
    "                img_orig = self.model.q_sample(x_latent.clone(), ts)\n",
    "                img = img_orig * (1. - mask) + (mask) * x_dec\n",
    "\n",
    "            \n",
    "            x_dec, _ = self.p_sample_ddim(x_dec, cond, ts, index=index, use_original_steps=use_original_steps,\n",
    "                                          unconditional_guidance_scale=unconditional_guidance_scale,\n",
    "                                          unconditional_conditioning=unconditional_conditioning, y=y)\n",
    "            \n",
    "\n",
    "        out = {}\n",
    "        out['x_dec'] = x_dec\n",
    "        out[\"mask\"] = mask if self.masked_guidance else None\n",
    "        out['video'] = torch.stack(self.images, dim=1) if len(self.images) != 0 else None\n",
    "        print(f\"Video shape: {out['video'].shape}\")\n",
    "        print(self.probs)\n",
    "        #out['prob'] = self.probs[-1].item() if len(self.probs) != 0 else None\n",
    "        out['prob'] = self.probs[-1].detach().cpu().numpy() if len(self.probs) != 0 else None\n",
    "        #out['prob'] = self.probs[-1].item() if len(self.probs) != 0 else None\n",
    "        \n",
    "        self.images = []\n",
    "        self.probs = []\n",
    "        self.mask = None\n",
    "        return out"
   ]
  },
  {
   "attachments": {},
   "cell_type": "markdown",
   "metadata": {},
   "source": [
    "### Getting a classifier from torch vision"
   ]
  },
  {
   "cell_type": "code",
   "execution_count": 50,
   "metadata": {},
   "outputs": [
    {
     "data": {
      "text/plain": [
       "torch.Size([2, 3, 256, 256])"
      ]
     },
     "execution_count": 50,
     "metadata": {},
     "output_type": "execute_result"
    }
   ],
   "source": [
    "sampler.init_images.shape"
   ]
  },
  {
   "cell_type": "code",
   "execution_count": 51,
   "metadata": {},
   "outputs": [],
   "source": [
    "classifier_name = \"efficientnet_b0\"\n",
    "classifier_name = \"resnet50\"\n",
    "#classifier_name = \"vit_b_32\"\n",
    "\n",
    "classifier_model=getattr(torchvision.models, classifier_name)(pretrained=True).to(device)\n",
    "classifier_model = classifier_model.eval()\n",
    "#classifier_model.train = disabled_train\n"
   ]
  },
  {
   "attachments": {},
   "cell_type": "markdown",
   "metadata": {},
   "source": [
    "### Getting a model, latent and wrapping in sampler"
   ]
  },
  {
   "cell_type": "code",
   "execution_count": 18,
   "metadata": {},
   "outputs": [
    {
     "name": "stdout",
     "output_type": "stream",
     "text": [
      "Loading model from models/ldm/cin256-v2/model.ckpt\n",
      "LatentDiffusion: Running in eps-prediction mode\n",
      "DiffusionWrapper has 400.92 M params.\n",
      "making attention of type 'vanilla' with 512 in_channels\n",
      "Working with z of shape (1, 3, 64, 64) = 12288 dimensions.\n",
      "making attention of type 'vanilla' with 512 in_channels\n"
     ]
    }
   ],
   "source": [
    "model = get_model()"
   ]
  },
  {
   "cell_type": "code",
   "execution_count": 19,
   "metadata": {},
   "outputs": [],
   "source": [
    "image_path = 'data/imagenette2/train/n03445777/ILSVRC2012_val_00002314.JPEG'\n",
    "\n",
    "strength = 0.3 #48#46#\"strength for noising/unnoising. 1.0 corresponds to full destruction of information in init image\"\n",
    "n_samples_per_class = batch_size = 3\n",
    "ddim_steps = 250\n",
    "ddim_eta = 0.0\n",
    "scale = 3.0   # for unconditional guidance\n"
   ]
  },
  {
   "cell_type": "code",
   "execution_count": 20,
   "metadata": {},
   "outputs": [],
   "source": [
    "t_enc = int(strength * ddim_steps)"
   ]
  },
  {
   "cell_type": "code",
   "execution_count": null,
   "metadata": {},
   "outputs": [],
   "source": []
  },
  {
   "cell_type": "code",
   "execution_count": 21,
   "metadata": {},
   "outputs": [
    {
     "data": {
      "text/plain": [
       "75"
      ]
     },
     "execution_count": 21,
     "metadata": {},
     "output_type": "execute_result"
    }
   ],
   "source": [
    "t_enc"
   ]
  },
  {
   "cell_type": "code",
   "execution_count": 22,
   "metadata": {},
   "outputs": [],
   "source": [
    "\n",
    "sampler = CCDDIMSampler(model, classifier_model)\n",
    "sampler.make_schedule(ddim_num_steps=ddim_steps, ddim_eta=ddim_eta, verbose=False)\n",
    "\n"
   ]
  },
  {
   "attachments": {},
   "cell_type": "markdown",
   "metadata": {},
   "source": [
    "### Creating the Counterfactual sampler\n"
   ]
  },
  {
   "attachments": {},
   "cell_type": "markdown",
   "metadata": {},
   "source": [
    "## Now generating for the images of interest "
   ]
  },
  {
   "cell_type": "code",
   "execution_count": 23,
   "metadata": {},
   "outputs": [
    {
     "data": {
      "text/plain": [
       "<torch.autograd.anomaly_mode.set_detect_anomaly at 0x7f2a47da8760>"
      ]
     },
     "execution_count": 23,
     "metadata": {},
     "output_type": "execute_result"
    }
   ],
   "source": [
    "torch.autograd.set_detect_anomaly(True)"
   ]
  },
  {
   "cell_type": "code",
   "execution_count": 24,
   "metadata": {},
   "outputs": [
    {
     "name": "stderr",
     "output_type": "stream",
     "text": [
      "Failed to detect the name of this notebook, you can set it manually with the WANDB_NOTEBOOK_NAME environment variable to enable code saving.\n",
      "\u001b[34m\u001b[1mwandb\u001b[0m: Currently logged in as: \u001b[33mkifarid\u001b[0m. Use \u001b[1m`wandb login --relogin`\u001b[0m to force relogin\n"
     ]
    },
    {
     "data": {
      "text/html": [
       "wandb version 0.15.0 is available!  To upgrade, please run:\n",
       " $ pip install wandb --upgrade"
      ],
      "text/plain": [
       "<IPython.core.display.HTML object>"
      ]
     },
     "metadata": {},
     "output_type": "display_data"
    },
    {
     "data": {
      "text/html": [
       "Tracking run with wandb version 0.13.9"
      ],
      "text/plain": [
       "<IPython.core.display.HTML object>"
      ]
     },
     "metadata": {},
     "output_type": "display_data"
    },
    {
     "data": {
      "text/html": [
       "Run data is saved locally in <code>/misc/student/faridk/stable-diffusion/wandb/run-20230426_022754-uwian2yn</code>"
      ],
      "text/plain": [
       "<IPython.core.display.HTML object>"
      ]
     },
     "metadata": {},
     "output_type": "display_data"
    },
    {
     "data": {
      "text/html": [
       "Syncing run <strong><a href=\"https://wandb.ai/kifarid/cdiff/runs/uwian2yn\" target=\"_blank\">astral-firefly-289</a></strong> to <a href=\"https://wandb.ai/kifarid/cdiff\" target=\"_blank\">Weights & Biases</a> (<a href=\"https://wandb.me/run\" target=\"_blank\">docs</a>)<br/>"
      ],
      "text/plain": [
       "<IPython.core.display.HTML object>"
      ]
     },
     "metadata": {},
     "output_type": "display_data"
    },
    {
     "data": {
      "text/html": [
       " View project at <a href=\"https://wandb.ai/kifarid/cdiff\" target=\"_blank\">https://wandb.ai/kifarid/cdiff</a>"
      ],
      "text/plain": [
       "<IPython.core.display.HTML object>"
      ]
     },
     "metadata": {},
     "output_type": "display_data"
    },
    {
     "data": {
      "text/html": [
       " View run at <a href=\"https://wandb.ai/kifarid/cdiff/runs/uwian2yn\" target=\"_blank\">https://wandb.ai/kifarid/cdiff/runs/uwian2yn</a>"
      ],
      "text/plain": [
       "<IPython.core.display.HTML object>"
      ]
     },
     "metadata": {},
     "output_type": "display_data"
    }
   ],
   "source": [
    "import wandb\n",
    "os.environ[\"WANDB_API_KEY\"] = 'cff06ca1fa10f98d7fde3bf619ee5ec8550aba11'\n",
    "run = wandb.init(entity=\"kifarid\", project=\"cdiff\")\n",
    "\n"
   ]
  },
  {
   "cell_type": "code",
   "execution_count": 25,
   "metadata": {},
   "outputs": [],
   "source": [
    "bs = 2"
   ]
  },
  {
   "cell_type": "code",
   "execution_count": 26,
   "metadata": {},
   "outputs": [],
   "source": [
    "#my_table = wandb.Table(columns = [\"image\", \"source\", \"target\", *[f\"gen_image_{i}\" for i in range(bs)],  *[f\"class_prediction_{i}\" for i in range(bs)], \"closness_1\", \"closness_2\", \"video\"])\n",
    "\n",
    "my_table = wandb.Table(columns = [\"image\", \"source\", \"target\", \"gen_image\",  \"class_pred\", \"closness_1\", \"closness_2\", \"video\"])"
   ]
  },
  {
   "cell_type": "code",
   "execution_count": 64,
   "metadata": {},
   "outputs": [],
   "source": [
    "import yaml\n",
    "strength = 0.01#0.28#48#46#\"strength for noising/unnoising. 1.0 corresponds to full destruction of information in init image\"\n",
    "ddim_steps = 250\n",
    "sampler = CCDDIMSampler(model, classifier_model)\n",
    "sampler.make_schedule(ddim_num_steps=ddim_steps, ddim_eta=ddim_eta, verbose=False)\n",
    "\n",
    "assert 0. <= strength <= 1., 'can only work with strength in [0.0, 1.0]'\n",
    "t_enc = int(strength * ddim_steps)\n",
    "precision = \"autocast\" #\"full\"\n",
    "precision_scope = autocast if precision == \"autocast\" else nullcontext\n",
    "n_samples_per_class = 3\n",
    "\n",
    "sampler.enforce_same_norms = True\n",
    "sampler.guidance = \"projected\"\n",
    "sampler.classifier_lambda = 3 #.2 #1.8 #2 final #1.5 #2.5 # 5.5 best \n",
    "sampler.dist_lambda = 1 # 0.15\n",
    "sampler.masked_guidance = False\n",
    "#sampler.seg_model = model_seg\n",
    "#sampler.detect_model = groundingdino_model\n",
    "sampler.backprop_diffusion = False\n",
    "sampler.mask = None\n",
    "\n",
    "\n",
    "sampler.lp_custom = 1 \n",
    "\n",
    "\n",
    "\n",
    "data_path = '/misc/scratchSSD2/datasets/ILSVRC2012/val'\n",
    "out_size = 256\n",
    "transform_list = [\n",
    "    transforms.Resize((out_size,out_size)),\n",
    "    transforms.ToTensor()\n",
    "]\n",
    "transform = transforms.Compose(transform_list)\n",
    "dataset = datasets.ImageFolder(data_path,  transform=transform)\n",
    "with open('data/synset_closest_idx.yaml', 'r') as file:\n",
    "    synset_closest_idx = yaml.safe_load(file)\n"
   ]
  },
  {
   "cell_type": "code",
   "execution_count": 65,
   "metadata": {},
   "outputs": [],
   "source": [
    "data_loader = torch.utils.data.DataLoader(dataset, batch_size=bs, shuffle=False, num_workers=1)"
   ]
  },
  {
   "cell_type": "code",
   "execution_count": 66,
   "metadata": {},
   "outputs": [],
   "source": [
    "import random"
   ]
  },
  {
   "cell_type": "code",
   "execution_count": 67,
   "metadata": {},
   "outputs": [
    {
     "name": "stdout",
     "output_type": "stream",
     "text": [
      "converting 0 from : tench, Tinca tinca to: sturgeon\n",
      "converting 0 from : tench, Tinca tinca to: puffer, pufferfish, blowfish, globefish\n"
     ]
    },
    {
     "data": {
      "image/png": "[encoded data removed]",
      "text/plain": [
       "<Figure size 640x480 with 1 Axes>"
      ]
     },
     "metadata": {},
     "output_type": "display_data"
    },
    {
     "name": "stdout",
     "output_type": "stream",
     "text": [
      "init latent shape: torch.Size([2, 3, 64, 64])\n",
      "init images shape: torch.Size([2, 3, 256, 256])\n",
      "rendering classes 'tensor([394, 397], device='cuda:0')' in 250 steps and using s=3.00.\n",
      "Running DDIM Sampling with 2 timesteps\n"
     ]
    },
    {
     "name": "stderr",
     "output_type": "stream",
     "text": [
      "Decoding image:   0%|          | 0/2 [00:00<?, ?it/s]"
     ]
    },
    {
     "name": "stdout",
     "output_type": "stream",
     "text": [
      "classifier dist is [torch.Size([2]), torch.Size([1000])]\n",
      "log_probs torch.Size([2])\n",
      "prob_best_class torch.Size([2])\n"
     ]
    },
    {
     "name": "stderr",
     "output_type": "stream",
     "text": [
      "Decoding image:  50%|█████     | 1/2 [00:01<00:01,  1.72s/it]"
     ]
    },
    {
     "name": "stdout",
     "output_type": "stream",
     "text": [
      "classifier dist is [torch.Size([2]), torch.Size([1000])]\n",
      "log_probs torch.Size([2])\n",
      "prob_best_class torch.Size([2])\n"
     ]
    },
    {
     "name": "stderr",
     "output_type": "stream",
     "text": [
      "Decoding image: 100%|██████████| 2/2 [00:03<00:00,  1.68s/it]\n"
     ]
    },
    {
     "name": "stdout",
     "output_type": "stream",
     "text": [
      "Video shape: torch.Size([2, 2, 3, 256, 256])\n",
      "[tensor([0.0846, 0.0002], device='cuda:0', grad_fn=<ExpBackward0>), tensor([0.4539, 0.0023], device='cuda:0', grad_fn=<ExpBackward0>)]\n"
     ]
    },
    {
     "ename": "ValueError",
     "evalue": "Circular reference detected",
     "output_type": "error",
     "traceback": [
      "\u001b[0;31m---------------------------------------------------------------------------\u001b[0m",
      "\u001b[0;31mValueError\u001b[0m                                Traceback (most recent call last)",
      "Cell \u001b[0;32mIn[67], line 53\u001b[0m\n\u001b[1;32m     50\u001b[0m                 video \u001b[39m=\u001b[39m wandb\u001b[39m.\u001b[39mVideo((\u001b[39m255.\u001b[39m\u001b[39m*\u001b[39mall_videos[\u001b[39m0\u001b[39m][i])\u001b[39m.\u001b[39mdetach()\u001b[39m.\u001b[39mcpu()\u001b[39m.\u001b[39mto(torch\u001b[39m.\u001b[39muint8), fps\u001b[39m=\u001b[39m\u001b[39m1\u001b[39m, \u001b[39mformat\u001b[39m\u001b[39m=\u001b[39m\u001b[39m\"\u001b[39m\u001b[39mgif\u001b[39m\u001b[39m\"\u001b[39m)\n\u001b[1;32m     51\u001b[0m                 my_table\u001b[39m.\u001b[39madd_data(src_image, source, target, gen_image, class_predictions, closeness_1, closeness_2, video)\n\u001b[0;32m---> 53\u001b[0m                 run\u001b[39m.\u001b[39;49mlog({\u001b[39m\"\u001b[39;49m\u001b[39mdvce_video\u001b[39;49m\u001b[39m\"\u001b[39;49m: my_table})\n\u001b[1;32m     55\u001b[0m run\u001b[39m.\u001b[39mlog({\u001b[39m\"\u001b[39m\u001b[39mdvce_video_complete\u001b[39m\u001b[39m\"\u001b[39m: my_table})\n",
      "File \u001b[0;32m/misc/student/faridk/miniconda3/envs/ldm/lib/python3.8/site-packages/wandb/sdk/wandb_run.py:370\u001b[0m, in \u001b[0;36m_run_decorator._noop.<locals>.wrapper\u001b[0;34m(self, *args, **kwargs)\u001b[0m\n\u001b[1;32m    367\u001b[0m         wandb\u001b[39m.\u001b[39mtermwarn(message, repeat\u001b[39m=\u001b[39m\u001b[39mFalse\u001b[39;00m)\n\u001b[1;32m    368\u001b[0m         \u001b[39mreturn\u001b[39;00m \u001b[39mcls\u001b[39m\u001b[39m.\u001b[39mDummy()\n\u001b[0;32m--> 370\u001b[0m \u001b[39mreturn\u001b[39;00m func(\u001b[39mself\u001b[39;49m, \u001b[39m*\u001b[39;49margs, \u001b[39m*\u001b[39;49m\u001b[39m*\u001b[39;49mkwargs)\n",
      "File \u001b[0;32m/misc/student/faridk/miniconda3/envs/ldm/lib/python3.8/site-packages/wandb/sdk/wandb_run.py:333\u001b[0m, in \u001b[0;36m_run_decorator._attach.<locals>.wrapper\u001b[0;34m(self, *args, **kwargs)\u001b[0m\n\u001b[1;32m    331\u001b[0m         \u001b[39mraise\u001b[39;00m e\n\u001b[1;32m    332\u001b[0m     \u001b[39mcls\u001b[39m\u001b[39m.\u001b[39m_is_attaching \u001b[39m=\u001b[39m \u001b[39m\"\u001b[39m\u001b[39m\"\u001b[39m\n\u001b[0;32m--> 333\u001b[0m \u001b[39mreturn\u001b[39;00m func(\u001b[39mself\u001b[39;49m, \u001b[39m*\u001b[39;49margs, \u001b[39m*\u001b[39;49m\u001b[39m*\u001b[39;49mkwargs)\n",
      "File \u001b[0;32m/misc/student/faridk/miniconda3/envs/ldm/lib/python3.8/site-packages/wandb/sdk/wandb_run.py:1703\u001b[0m, in \u001b[0;36mRun.log\u001b[0;34m(self, data, step, commit, sync)\u001b[0m\n\u001b[1;32m   1696\u001b[0m \u001b[39mif\u001b[39;00m sync \u001b[39mis\u001b[39;00m \u001b[39mnot\u001b[39;00m \u001b[39mNone\u001b[39;00m:\n\u001b[1;32m   1697\u001b[0m     deprecate\u001b[39m.\u001b[39mdeprecate(\n\u001b[1;32m   1698\u001b[0m         field_name\u001b[39m=\u001b[39mdeprecate\u001b[39m.\u001b[39mDeprecated\u001b[39m.\u001b[39mrun__log_sync,\n\u001b[1;32m   1699\u001b[0m         warning_message\u001b[39m=\u001b[39m(\n\u001b[1;32m   1700\u001b[0m             \u001b[39m\"\u001b[39m\u001b[39m`sync` argument is deprecated and does not affect the behaviour of `wandb.log`\u001b[39m\u001b[39m\"\u001b[39m\n\u001b[1;32m   1701\u001b[0m         ),\n\u001b[1;32m   1702\u001b[0m     )\n\u001b[0;32m-> 1703\u001b[0m \u001b[39mself\u001b[39;49m\u001b[39m.\u001b[39;49m_log(data\u001b[39m=\u001b[39;49mdata, step\u001b[39m=\u001b[39;49mstep, commit\u001b[39m=\u001b[39;49mcommit)\n",
      "File \u001b[0;32m/misc/student/faridk/miniconda3/envs/ldm/lib/python3.8/site-packages/wandb/sdk/wandb_run.py:1485\u001b[0m, in \u001b[0;36mRun._log\u001b[0;34m(self, data, step, commit)\u001b[0m\n\u001b[1;32m   1482\u001b[0m \u001b[39mif\u001b[39;00m \u001b[39many\u001b[39m(\u001b[39mnot\u001b[39;00m \u001b[39misinstance\u001b[39m(key, \u001b[39mstr\u001b[39m) \u001b[39mfor\u001b[39;00m key \u001b[39min\u001b[39;00m data\u001b[39m.\u001b[39mkeys()):\n\u001b[1;32m   1483\u001b[0m     \u001b[39mraise\u001b[39;00m \u001b[39mValueError\u001b[39;00m(\u001b[39m\"\u001b[39m\u001b[39mKey values passed to `wandb.log` must be strings.\u001b[39m\u001b[39m\"\u001b[39m)\n\u001b[0;32m-> 1485\u001b[0m \u001b[39mself\u001b[39;49m\u001b[39m.\u001b[39;49m_partial_history_callback(data, step, commit)\n\u001b[1;32m   1487\u001b[0m \u001b[39mif\u001b[39;00m step \u001b[39mis\u001b[39;00m \u001b[39mnot\u001b[39;00m \u001b[39mNone\u001b[39;00m:\n\u001b[1;32m   1488\u001b[0m     \u001b[39mif\u001b[39;00m os\u001b[39m.\u001b[39mgetpid() \u001b[39m!=\u001b[39m \u001b[39mself\u001b[39m\u001b[39m.\u001b[39m_init_pid \u001b[39mor\u001b[39;00m \u001b[39mself\u001b[39m\u001b[39m.\u001b[39m_is_attached:\n",
      "File \u001b[0;32m/misc/student/faridk/miniconda3/envs/ldm/lib/python3.8/site-packages/wandb/sdk/wandb_run.py:1364\u001b[0m, in \u001b[0;36mRun._partial_history_callback\u001b[0;34m(self, row, step, commit)\u001b[0m\n\u001b[1;32m   1361\u001b[0m \u001b[39mif\u001b[39;00m \u001b[39mself\u001b[39m\u001b[39m.\u001b[39m_backend \u001b[39mand\u001b[39;00m \u001b[39mself\u001b[39m\u001b[39m.\u001b[39m_backend\u001b[39m.\u001b[39minterface:\n\u001b[1;32m   1362\u001b[0m     not_using_tensorboard \u001b[39m=\u001b[39m \u001b[39mlen\u001b[39m(wandb\u001b[39m.\u001b[39mpatched[\u001b[39m\"\u001b[39m\u001b[39mtensorboard\u001b[39m\u001b[39m\"\u001b[39m]) \u001b[39m==\u001b[39m \u001b[39m0\u001b[39m\n\u001b[0;32m-> 1364\u001b[0m     \u001b[39mself\u001b[39;49m\u001b[39m.\u001b[39;49m_backend\u001b[39m.\u001b[39;49minterface\u001b[39m.\u001b[39;49mpublish_partial_history(\n\u001b[1;32m   1365\u001b[0m         row,\n\u001b[1;32m   1366\u001b[0m         user_step\u001b[39m=\u001b[39;49m\u001b[39mself\u001b[39;49m\u001b[39m.\u001b[39;49m_step,\n\u001b[1;32m   1367\u001b[0m         step\u001b[39m=\u001b[39;49mstep,\n\u001b[1;32m   1368\u001b[0m         flush\u001b[39m=\u001b[39;49mcommit,\n\u001b[1;32m   1369\u001b[0m         publish_step\u001b[39m=\u001b[39;49mnot_using_tensorboard,\n\u001b[1;32m   1370\u001b[0m     )\n",
      "File \u001b[0;32m/misc/student/faridk/miniconda3/envs/ldm/lib/python3.8/site-packages/wandb/sdk/interface/interface.py:568\u001b[0m, in \u001b[0;36mInterfaceBase.publish_partial_history\u001b[0;34m(self, data, user_step, step, flush, publish_step, run)\u001b[0m\n\u001b[1;32m    557\u001b[0m \u001b[39mdef\u001b[39;00m \u001b[39mpublish_partial_history\u001b[39m(\n\u001b[1;32m    558\u001b[0m     \u001b[39mself\u001b[39m,\n\u001b[1;32m    559\u001b[0m     data: \u001b[39mdict\u001b[39m,\n\u001b[0;32m   (...)\u001b[0m\n\u001b[1;32m    564\u001b[0m     run: Optional[\u001b[39m\"\u001b[39m\u001b[39mRun\u001b[39m\u001b[39m\"\u001b[39m] \u001b[39m=\u001b[39m \u001b[39mNone\u001b[39;00m,\n\u001b[1;32m    565\u001b[0m ) \u001b[39m-\u001b[39m\u001b[39m>\u001b[39m \u001b[39mNone\u001b[39;00m:\n\u001b[1;32m    566\u001b[0m     run \u001b[39m=\u001b[39m run \u001b[39mor\u001b[39;00m \u001b[39mself\u001b[39m\u001b[39m.\u001b[39m_run\n\u001b[0;32m--> 568\u001b[0m     data \u001b[39m=\u001b[39m history_dict_to_json(run, data, step\u001b[39m=\u001b[39;49muser_step, ignore_copy_err\u001b[39m=\u001b[39;49m\u001b[39mTrue\u001b[39;49;00m)\n\u001b[1;32m    569\u001b[0m     data\u001b[39m.\u001b[39mpop(\u001b[39m\"\u001b[39m\u001b[39m_step\u001b[39m\u001b[39m\"\u001b[39m, \u001b[39mNone\u001b[39;00m)\n\u001b[1;32m    571\u001b[0m     \u001b[39m# add timestamp to the history request, if not already present\u001b[39;00m\n\u001b[1;32m    572\u001b[0m     \u001b[39m# the timestamp might come from the tensorboard log logic\u001b[39;00m\n",
      "File \u001b[0;32m/misc/student/faridk/miniconda3/envs/ldm/lib/python3.8/site-packages/wandb/sdk/data_types/utils.py:52\u001b[0m, in \u001b[0;36mhistory_dict_to_json\u001b[0;34m(run, payload, step, ignore_copy_err)\u001b[0m\n\u001b[1;32m     48\u001b[0m         payload[key] \u001b[39m=\u001b[39m history_dict_to_json(\n\u001b[1;32m     49\u001b[0m             run, val, step\u001b[39m=\u001b[39mstep, ignore_copy_err\u001b[39m=\u001b[39mignore_copy_err\n\u001b[1;32m     50\u001b[0m         )\n\u001b[1;32m     51\u001b[0m     \u001b[39melse\u001b[39;00m:\n\u001b[0;32m---> 52\u001b[0m         payload[key] \u001b[39m=\u001b[39m val_to_json(\n\u001b[1;32m     53\u001b[0m             run, key, val, namespace\u001b[39m=\u001b[39;49mstep, ignore_copy_err\u001b[39m=\u001b[39;49mignore_copy_err\n\u001b[1;32m     54\u001b[0m         )\n\u001b[1;32m     56\u001b[0m \u001b[39mreturn\u001b[39;00m payload\n",
      "File \u001b[0;32m/misc/student/faridk/miniconda3/envs/ldm/lib/python3.8/site-packages/wandb/sdk/data_types/utils.py:160\u001b[0m, in \u001b[0;36mval_to_json\u001b[0;34m(run, key, val, namespace, ignore_copy_err)\u001b[0m\n\u001b[1;32m    155\u001b[0m         \u001b[39m# Partitioned tables and joined tables do not support being bound to runs.\u001b[39;00m\n\u001b[1;32m    156\u001b[0m         \u001b[39mif\u001b[39;00m \u001b[39mnot\u001b[39;00m (\n\u001b[1;32m    157\u001b[0m             \u001b[39mhasattr\u001b[39m(val, \u001b[39m\"\u001b[39m\u001b[39m_log_type\u001b[39m\u001b[39m\"\u001b[39m)\n\u001b[1;32m    158\u001b[0m             \u001b[39mand\u001b[39;00m val\u001b[39m.\u001b[39m_log_type \u001b[39min\u001b[39;00m [\u001b[39m\"\u001b[39m\u001b[39mpartitioned-table\u001b[39m\u001b[39m\"\u001b[39m, \u001b[39m\"\u001b[39m\u001b[39mjoined-table\u001b[39m\u001b[39m\"\u001b[39m]\n\u001b[1;32m    159\u001b[0m         ):\n\u001b[0;32m--> 160\u001b[0m             val\u001b[39m.\u001b[39;49mbind_to_run(run, key, namespace)\n\u001b[1;32m    162\u001b[0m     \u001b[39mreturn\u001b[39;00m val\u001b[39m.\u001b[39mto_json(run)\n\u001b[1;32m    164\u001b[0m \u001b[39mreturn\u001b[39;00m converted\n",
      "File \u001b[0;32m/misc/student/faridk/miniconda3/envs/ldm/lib/python3.8/site-packages/wandb/data_types.py:528\u001b[0m, in \u001b[0;36mTable.bind_to_run\u001b[0;34m(self, *args, **kwargs)\u001b[0m\n\u001b[1;32m    526\u001b[0m data \u001b[39m=\u001b[39m _numpy_arrays_to_lists(data)\n\u001b[1;32m    527\u001b[0m \u001b[39mwith\u001b[39;00m codecs\u001b[39m.\u001b[39mopen(tmp_path, \u001b[39m\"\u001b[39m\u001b[39mw\u001b[39m\u001b[39m\"\u001b[39m, encoding\u001b[39m=\u001b[39m\u001b[39m\"\u001b[39m\u001b[39mutf-8\u001b[39m\u001b[39m\"\u001b[39m) \u001b[39mas\u001b[39;00m fp:\n\u001b[0;32m--> 528\u001b[0m     util\u001b[39m.\u001b[39;49mjson_dump_safer(data, fp)\n\u001b[1;32m    529\u001b[0m \u001b[39mself\u001b[39m\u001b[39m.\u001b[39m_set_file(tmp_path, is_tmp\u001b[39m=\u001b[39m\u001b[39mTrue\u001b[39;00m, extension\u001b[39m=\u001b[39m\u001b[39m\"\u001b[39m\u001b[39m.table.json\u001b[39m\u001b[39m\"\u001b[39m)\n\u001b[1;32m    530\u001b[0m \u001b[39msuper\u001b[39m()\u001b[39m.\u001b[39mbind_to_run(\u001b[39m*\u001b[39margs, \u001b[39m*\u001b[39m\u001b[39m*\u001b[39mkwargs)\n",
      "File \u001b[0;32m/misc/student/faridk/miniconda3/envs/ldm/lib/python3.8/site-packages/wandb/util.py:936\u001b[0m, in \u001b[0;36mjson_dump_safer\u001b[0;34m(obj, fp, **kwargs)\u001b[0m\n\u001b[1;32m    934\u001b[0m \u001b[39mdef\u001b[39;00m \u001b[39mjson_dump_safer\u001b[39m(obj: Any, fp: IO[\u001b[39mstr\u001b[39m], \u001b[39m*\u001b[39m\u001b[39m*\u001b[39mkwargs: Any) \u001b[39m-\u001b[39m\u001b[39m>\u001b[39m \u001b[39mNone\u001b[39;00m:\n\u001b[1;32m    935\u001b[0m     \u001b[39m\"\"\"Convert obj to json, with some extra encodable types.\"\"\"\u001b[39;00m\n\u001b[0;32m--> 936\u001b[0m     \u001b[39mreturn\u001b[39;00m json\u001b[39m.\u001b[39;49mdump(obj, fp, \u001b[39mcls\u001b[39;49m\u001b[39m=\u001b[39;49mWandBJSONEncoder, \u001b[39m*\u001b[39;49m\u001b[39m*\u001b[39;49mkwargs)\n",
      "File \u001b[0;32m/misc/student/faridk/miniconda3/envs/ldm/lib/python3.8/json/__init__.py:179\u001b[0m, in \u001b[0;36mdump\u001b[0;34m(obj, fp, skipkeys, ensure_ascii, check_circular, allow_nan, cls, indent, separators, default, sort_keys, **kw)\u001b[0m\n\u001b[1;32m    173\u001b[0m     iterable \u001b[39m=\u001b[39m \u001b[39mcls\u001b[39m(skipkeys\u001b[39m=\u001b[39mskipkeys, ensure_ascii\u001b[39m=\u001b[39mensure_ascii,\n\u001b[1;32m    174\u001b[0m         check_circular\u001b[39m=\u001b[39mcheck_circular, allow_nan\u001b[39m=\u001b[39mallow_nan, indent\u001b[39m=\u001b[39mindent,\n\u001b[1;32m    175\u001b[0m         separators\u001b[39m=\u001b[39mseparators,\n\u001b[1;32m    176\u001b[0m         default\u001b[39m=\u001b[39mdefault, sort_keys\u001b[39m=\u001b[39msort_keys, \u001b[39m*\u001b[39m\u001b[39m*\u001b[39mkw)\u001b[39m.\u001b[39miterencode(obj)\n\u001b[1;32m    177\u001b[0m \u001b[39m# could accelerate with writelines in some versions of Python, at\u001b[39;00m\n\u001b[1;32m    178\u001b[0m \u001b[39m# a debuggability cost\u001b[39;00m\n\u001b[0;32m--> 179\u001b[0m \u001b[39mfor\u001b[39;00m chunk \u001b[39min\u001b[39;00m iterable:\n\u001b[1;32m    180\u001b[0m     fp\u001b[39m.\u001b[39mwrite(chunk)\n",
      "File \u001b[0;32m/misc/student/faridk/miniconda3/envs/ldm/lib/python3.8/json/encoder.py:431\u001b[0m, in \u001b[0;36m_make_iterencode.<locals>._iterencode\u001b[0;34m(o, _current_indent_level)\u001b[0m\n\u001b[1;32m    429\u001b[0m     \u001b[39myield from\u001b[39;00m _iterencode_list(o, _current_indent_level)\n\u001b[1;32m    430\u001b[0m \u001b[39melif\u001b[39;00m \u001b[39misinstance\u001b[39m(o, \u001b[39mdict\u001b[39m):\n\u001b[0;32m--> 431\u001b[0m     \u001b[39myield from\u001b[39;00m _iterencode_dict(o, _current_indent_level)\n\u001b[1;32m    432\u001b[0m \u001b[39melse\u001b[39;00m:\n\u001b[1;32m    433\u001b[0m     \u001b[39mif\u001b[39;00m markers \u001b[39mis\u001b[39;00m \u001b[39mnot\u001b[39;00m \u001b[39mNone\u001b[39;00m:\n",
      "File \u001b[0;32m/misc/student/faridk/miniconda3/envs/ldm/lib/python3.8/json/encoder.py:405\u001b[0m, in \u001b[0;36m_make_iterencode.<locals>._iterencode_dict\u001b[0;34m(dct, _current_indent_level)\u001b[0m\n\u001b[1;32m    403\u001b[0m         \u001b[39melse\u001b[39;00m:\n\u001b[1;32m    404\u001b[0m             chunks \u001b[39m=\u001b[39m _iterencode(value, _current_indent_level)\n\u001b[0;32m--> 405\u001b[0m         \u001b[39myield from\u001b[39;00m chunks\n\u001b[1;32m    406\u001b[0m \u001b[39mif\u001b[39;00m newline_indent \u001b[39mis\u001b[39;00m \u001b[39mnot\u001b[39;00m \u001b[39mNone\u001b[39;00m:\n\u001b[1;32m    407\u001b[0m     _current_indent_level \u001b[39m-\u001b[39m\u001b[39m=\u001b[39m \u001b[39m1\u001b[39m\n",
      "File \u001b[0;32m/misc/student/faridk/miniconda3/envs/ldm/lib/python3.8/json/encoder.py:325\u001b[0m, in \u001b[0;36m_make_iterencode.<locals>._iterencode_list\u001b[0;34m(lst, _current_indent_level)\u001b[0m\n\u001b[1;32m    323\u001b[0m         \u001b[39melse\u001b[39;00m:\n\u001b[1;32m    324\u001b[0m             chunks \u001b[39m=\u001b[39m _iterencode(value, _current_indent_level)\n\u001b[0;32m--> 325\u001b[0m         \u001b[39myield from\u001b[39;00m chunks\n\u001b[1;32m    326\u001b[0m \u001b[39mif\u001b[39;00m newline_indent \u001b[39mis\u001b[39;00m \u001b[39mnot\u001b[39;00m \u001b[39mNone\u001b[39;00m:\n\u001b[1;32m    327\u001b[0m     _current_indent_level \u001b[39m-\u001b[39m\u001b[39m=\u001b[39m \u001b[39m1\u001b[39m\n",
      "File \u001b[0;32m/misc/student/faridk/miniconda3/envs/ldm/lib/python3.8/json/encoder.py:325\u001b[0m, in \u001b[0;36m_make_iterencode.<locals>._iterencode_list\u001b[0;34m(lst, _current_indent_level)\u001b[0m\n\u001b[1;32m    323\u001b[0m         \u001b[39melse\u001b[39;00m:\n\u001b[1;32m    324\u001b[0m             chunks \u001b[39m=\u001b[39m _iterencode(value, _current_indent_level)\n\u001b[0;32m--> 325\u001b[0m         \u001b[39myield from\u001b[39;00m chunks\n\u001b[1;32m    326\u001b[0m \u001b[39mif\u001b[39;00m newline_indent \u001b[39mis\u001b[39;00m \u001b[39mnot\u001b[39;00m \u001b[39mNone\u001b[39;00m:\n\u001b[1;32m    327\u001b[0m     _current_indent_level \u001b[39m-\u001b[39m\u001b[39m=\u001b[39m \u001b[39m1\u001b[39m\n",
      "File \u001b[0;32m/misc/student/faridk/miniconda3/envs/ldm/lib/python3.8/json/encoder.py:439\u001b[0m, in \u001b[0;36m_make_iterencode.<locals>._iterencode\u001b[0;34m(o, _current_indent_level)\u001b[0m\n\u001b[1;32m    437\u001b[0m     markers[markerid] \u001b[39m=\u001b[39m o\n\u001b[1;32m    438\u001b[0m o \u001b[39m=\u001b[39m _default(o)\n\u001b[0;32m--> 439\u001b[0m \u001b[39myield from\u001b[39;00m _iterencode(o, _current_indent_level)\n\u001b[1;32m    440\u001b[0m \u001b[39mif\u001b[39;00m markers \u001b[39mis\u001b[39;00m \u001b[39mnot\u001b[39;00m \u001b[39mNone\u001b[39;00m:\n\u001b[1;32m    441\u001b[0m     \u001b[39mdel\u001b[39;00m markers[markerid]\n",
      "File \u001b[0;32m/misc/student/faridk/miniconda3/envs/ldm/lib/python3.8/json/encoder.py:439\u001b[0m, in \u001b[0;36m_make_iterencode.<locals>._iterencode\u001b[0;34m(o, _current_indent_level)\u001b[0m\n\u001b[1;32m    437\u001b[0m     markers[markerid] \u001b[39m=\u001b[39m o\n\u001b[1;32m    438\u001b[0m o \u001b[39m=\u001b[39m _default(o)\n\u001b[0;32m--> 439\u001b[0m \u001b[39myield from\u001b[39;00m _iterencode(o, _current_indent_level)\n\u001b[1;32m    440\u001b[0m \u001b[39mif\u001b[39;00m markers \u001b[39mis\u001b[39;00m \u001b[39mnot\u001b[39;00m \u001b[39mNone\u001b[39;00m:\n\u001b[1;32m    441\u001b[0m     \u001b[39mdel\u001b[39;00m markers[markerid]\n",
      "File \u001b[0;32m/misc/student/faridk/miniconda3/envs/ldm/lib/python3.8/json/encoder.py:436\u001b[0m, in \u001b[0;36m_make_iterencode.<locals>._iterencode\u001b[0;34m(o, _current_indent_level)\u001b[0m\n\u001b[1;32m    434\u001b[0m     markerid \u001b[39m=\u001b[39m \u001b[39mid\u001b[39m(o)\n\u001b[1;32m    435\u001b[0m     \u001b[39mif\u001b[39;00m markerid \u001b[39min\u001b[39;00m markers:\n\u001b[0;32m--> 436\u001b[0m         \u001b[39mraise\u001b[39;00m \u001b[39mValueError\u001b[39;00m(\u001b[39m\"\u001b[39m\u001b[39mCircular reference detected\u001b[39m\u001b[39m\"\u001b[39m)\n\u001b[1;32m    437\u001b[0m     markers[markerid] \u001b[39m=\u001b[39m o\n\u001b[1;32m    438\u001b[0m o \u001b[39m=\u001b[39m _default(o)\n",
      "\u001b[0;31mValueError\u001b[0m: Circular reference detected"
     ]
    }
   ],
   "source": [
    "for i, batch in enumerate(data_loader):\n",
    "        images, labels = batch\n",
    "        images = images.squeeze().to(device)\n",
    "        labels = labels.squeeze().to(device)\n",
    "\n",
    "        tgt_classes = torch.tensor([random.choice(synset_closest_idx[label.item()]) for label in labels]).to(device)\n",
    "        for j, label in enumerate(labels):\n",
    "                print(f\"converting {i} from : {i2h[labels[j].item()]} to: {i2h[tgt_classes[j].item()]}\")\n",
    "        \n",
    "\n",
    "        #plot images in batch side by side\n",
    "        plt.imshow(torchvision.utils.make_grid(images, nrow=bs).permute(1,2,0).cpu().numpy())\n",
    "        plt.show()\n",
    "\n",
    "        init_images = images.clone()\n",
    "        sampler.init_images = init_images\n",
    "        sampler.init_labels = labels\n",
    "        init_latent = model.get_first_stage_encoding(model.encode_first_stage(_unmap_img(init_images))) # move to latent space\n",
    "        print(f\"init latent shape: {init_latent.shape}\")\n",
    "        print(f\"init images shape: {init_images.shape}\")\n",
    "        #(model, sampler, classes, ddim_steps, scale, init_image=None, t_enc=None, init_latent=None, ccdddim = False, latent_t_0 = True)\n",
    "        out =generate_samples_new(model, sampler, tgt_classes, ddim_steps, scale, init_latent=init_latent, t_enc=t_enc, init_image=init_images, ccdddim=True, latent_t_0=False)\n",
    "\n",
    "        all_samples = out[\"samples\"]\n",
    "        all_videos = out[\"videos\"]\n",
    "        all_probs = out[\"probs\"]\n",
    "\n",
    "        # Loop through your data and update the table incrementally\n",
    "        for i in range(bs):\n",
    "                # Generate data for the current row\n",
    "                src_image = sampler.init_images[i] #all_samples[i][0]\n",
    "                src_image = wandb.Image(src_image)\n",
    "                #my_table.update_column(\"image\", [wandb.Image(src_image)], row_idx=i)\n",
    "                gen_image = all_samples[0][i]\n",
    "                # gen_images = []\n",
    "                # for j in range(n_samples_per_class):\n",
    "                #         gen_image = all_samples[i][j+1]\n",
    "                #         gen_images.append(wandb.Image(gen_image))\n",
    "                #         #my_table.update_column(f\"gen_image_{j}\", [wandb.Image(gen_image)], row_idx=i)\n",
    "\n",
    "                class_predictions = all_probs[0][i]\n",
    "                source = i2h[labels[i].item()] #\n",
    "                target = i2h[tgt_classes[i].item()]\n",
    "\n",
    "                #diff = 255.*(sampler.init_images[i]-all_samples[0][i]).permute(0, 2, 3, 1).detach().cpu().numpy()\n",
    "                diff = 255.*(sampler.init_images[i]-all_samples[0][i]).permute(1, 2, 0).detach().cpu().numpy()\n",
    "                closeness_2 = int(np.linalg.norm(diff.astype(np.uint8), axis=-1).mean())\n",
    "                closeness_1 = int(np.abs(diff).sum(axis=-1).mean())\n",
    "\n",
    "                video = wandb.Video((255.*all_videos[0][i]).detach().cpu().to(torch.uint8), fps=1, format=\"gif\")\n",
    "\n",
    "                #[\"image\", \"source\", \"target\", \"gen_image\",  \"class_pred\", \"closness_1\", \"closness_2\", \"video\"]\n",
    "                my_table.add_data(src_image, source, target, gen_image, class_predictions, closeness_1, closeness_2, video)\n",
    "\n",
    "                run.log({\"dvce_video\": my_table})\n",
    "\n",
    "run.log({\"dvce_video_complete\": my_table})\n",
    "\n",
    "\n"
   ]
  },
  {
   "cell_type": "code",
   "execution_count": 68,
   "metadata": {},
   "outputs": [
    {
     "data": {
      "text/plain": [
       "0.4539249"
      ]
     },
     "execution_count": 68,
     "metadata": {},
     "output_type": "execute_result"
    }
   ],
   "source": [
    "class_predictions"
   ]
  },
  {
   "cell_type": "code",
   "execution_count": 47,
   "metadata": {},
   "outputs": [
    {
     "data": {
      "text/plain": [
       "torch.Size([12, 3, 256, 512])"
      ]
     },
     "execution_count": 47,
     "metadata": {},
     "output_type": "execute_result"
    }
   ],
   "source": [
    "all_videos[0].shape"
   ]
  },
  {
   "cell_type": "code",
   "execution_count": 36,
   "metadata": {},
   "outputs": [
    {
     "data": {
      "text/plain": [
       "(torch.Size([3, 256, 256]), torch.Size([3, 256, 256]))"
      ]
     },
     "execution_count": 36,
     "metadata": {},
     "output_type": "execute_result"
    }
   ],
   "source": [
    "sampler.init_images[i].shape, all_samples[0][i].shape"
   ]
  },
  {
   "cell_type": "code",
   "execution_count": 42,
   "metadata": {},
   "outputs": [],
   "source": [
    "diff = 255.*(sampler.init_images[i]-all_samples[0][i]).permute(1, 2, 0).detach().cpu().numpy()"
   ]
  },
  {
   "cell_type": "code",
   "execution_count": 43,
   "metadata": {},
   "outputs": [
    {
     "data": {
      "text/plain": [
       "(256, 256, 3)"
      ]
     },
     "execution_count": 43,
     "metadata": {},
     "output_type": "execute_result"
    }
   ],
   "source": [
    "diff.shape"
   ]
  },
  {
   "cell_type": "code",
   "execution_count": 38,
   "metadata": {},
   "outputs": [
    {
     "data": {
      "text/plain": [
       "1.2132209865376353"
      ]
     },
     "execution_count": 38,
     "metadata": {},
     "output_type": "execute_result"
    }
   ],
   "source": [
    "diff\n"
   ]
  },
  {
   "cell_type": "code",
   "execution_count": null,
   "metadata": {},
   "outputs": [],
   "source": [
    "for i, sample in enumerate(dataset, 14736):\n",
    "    image, label = dataset[i]\n",
    "    tgt_classes = synset_closest_idx[label]\n",
    "    print(f\"converting {i} from : {i2h[label]} to: {[i2h[tgt_class] for tgt_class in tgt_classes]}\")\n",
    "    init_image = image.repeat(n_samples_per_class, 1, 1, 1).to(device)\n",
    "    plt.imshow(init_image[0].permute(1, 2, 0).detach().cpu().numpy())\n",
    "    plt.show()\n",
    "    sampler.init_images = init_image\n",
    "    \n",
    "    sampler.init_labels = n_samples_per_class*[label]\n",
    "    mapped_image = _unmap_img(init_image)\n",
    "    init_latent = model.get_first_stage_encoding(model.encode_first_stage(_unmap_img(init_image))) # move to latent space\n",
    "   \n",
    "    out =generate_samples(model, sampler, tgt_classes, n_samples_per_class, ddim_steps, scale, init_latent=init_latent, t_enc=t_enc, init_image=init_image, ccdddim=True)\n",
    "\n",
    "    all_samples = out[\"samples\"]\n",
    "    all_videos = out[\"videos\"]\n",
    "    all_probs = out[\"probs\"]\n",
    "\n",
    "    # Loop through your data and update the table incrementally\n",
    "    for i in range(len(all_probs)):\n",
    "        # Generate data for the current row\n",
    "        src_image = all_samples[i][0]\n",
    "        src_image = wandb.Image(src_image)\n",
    "        #my_table.update_column(\"image\", [wandb.Image(src_image)], row_idx=i)\n",
    "        gen_images = []\n",
    "        for j in range(n_samples_per_class):\n",
    "            gen_image = all_samples[i][j+1]\n",
    "            gen_images.append(wandb.Image(gen_image))\n",
    "            #my_table.update_column(f\"gen_image_{j}\", [wandb.Image(gen_image)], row_idx=i)\n",
    "\n",
    "        class_prediction = all_probs[i]\n",
    "        source = i2h[label]\n",
    "        target = i2h[tgt_classes[i]]\n",
    "\n",
    "        diff = 255.*(init_image-all_samples[i][1:]).permute(0, 2, 3, 1).detach().cpu().numpy()\n",
    "        closeness_2 = int(np.linalg.norm(diff.astype(np.uint8), axis=-1).mean())\n",
    "        closeness_1 = int(np.abs(diff).sum(axis=-1).mean())\n",
    "\n",
    "        video = wandb.Video((255.*all_videos[i]).to(torch.uint8), fps=1, format=\"gif\")\n",
    "        my_table.add_data(src_image, source, target, *gen_images, class_prediction, closeness_1, closeness_2, video)\n",
    "\n",
    "        run.log({\"dvce_video\": my_table})\n",
    "\n",
    "run.log({\"dvce_video_complete\": my_table})"
   ]
  },
  {
   "cell_type": "code",
   "execution_count": null,
   "metadata": {},
   "outputs": [],
   "source": [
    "image.size()"
   ]
  },
  {
   "cell_type": "code",
   "execution_count": null,
   "metadata": {},
   "outputs": [],
   "source": []
  },
  {
   "cell_type": "code",
   "execution_count": 8,
   "metadata": {},
   "outputs": [
    {
     "data": {
      "text/html": [
       "Finishing last run (ID:5sacgh3j) before initializing another..."
      ],
      "text/plain": [
       "<IPython.core.display.HTML object>"
      ]
     },
     "metadata": {},
     "output_type": "display_data"
    },
    {
     "data": {
      "text/html": [
       "Waiting for W&B process to finish... <strong style=\"color:green\">(success).</strong>"
      ],
      "text/plain": [
       "<IPython.core.display.HTML object>"
      ]
     },
     "metadata": {},
     "output_type": "display_data"
    },
    {
     "data": {
      "text/html": [
       " View run <strong style=\"color:#cdcd00\">twilight-frog-3</strong> at: <a href=\"https://wandb.ai/kifarid/stable-diffusion/runs/5sacgh3j\" target=\"_blank\">https://wandb.ai/kifarid/stable-diffusion/runs/5sacgh3j</a><br/>Synced 5 W&B file(s), 0 media file(s), 0 artifact file(s) and 0 other file(s)"
      ],
      "text/plain": [
       "<IPython.core.display.HTML object>"
      ]
     },
     "metadata": {},
     "output_type": "display_data"
    },
    {
     "data": {
      "text/html": [
       "Find logs at: <code>./wandb/run-20230426_171629-5sacgh3j/logs</code>"
      ],
      "text/plain": [
       "<IPython.core.display.HTML object>"
      ]
     },
     "metadata": {},
     "output_type": "display_data"
    },
    {
     "data": {
      "text/html": [
       "Successfully finished last run (ID:5sacgh3j). Initializing new run:<br/>"
      ],
      "text/plain": [
       "<IPython.core.display.HTML object>"
      ]
     },
     "metadata": {},
     "output_type": "display_data"
    },
    {
     "data": {
      "application/vnd.jupyter.widget-view+json": {
       "model_id": "f054655e0bb34de68f76be3076970161",
       "version_major": 2,
       "version_minor": 0
      },
      "text/plain": [
       "VBox(children=(Label(value='Waiting for wandb.init()...\\r'), FloatProgress(value=0.016670728798878067, max=1.0…"
      ]
     },
     "metadata": {},
     "output_type": "display_data"
    },
    {
     "data": {
      "text/html": [
       "wandb version 0.15.0 is available!  To upgrade, please run:\n",
       " $ pip install wandb --upgrade"
      ],
      "text/plain": [
       "<IPython.core.display.HTML object>"
      ]
     },
     "metadata": {},
     "output_type": "display_data"
    },
    {
     "data": {
      "text/html": [
       "Tracking run with wandb version 0.13.9"
      ],
      "text/plain": [
       "<IPython.core.display.HTML object>"
      ]
     },
     "metadata": {},
     "output_type": "display_data"
    },
    {
     "data": {
      "text/html": [
       "Run data is saved locally in <code>/misc/student/faridk/stable-diffusion/wandb/run-20230426_171653-s2wmaikf</code>"
      ],
      "text/plain": [
       "<IPython.core.display.HTML object>"
      ]
     },
     "metadata": {},
     "output_type": "display_data"
    },
    {
     "data": {
      "text/html": [
       "Syncing run <strong><a href=\"https://wandb.ai/kifarid/stable-diffusion/runs/s2wmaikf\" target=\"_blank\">fresh-waterfall-4</a></strong> to <a href=\"https://wandb.ai/kifarid/stable-diffusion\" target=\"_blank\">Weights & Biases</a> (<a href=\"https://wandb.me/run\" target=\"_blank\">docs</a>)<br/>"
      ],
      "text/plain": [
       "<IPython.core.display.HTML object>"
      ]
     },
     "metadata": {},
     "output_type": "display_data"
    },
    {
     "data": {
      "text/html": [
       " View project at <a href=\"https://wandb.ai/kifarid/stable-diffusion\" target=\"_blank\">https://wandb.ai/kifarid/stable-diffusion</a>"
      ],
      "text/plain": [
       "<IPython.core.display.HTML object>"
      ]
     },
     "metadata": {},
     "output_type": "display_data"
    },
    {
     "data": {
      "text/html": [
       " View run at <a href=\"https://wandb.ai/kifarid/stable-diffusion/runs/s2wmaikf\" target=\"_blank\">https://wandb.ai/kifarid/stable-diffusion/runs/s2wmaikf</a>"
      ],
      "text/plain": [
       "<IPython.core.display.HTML object>"
      ]
     },
     "metadata": {},
     "output_type": "display_data"
    }
   ],
   "source": [
    "import wandb\n",
    "run = wandb.init()\n",
    "artifact = run.use_artifact('kifarid/cdiff/run-awjfacel-dvce_video:v1', type='run_table')\n",
    "df = pd.DataFrame(data=artifact.get(\"dvce_video\").data, columns=artifact.get(\"dvce_video\").columns)\n",
    "memory_usage = df.memory_usage(deep=True).sum()\n",
    "print(f\"Memory usage of dataframe is {memory_usage/1e6} MB\")\n",
    "df.head()"
   ]
  },
  {
   "cell_type": "code",
   "execution_count": 49,
   "metadata": {},
   "outputs": [
    {
     "data": {
      "text/plain": [
       "<ArtifactFiles kifarid/cdiff/run-awjfacel-dvce_video:v1 (16)>"
      ]
     },
     "execution_count": 49,
     "metadata": {},
     "output_type": "execute_result"
    }
   ],
   "source": [
    "artifact.files()"
   ]
  },
  {
   "cell_type": "code",
   "execution_count": 50,
   "metadata": {},
   "outputs": [
    {
     "name": "stderr",
     "output_type": "stream",
     "text": [
      "\u001b[34m\u001b[1mwandb\u001b[0m:   16 of 16 files downloaded.  \n",
      "\u001b[34m\u001b[1mwandb\u001b[0m:   16 of 16 files downloaded.  \n"
     ]
    },
    {
     "name": "stdout",
     "output_type": "stream",
     "text": [
      "Memory usage of dataframe is 0.002128 MB\n"
     ]
    }
   ],
   "source": [
    "df = pd.DataFrame(data=artifact.get(\"dvce_video\").data, columns=artifact.get(\"dvce_video\").columns)\n",
    "df.head()\n",
    "memory_usage = df.memory_usage(deep=True).sum()\n",
    "print(f\"Memory usage of dataframe is {memory_usage/1e6} MB\")"
   ]
  },
  {
   "cell_type": "code",
   "execution_count": 51,
   "metadata": {},
   "outputs": [
    {
     "data": {
      "text/html": [
       "<div>\n",
       "<style scoped>\n",
       "    .dataframe tbody tr th:only-of-type {\n",
       "        vertical-align: middle;\n",
       "    }\n",
       "\n",
       "    .dataframe tbody tr th {\n",
       "        vertical-align: top;\n",
       "    }\n",
       "\n",
       "    .dataframe thead th {\n",
       "        text-align: right;\n",
       "    }\n",
       "</style>\n",
       "<table border=\"1\" class=\"dataframe\">\n",
       "  <thead>\n",
       "    <tr style=\"text-align: right;\">\n",
       "      <th></th>\n",
       "      <th>image</th>\n",
       "      <th>source</th>\n",
       "      <th>target</th>\n",
       "      <th>gen_image</th>\n",
       "      <th>class_pred</th>\n",
       "      <th>closness_1</th>\n",
       "      <th>closness_2</th>\n",
       "      <th>video</th>\n",
       "    </tr>\n",
       "  </thead>\n",
       "  <tbody>\n",
       "    <tr>\n",
       "      <th>0</th>\n",
       "      <td>&lt;wandb.sdk.data_types.image.Image object at 0x...</td>\n",
       "      <td>tench, Tinca tinca</td>\n",
       "      <td>puffer, pufferfish, blowfish, globefish</td>\n",
       "      <td>&lt;wandb.sdk.data_types.image.Image object at 0x...</td>\n",
       "      <td>0.001144</td>\n",
       "      <td>0</td>\n",
       "      <td>0</td>\n",
       "      <td>&lt;wandb.sdk.data_types.video.Video object at 0x...</td>\n",
       "    </tr>\n",
       "    <tr>\n",
       "      <th>1</th>\n",
       "      <td>&lt;wandb.sdk.data_types.image.Image object at 0x...</td>\n",
       "      <td>goldfish, Carassius auratus</td>\n",
       "      <td>coho, cohoe, coho salmon, blue jack, silver sa...</td>\n",
       "      <td>&lt;wandb.sdk.data_types.image.Image object at 0x...</td>\n",
       "      <td>0.001181</td>\n",
       "      <td>24184</td>\n",
       "      <td>104</td>\n",
       "      <td>&lt;wandb.sdk.data_types.video.Video object at 0x...</td>\n",
       "    </tr>\n",
       "    <tr>\n",
       "      <th>2</th>\n",
       "      <td>&lt;wandb.sdk.data_types.image.Image object at 0x...</td>\n",
       "      <td>great white shark, white shark, man-eater, man...</td>\n",
       "      <td>tiger shark, Galeocerdo cuvieri</td>\n",
       "      <td>&lt;wandb.sdk.data_types.image.Image object at 0x...</td>\n",
       "      <td>0.026806</td>\n",
       "      <td>0</td>\n",
       "      <td>0</td>\n",
       "      <td>&lt;wandb.sdk.data_types.video.Video object at 0x...</td>\n",
       "    </tr>\n",
       "    <tr>\n",
       "      <th>3</th>\n",
       "      <td>&lt;wandb.sdk.data_types.image.Image object at 0x...</td>\n",
       "      <td>tiger shark, Galeocerdo cuvieri</td>\n",
       "      <td>electric ray, crampfish, numbfish, torpedo</td>\n",
       "      <td>&lt;wandb.sdk.data_types.image.Image object at 0x...</td>\n",
       "      <td>0.001419</td>\n",
       "      <td>20287</td>\n",
       "      <td>94</td>\n",
       "      <td>&lt;wandb.sdk.data_types.video.Video object at 0x...</td>\n",
       "    </tr>\n",
       "    <tr>\n",
       "      <th>4</th>\n",
       "      <td>&lt;wandb.sdk.data_types.image.Image object at 0x...</td>\n",
       "      <td>hammerhead, hammerhead shark</td>\n",
       "      <td>tiger shark, Galeocerdo cuvieri</td>\n",
       "      <td>&lt;wandb.sdk.data_types.image.Image object at 0x...</td>\n",
       "      <td>0.026606</td>\n",
       "      <td>0</td>\n",
       "      <td>0</td>\n",
       "      <td>&lt;wandb.sdk.data_types.video.Video object at 0x...</td>\n",
       "    </tr>\n",
       "  </tbody>\n",
       "</table>\n",
       "</div>"
      ],
      "text/plain": [
       "                                               image  \\\n",
       "0  <wandb.sdk.data_types.image.Image object at 0x...   \n",
       "1  <wandb.sdk.data_types.image.Image object at 0x...   \n",
       "2  <wandb.sdk.data_types.image.Image object at 0x...   \n",
       "3  <wandb.sdk.data_types.image.Image object at 0x...   \n",
       "4  <wandb.sdk.data_types.image.Image object at 0x...   \n",
       "\n",
       "                                              source  \\\n",
       "0                                 tench, Tinca tinca   \n",
       "1                        goldfish, Carassius auratus   \n",
       "2  great white shark, white shark, man-eater, man...   \n",
       "3                    tiger shark, Galeocerdo cuvieri   \n",
       "4                       hammerhead, hammerhead shark   \n",
       "\n",
       "                                              target  \\\n",
       "0            puffer, pufferfish, blowfish, globefish   \n",
       "1  coho, cohoe, coho salmon, blue jack, silver sa...   \n",
       "2                    tiger shark, Galeocerdo cuvieri   \n",
       "3         electric ray, crampfish, numbfish, torpedo   \n",
       "4                    tiger shark, Galeocerdo cuvieri   \n",
       "\n",
       "                                           gen_image  class_pred  closness_1  \\\n",
       "0  <wandb.sdk.data_types.image.Image object at 0x...    0.001144           0   \n",
       "1  <wandb.sdk.data_types.image.Image object at 0x...    0.001181       24184   \n",
       "2  <wandb.sdk.data_types.image.Image object at 0x...    0.026806           0   \n",
       "3  <wandb.sdk.data_types.image.Image object at 0x...    0.001419       20287   \n",
       "4  <wandb.sdk.data_types.image.Image object at 0x...    0.026606           0   \n",
       "\n",
       "   closness_2                                              video  \n",
       "0           0  <wandb.sdk.data_types.video.Video object at 0x...  \n",
       "1         104  <wandb.sdk.data_types.video.Video object at 0x...  \n",
       "2           0  <wandb.sdk.data_types.video.Video object at 0x...  \n",
       "3          94  <wandb.sdk.data_types.video.Video object at 0x...  \n",
       "4           0  <wandb.sdk.data_types.video.Video object at 0x...  "
      ]
     },
     "execution_count": 51,
     "metadata": {},
     "output_type": "execute_result"
    }
   ],
   "source": [
    "df.head()"
   ]
  },
  {
   "cell_type": "code",
   "execution_count": null,
   "metadata": {},
   "outputs": [],
   "source": []
  }
 ],
 "metadata": {
  "accelerator": "GPU",
  "colab": {
   "collapsed_sections": [],
   "name": "latent-imagenet-diffusion.ipynb",
   "provenance": []
  },
  "kernelspec": {
   "display_name": "ldm",
   "language": "python",
   "name": "ldm"
  },
  "language_info": {
   "codemirror_mode": {
    "name": "ipython",
    "version": 3
   },
   "file_extension": ".py",
   "mimetype": "text/x-python",
   "name": "python",
   "nbconvert_exporter": "python",
   "pygments_lexer": "ipython3",
   "version": "3.8.5"
  }
 },
 "nbformat": 4,
 "nbformat_minor": 0
}
